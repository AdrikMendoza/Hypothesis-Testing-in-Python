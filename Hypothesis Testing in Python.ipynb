{
 "cells": [
  {
   "cell_type": "markdown",
   "id": "b48047ae",
   "metadata": {},
   "source": [
    "# 1. Yum, That Dish Tests Good\n",
    "## To the lab for testing\n",
    "\n",
    "**Hypotesis**\n",
    "\n",
    "> **The mean of annual compensation of the population of data scientists is 110,000 usd.**"
   ]
  },
  {
   "cell_type": "code",
   "execution_count": 2,
   "id": "19fd6ee9",
   "metadata": {},
   "outputs": [
    {
     "data": {
      "text/html": [
       "<div>\n",
       "<style scoped>\n",
       "    .dataframe tbody tr th:only-of-type {\n",
       "        vertical-align: middle;\n",
       "    }\n",
       "\n",
       "    .dataframe tbody tr th {\n",
       "        vertical-align: top;\n",
       "    }\n",
       "\n",
       "    .dataframe thead th {\n",
       "        text-align: right;\n",
       "    }\n",
       "</style>\n",
       "<table border=\"1\" class=\"dataframe\">\n",
       "  <thead>\n",
       "    <tr style=\"text-align: right;\">\n",
       "      <th></th>\n",
       "      <th>respondent</th>\n",
       "      <th>main_branch</th>\n",
       "      <th>hobbyist</th>\n",
       "      <th>age</th>\n",
       "      <th>age_1st_code</th>\n",
       "      <th>age_first_code_cut</th>\n",
       "      <th>comp_freq</th>\n",
       "      <th>comp_total</th>\n",
       "      <th>converted_comp</th>\n",
       "      <th>country</th>\n",
       "      <th>...</th>\n",
       "      <th>survey_length</th>\n",
       "      <th>trans</th>\n",
       "      <th>undergrad_major</th>\n",
       "      <th>webframe_desire_next_year</th>\n",
       "      <th>webframe_worked_with</th>\n",
       "      <th>welcome_change</th>\n",
       "      <th>work_week_hrs</th>\n",
       "      <th>years_code</th>\n",
       "      <th>years_code_pro</th>\n",
       "      <th>age_cat</th>\n",
       "    </tr>\n",
       "  </thead>\n",
       "  <tbody>\n",
       "    <tr>\n",
       "      <th>1094</th>\n",
       "      <td>25405.0</td>\n",
       "      <td>I am a developer by profession</td>\n",
       "      <td>Yes</td>\n",
       "      <td>22.0</td>\n",
       "      <td>14.0</td>\n",
       "      <td>adult</td>\n",
       "      <td>Yearly</td>\n",
       "      <td>90000.0</td>\n",
       "      <td>90000.0</td>\n",
       "      <td>United States</td>\n",
       "      <td>...</td>\n",
       "      <td>Appropriate in length</td>\n",
       "      <td>No</td>\n",
       "      <td>Computer science, computer engineering, or sof...</td>\n",
       "      <td>jQuery</td>\n",
       "      <td>jQuery;React.js</td>\n",
       "      <td>Just as welcome now as I felt last year</td>\n",
       "      <td>50.0</td>\n",
       "      <td>8.0</td>\n",
       "      <td>4.0</td>\n",
       "      <td>Under 30</td>\n",
       "    </tr>\n",
       "  </tbody>\n",
       "</table>\n",
       "<p>1 rows × 63 columns</p>\n",
       "</div>"
      ],
      "text/plain": [
       "      respondent                     main_branch hobbyist   age  age_1st_code  \\\n",
       "1094     25405.0  I am a developer by profession      Yes  22.0          14.0   \n",
       "\n",
       "     age_first_code_cut comp_freq  comp_total  converted_comp        country  \\\n",
       "1094              adult    Yearly     90000.0         90000.0  United States   \n",
       "\n",
       "      ...          survey_length trans  \\\n",
       "1094  ...  Appropriate in length    No   \n",
       "\n",
       "                                        undergrad_major  \\\n",
       "1094  Computer science, computer engineering, or sof...   \n",
       "\n",
       "     webframe_desire_next_year webframe_worked_with  \\\n",
       "1094                    jQuery      jQuery;React.js   \n",
       "\n",
       "                               welcome_change work_week_hrs years_code  \\\n",
       "1094  Just as welcome now as I felt last year          50.0        8.0   \n",
       "\n",
       "     years_code_pro   age_cat  \n",
       "1094            4.0  Under 30  \n",
       "\n",
       "[1 rows x 63 columns]"
      ]
     },
     "execution_count": 2,
     "metadata": {},
     "output_type": "execute_result"
    }
   ],
   "source": [
    "import pandas as pd\n",
    "\n",
    "stack_overflow = pd.read_feather('stack_overflow.feather')\n",
    "stack_overflow.sample()"
   ]
  },
  {
   "cell_type": "markdown",
   "id": "2177789e",
   "metadata": {},
   "source": [
    "**Point estimate**"
   ]
  },
  {
   "cell_type": "code",
   "execution_count": 3,
   "id": "6dab71d0",
   "metadata": {},
   "outputs": [
    {
     "data": {
      "text/plain": [
       "119574.71738168952"
      ]
     },
     "execution_count": 3,
     "metadata": {},
     "output_type": "execute_result"
    }
   ],
   "source": [
    "mean_comp_samp = stack_overflow['converted_comp'].mean()\n",
    "mean_comp_samp"
   ]
  },
  {
   "cell_type": "markdown",
   "id": "067e6392",
   "metadata": {},
   "source": [
    "> The result is different from out hypotesis, but is it meaningfully different?\n",
    "\n",
    "**Bootstrap distribution**\n"
   ]
  },
  {
   "cell_type": "code",
   "execution_count": 4,
   "id": "3740ba10",
   "metadata": {},
   "outputs": [],
   "source": [
    "import numpy as np\n",
    "\n",
    "# Step 3: Repeat steps 1 and 2 many times, appending to a list.\n",
    "so_boot_distn = []\n",
    "for i in range(5000):\n",
    "    so_boot_distn.append(\n",
    "    # Step 2: Calculate point estimate\n",
    "    np.mean(\n",
    "        # Step 1. Resampling\n",
    "        stack_overflow.sample(frac=1, replace=True)['converted_comp']\n",
    "    )\n",
    ")"
   ]
  },
  {
   "cell_type": "code",
   "execution_count": 6,
   "id": "2635f499",
   "metadata": {},
   "outputs": [
    {
     "data": {
      "image/png": "[encoded data removed]",
      "text/plain": [
       "<Figure size 432x288 with 1 Axes>"
      ]
     },
     "metadata": {
      "needs_background": "light"
     },
     "output_type": "display_data"
    }
   ],
   "source": [
    "import matplotlib.pyplot as plt\n",
    "plt.hist(so_boot_distn, bins=50)\n",
    "plt.show()"
   ]
  },
  {
   "cell_type": "markdown",
   "id": "f297cd80",
   "metadata": {},
   "source": [
    "> The bell shape means that it is roughly normally distributed.\n",
    "\n",
    "**Standard error**"
   ]
  },
  {
   "cell_type": "code",
   "execution_count": 7,
   "id": "05b24e16",
   "metadata": {
    "scrolled": true
   },
   "outputs": [
    {
     "data": {
      "text/plain": [
       "5538.390917513913"
      ]
     },
     "execution_count": 7,
     "metadata": {},
     "output_type": "execute_result"
    }
   ],
   "source": [
    "std_error = np.std(so_boot_distn, ddof=1)\n",
    "std_error # Standard error of the bootstrap"
   ]
  },
  {
   "cell_type": "markdown",
   "id": "d63c253b",
   "metadata": {},
   "source": [
    "**z-score**\n",
    "\n",
    "Standarizing the values."
   ]
  },
  {
   "cell_type": "code",
   "execution_count": 8,
   "id": "93ccab39",
   "metadata": {},
   "outputs": [
    {
     "data": {
      "text/plain": [
       "1.7287904599532036"
      ]
     },
     "execution_count": 8,
     "metadata": {},
     "output_type": "execute_result"
    }
   ],
   "source": [
    "mean_comp_hyp = 110000\n",
    "\n",
    "z_score = (mean_comp_samp - mean_comp_hyp) / std_error\n",
    "z_score"
   ]
  },
  {
   "cell_type": "markdown",
   "id": "f8459d78",
   "metadata": {},
   "source": [
    "**Hypotesis testing use case:**\n",
    "> Determine whether sample statistic are close to or far away from expected (or \"hypothesized\" values)\n",
    "\n",
    "> A/B testing lets you compare scenarios to see which best achieves some goal."
   ]
  },
  {
   "cell_type": "markdown",
   "id": "be1a2712",
   "metadata": {},
   "source": [
    "### Calculating the sample mean\n"
   ]
  },
  {
   "cell_type": "code",
   "execution_count": 9,
   "id": "509f0d36",
   "metadata": {},
   "outputs": [
    {
     "data": {
      "text/html": [
       "<div>\n",
       "<style scoped>\n",
       "    .dataframe tbody tr th:only-of-type {\n",
       "        vertical-align: middle;\n",
       "    }\n",
       "\n",
       "    .dataframe tbody tr th {\n",
       "        vertical-align: top;\n",
       "    }\n",
       "\n",
       "    .dataframe thead th {\n",
       "        text-align: right;\n",
       "    }\n",
       "</style>\n",
       "<table border=\"1\" class=\"dataframe\">\n",
       "  <thead>\n",
       "    <tr style=\"text-align: right;\">\n",
       "      <th></th>\n",
       "      <th>id</th>\n",
       "      <th>country</th>\n",
       "      <th>managed_by</th>\n",
       "      <th>fulfill_via</th>\n",
       "      <th>vendor_inco_term</th>\n",
       "      <th>shipment_mode</th>\n",
       "      <th>late_delivery</th>\n",
       "      <th>late</th>\n",
       "      <th>product_group</th>\n",
       "      <th>sub_classification</th>\n",
       "      <th>...</th>\n",
       "      <th>line_item_quantity</th>\n",
       "      <th>line_item_value</th>\n",
       "      <th>pack_price</th>\n",
       "      <th>unit_price</th>\n",
       "      <th>manufacturing_site</th>\n",
       "      <th>first_line_designation</th>\n",
       "      <th>weight_kilograms</th>\n",
       "      <th>freight_cost_usd</th>\n",
       "      <th>freight_cost_groups</th>\n",
       "      <th>line_item_insurance_usd</th>\n",
       "    </tr>\n",
       "  </thead>\n",
       "  <tbody>\n",
       "    <tr>\n",
       "      <th>0</th>\n",
       "      <td>36203.0</td>\n",
       "      <td>Nigeria</td>\n",
       "      <td>PMO - US</td>\n",
       "      <td>Direct Drop</td>\n",
       "      <td>EXW</td>\n",
       "      <td>Air</td>\n",
       "      <td>1.0</td>\n",
       "      <td>Yes</td>\n",
       "      <td>HRDT</td>\n",
       "      <td>HIV test</td>\n",
       "      <td>...</td>\n",
       "      <td>2996.0</td>\n",
       "      <td>266644.00</td>\n",
       "      <td>89.00</td>\n",
       "      <td>0.89</td>\n",
       "      <td>Alere Medical Co., Ltd.</td>\n",
       "      <td>Yes</td>\n",
       "      <td>1426.0</td>\n",
       "      <td>33279.83</td>\n",
       "      <td>expensive</td>\n",
       "      <td>373.83</td>\n",
       "    </tr>\n",
       "    <tr>\n",
       "      <th>1</th>\n",
       "      <td>30998.0</td>\n",
       "      <td>Botswana</td>\n",
       "      <td>PMO - US</td>\n",
       "      <td>Direct Drop</td>\n",
       "      <td>EXW</td>\n",
       "      <td>Air</td>\n",
       "      <td>0.0</td>\n",
       "      <td>No</td>\n",
       "      <td>HRDT</td>\n",
       "      <td>HIV test</td>\n",
       "      <td>...</td>\n",
       "      <td>25.0</td>\n",
       "      <td>800.00</td>\n",
       "      <td>32.00</td>\n",
       "      <td>1.60</td>\n",
       "      <td>Trinity Biotech, Plc</td>\n",
       "      <td>Yes</td>\n",
       "      <td>10.0</td>\n",
       "      <td>559.89</td>\n",
       "      <td>reasonable</td>\n",
       "      <td>1.72</td>\n",
       "    </tr>\n",
       "    <tr>\n",
       "      <th>2</th>\n",
       "      <td>69871.0</td>\n",
       "      <td>Vietnam</td>\n",
       "      <td>PMO - US</td>\n",
       "      <td>Direct Drop</td>\n",
       "      <td>EXW</td>\n",
       "      <td>Air</td>\n",
       "      <td>0.0</td>\n",
       "      <td>No</td>\n",
       "      <td>ARV</td>\n",
       "      <td>Adult</td>\n",
       "      <td>...</td>\n",
       "      <td>22925.0</td>\n",
       "      <td>110040.00</td>\n",
       "      <td>4.80</td>\n",
       "      <td>0.08</td>\n",
       "      <td>Hetero Unit III Hyderabad IN</td>\n",
       "      <td>Yes</td>\n",
       "      <td>3723.0</td>\n",
       "      <td>19056.13</td>\n",
       "      <td>expensive</td>\n",
       "      <td>181.57</td>\n",
       "    </tr>\n",
       "    <tr>\n",
       "      <th>3</th>\n",
       "      <td>17648.0</td>\n",
       "      <td>South Africa</td>\n",
       "      <td>PMO - US</td>\n",
       "      <td>Direct Drop</td>\n",
       "      <td>DDP</td>\n",
       "      <td>Ocean</td>\n",
       "      <td>0.0</td>\n",
       "      <td>No</td>\n",
       "      <td>ARV</td>\n",
       "      <td>Adult</td>\n",
       "      <td>...</td>\n",
       "      <td>152535.0</td>\n",
       "      <td>361507.95</td>\n",
       "      <td>2.37</td>\n",
       "      <td>0.04</td>\n",
       "      <td>Aurobindo Unit III, India</td>\n",
       "      <td>Yes</td>\n",
       "      <td>7698.0</td>\n",
       "      <td>11372.23</td>\n",
       "      <td>expensive</td>\n",
       "      <td>779.41</td>\n",
       "    </tr>\n",
       "    <tr>\n",
       "      <th>4</th>\n",
       "      <td>5647.0</td>\n",
       "      <td>Uganda</td>\n",
       "      <td>PMO - US</td>\n",
       "      <td>Direct Drop</td>\n",
       "      <td>EXW</td>\n",
       "      <td>Air</td>\n",
       "      <td>0.0</td>\n",
       "      <td>No</td>\n",
       "      <td>HRDT</td>\n",
       "      <td>HIV test - Ancillary</td>\n",
       "      <td>...</td>\n",
       "      <td>850.0</td>\n",
       "      <td>8.50</td>\n",
       "      <td>0.01</td>\n",
       "      <td>0.00</td>\n",
       "      <td>Inverness Japan</td>\n",
       "      <td>Yes</td>\n",
       "      <td>56.0</td>\n",
       "      <td>360.00</td>\n",
       "      <td>reasonable</td>\n",
       "      <td>0.01</td>\n",
       "    </tr>\n",
       "  </tbody>\n",
       "</table>\n",
       "<p>5 rows × 27 columns</p>\n",
       "</div>"
      ],
      "text/plain": [
       "        id       country managed_by  fulfill_via vendor_inco_term  \\\n",
       "0  36203.0       Nigeria   PMO - US  Direct Drop              EXW   \n",
       "1  30998.0      Botswana   PMO - US  Direct Drop              EXW   \n",
       "2  69871.0       Vietnam   PMO - US  Direct Drop              EXW   \n",
       "3  17648.0  South Africa   PMO - US  Direct Drop              DDP   \n",
       "4   5647.0        Uganda   PMO - US  Direct Drop              EXW   \n",
       "\n",
       "  shipment_mode  late_delivery late product_group    sub_classification  ...  \\\n",
       "0           Air            1.0  Yes          HRDT              HIV test  ...   \n",
       "1           Air            0.0   No          HRDT              HIV test  ...   \n",
       "2           Air            0.0   No           ARV                 Adult  ...   \n",
       "3         Ocean            0.0   No           ARV                 Adult  ...   \n",
       "4           Air            0.0   No          HRDT  HIV test - Ancillary  ...   \n",
       "\n",
       "  line_item_quantity line_item_value pack_price unit_price  \\\n",
       "0             2996.0       266644.00      89.00       0.89   \n",
       "1               25.0          800.00      32.00       1.60   \n",
       "2            22925.0       110040.00       4.80       0.08   \n",
       "3           152535.0       361507.95       2.37       0.04   \n",
       "4              850.0            8.50       0.01       0.00   \n",
       "\n",
       "             manufacturing_site first_line_designation  weight_kilograms  \\\n",
       "0       Alere Medical Co., Ltd.                    Yes            1426.0   \n",
       "1          Trinity Biotech, Plc                    Yes              10.0   \n",
       "2  Hetero Unit III Hyderabad IN                    Yes            3723.0   \n",
       "3     Aurobindo Unit III, India                    Yes            7698.0   \n",
       "4               Inverness Japan                    Yes              56.0   \n",
       "\n",
       "   freight_cost_usd  freight_cost_groups  line_item_insurance_usd  \n",
       "0          33279.83            expensive                   373.83  \n",
       "1            559.89           reasonable                     1.72  \n",
       "2          19056.13            expensive                   181.57  \n",
       "3          11372.23            expensive                   779.41  \n",
       "4            360.00           reasonable                     0.01  \n",
       "\n",
       "[5 rows x 27 columns]"
      ]
     },
     "execution_count": 9,
     "metadata": {},
     "output_type": "execute_result"
    }
   ],
   "source": [
    "late_shipments = pd.read_feather('late_shipments.feather')\n",
    "late_shipments.head()"
   ]
  },
  {
   "cell_type": "code",
   "execution_count": 11,
   "id": "9a213505",
   "metadata": {
    "scrolled": true
   },
   "outputs": [
    {
     "data": {
      "text/plain": [
       "No     0.939\n",
       "Yes    0.061\n",
       "Name: late, dtype: float64"
      ]
     },
     "execution_count": 11,
     "metadata": {},
     "output_type": "execute_result"
    }
   ],
   "source": [
    "# Calculate the proportion of late shipments\n",
    "late_prop_samp = late_shipments['late'].value_counts(normalize=True)\n",
    "\n",
    "# Print the results\n",
    "late_prop_samp"
   ]
  },
  {
   "cell_type": "code",
   "execution_count": 13,
   "id": "bed954e2",
   "metadata": {},
   "outputs": [
    {
     "data": {
      "text/plain": [
       "0.061"
      ]
     },
     "execution_count": 13,
     "metadata": {},
     "output_type": "execute_result"
    }
   ],
   "source": [
    "late_shipments['late'].value_counts(normalize=True)[1]"
   ]
  },
  {
   "cell_type": "markdown",
   "id": "4428e3cd",
   "metadata": {},
   "source": [
    "> The proportion of late shipments in the sample is 0.061, or 6.1%.\n",
    "### Calculating a z-score\n",
    "\n",
    "**Hypothesis: The proportion of late shipments population is 6%.**"
   ]
  },
  {
   "cell_type": "code",
   "execution_count": 18,
   "id": "3166fbec",
   "metadata": {},
   "outputs": [],
   "source": [
    "late_shipments['late_bool'] = late_shipments['late'].map({\"Yes\": 1, \"No\": 0})"
   ]
  },
  {
   "cell_type": "code",
   "execution_count": 22,
   "id": "3d7c0e7c",
   "metadata": {},
   "outputs": [],
   "source": [
    "# Step 3: Repeat steps 1 and 2 many times, appending to a list.\n",
    "late_shipments_boot_distn = []\n",
    "for i in range(5000):\n",
    "    late_shipments_boot_distn.append(\n",
    "    # Step 2: Calculate point estimate\n",
    "    np.mean(\n",
    "        # Step 1. Resampling\n",
    "        late_shipments.sample(frac=1, replace=True)['late_bool']\n",
    "    )\n",
    ")"
   ]
  },
  {
   "cell_type": "code",
   "execution_count": 25,
   "id": "487a733f",
   "metadata": {},
   "outputs": [
    {
     "data": {
      "text/plain": [
       "0.061"
      ]
     },
     "execution_count": 25,
     "metadata": {},
     "output_type": "execute_result"
    }
   ],
   "source": [
    "late_prop_samp = late_shipments['late'].value_counts(normalize=True)[1]\n",
    "late_prop_samp"
   ]
  },
  {
   "cell_type": "code",
   "execution_count": 26,
   "id": "22bee555",
   "metadata": {},
   "outputs": [
    {
     "name": "stdout",
     "output_type": "stream",
     "text": [
      "0.13111968748071778\n"
     ]
    }
   ],
   "source": [
    "# Hypothesize that the proportion is 6%\n",
    "late_prop_hyp = 0.06\n",
    "\n",
    "# Calculate the standard error\n",
    "std_error = np.std(late_shipments_boot_distn, ddof=1)\n",
    "\n",
    "# Find z-score of late_prop_samp\n",
    "z_score = (late_prop_samp - late_prop_hyp) / std_error\n",
    "\n",
    "# Print z_score\n",
    "print(z_score)"
   ]
  },
  {
   "cell_type": "markdown",
   "id": "55c67a94",
   "metadata": {},
   "source": [
    "> The z-score is a standardized measure of the difference between the sample statistic and the hypothesized statistic.\n",
    "\n",
    "## A tail of two z's\n",
    "\n",
    "A **hypothesis** is a statement about an unknown population parameter.\n",
    "\n",
    "A **hypothesis test** is a test of two competing hypothesis.\n",
    "\n",
    "* The null hypothesis (**$H_0$**) is the existing data.\n",
    "\n",
    "* The alternative hypothesis (**$H_A$**) is the \"challenger\" idea of the researcher.\n",
    "\n",
    "Example:\n",
    "\n",
    "**$H_0$**: The proportion of data scientists starting programming as children is 35%.\n",
    "\n",
    "**$H_A$**: The proportion of data scientists starting programming as children is greater than 35%.\n",
    "\n",
    "* Either **$H_A$** or **$H_0$** is true, not both.\n",
    "\n",
    "* Initially, **$H_0$** is assumed to be true.\n",
    "\n",
    "* The test ends in either \"reject **$H_0$**\" or \"fail to reject **$H_0$**\".\n",
    "\n",
    "* If the evidence from the sample is \"significant\" that **$H_A$** is true, reject **$H_0$**, else choose **$H_0$**.\n",
    "\n",
    "\n",
    "**Hypothesis tests check if the sample statistics lie in the tails of the null distribution.**\n",
    "\n",
    "> Alternative _different_ from null ---> Two-Tailed\n",
    "\n",
    "> Alternative _greater_ than null ---> Right-Tailed\n",
    "\n",
    "> Alternative _less_ than null ---> Left-Tailed\n",
    "\n",
    "The tails of the distribution that are relevant depend on whether the alternative hypothesis refers to \"greater than\", \"less than\", or \"differences between.\"\n",
    "\n",
    "\n",
    "**$H_A$: The proportion of data scientists starting programming as children is greater than 35%.** \n",
    "\n",
    "> **This is a RIGHT-TAILED test**\n",
    "\n",
    "\n",
    "### p-values\n",
    "\n",
    "**P-Value: probability of obtaining a result, assuming the null hypothesis is true.**\n",
    "\n",
    "**Large p-value: Large support for **$H_0$****\n",
    "> Statistic likely not in the tail of the null distribution.\n",
    "\n",
    "**Small p-value: Strong evidence against **$H_0$**** (Close to zero)\n",
    "> Statistic likely in the tail of the null distribution."
   ]
  },
  {
   "cell_type": "code",
   "execution_count": 33,
   "id": "1cc9a3b8",
   "metadata": {},
   "outputs": [
    {
     "data": {
      "text/plain": [
       "0.39141972578505085"
      ]
     },
     "execution_count": 33,
     "metadata": {},
     "output_type": "execute_result"
    }
   ],
   "source": [
    "prop_child_samp = (stack_overflow['age_first_code_cut'] == 'child').mean()\n",
    "prop_child_samp"
   ]
  },
  {
   "cell_type": "code",
   "execution_count": 30,
   "id": "f0e3bf47",
   "metadata": {},
   "outputs": [],
   "source": [
    "# Step 3: Repeat steps 1 and 2 many times, appending to a list.\n",
    "first_code_boot_distn = []\n",
    "for i in range(5000):\n",
    "    first_code_boot_distn.append(\n",
    "    # Step 2: Calculate point estimate\n",
    "    np.mean(\n",
    "        # Step 1. Resampling\n",
    "        stack_overflow.sample(frac=1, replace=True)['age_first_code_cut'] == 'child'\n",
    "    )\n",
    ")"
   ]
  },
  {
   "cell_type": "code",
   "execution_count": 32,
   "id": "c7964bdb",
   "metadata": {},
   "outputs": [
    {
     "data": {
      "text/plain": [
       "0.01033695472955394"
      ]
     },
     "execution_count": 32,
     "metadata": {},
     "output_type": "execute_result"
    }
   ],
   "source": [
    "prop_child_hyp = 0.35\n",
    "\n",
    "std_error = np.std(first_code_boot_distn, ddof=1)\n",
    "std_error"
   ]
  },
  {
   "cell_type": "code",
   "execution_count": 35,
   "id": "540d169f",
   "metadata": {},
   "outputs": [
    {
     "data": {
      "text/plain": [
       "4.0069562911627665"
      ]
     },
     "execution_count": 35,
     "metadata": {},
     "output_type": "execute_result"
    }
   ],
   "source": [
    "z_score = (prop_child_samp - prop_child_hyp) / std_error\n",
    "z_score"
   ]
  },
  {
   "cell_type": "markdown",
   "id": "97fb9f6d",
   "metadata": {},
   "source": [
    "#### Calculating the p-value\n",
    "\n",
    "> **Left-tailed test use: _norm.cdf()_**\n",
    "\n",
    "> **Right-tailed test use: _1 - norm.cdf()_**"
   ]
  },
  {
   "cell_type": "code",
   "execution_count": 36,
   "id": "8949b98e",
   "metadata": {},
   "outputs": [
    {
     "data": {
      "text/plain": [
       "3.075311995492935e-05"
      ]
     },
     "execution_count": 36,
     "metadata": {},
     "output_type": "execute_result"
    }
   ],
   "source": [
    "from scipy.stats import norm\n",
    "1 - norm.cdf(z_score, loc=0, scale=1)"
   ]
  },
  {
   "cell_type": "markdown",
   "id": "0eb584ae",
   "metadata": {},
   "source": [
    "### Calculating p-values\n",
    "\n",
    "The null hypothesis, **$H_0$**, is that the proportion of late shipments is 6%.\n",
    "\n",
    "The alternative hypothesis, **$H_A$**, is that the proportion of late shipments is greater than 6%.\n",
    "\n",
    "\n",
    "> **This is a RIGHT-TAILED test**\n"
   ]
  },
  {
   "cell_type": "code",
   "execution_count": 37,
   "id": "e663310f",
   "metadata": {},
   "outputs": [
    {
     "name": "stdout",
     "output_type": "stream",
     "text": [
      "0.4478403136296041\n"
     ]
    }
   ],
   "source": [
    "late_prop_hyp = 0.06\n",
    "\n",
    "std_error = np.std(late_shipments_boot_distn, ddof=1)\n",
    "\n",
    "# Calculate the z-score of late_prop_samp\n",
    "z_score = (late_prop_samp - late_prop_hyp) / std_error\n",
    "\n",
    "# Calculate the p-value\n",
    "p_value = 1 - norm.cdf(z_score, loc=0, scale=1)\n",
    "                 \n",
    "# Print the p-value\n",
    "print(p_value) "
   ]
  },
  {
   "cell_type": "markdown",
   "id": "e188c667",
   "metadata": {},
   "source": [
    "> The p-value is calculated by transforming the z-score with the standard normal cumulative distribution function.\n",
    "\n",
    "## Statistically significant other\n",
    "\n",
    "**Significance level**: \n",
    "> The significance level of a hypothesis test (Alpha) is the threshold point for \"beyond a reasonable doubt\".\n",
    "\n",
    "* Common values of alpha are `0.2`, `0.1`, `0.05`, and `0.01`.\n",
    "\n",
    "* **If the p-value is less than or equal to alpha, we reject the null hypothesis. Otherwise, we fail to reject it.**\n",
    "\n",
    "* **Alpha should be set prior to donducting the hypothesis test.**"
   ]
  },
  {
   "cell_type": "code",
   "execution_count": 38,
   "id": "e855c41a",
   "metadata": {},
   "outputs": [
    {
     "data": {
      "text/plain": [
       "3.075311995492935e-05"
      ]
     },
     "execution_count": 38,
     "metadata": {},
     "output_type": "execute_result"
    }
   ],
   "source": [
    "alpha = 0.05\n",
    "\n",
    "prop_child_samp = (stack_overflow['age_first_code_cut'] == 'child').mean()\n",
    "\n",
    "prop_child_hyp = 0.35\n",
    "\n",
    "std_error = np.std(first_code_boot_distn, ddof=1)\n",
    "\n",
    "z_score = (prop_child_samp - prop_child_hyp) / std_error\n",
    "\n",
    "p_value = 1 - norm.cdf(z_score, loc=0, scale=1)\n",
    "\n",
    "p_value"
   ]
  },
  {
   "cell_type": "code",
   "execution_count": 39,
   "id": "837cc4fa",
   "metadata": {},
   "outputs": [
    {
     "data": {
      "text/plain": [
       "True"
      ]
     },
     "execution_count": 39,
     "metadata": {},
     "output_type": "execute_result"
    }
   ],
   "source": [
    "p_value <= alpha"
   ]
  },
  {
   "cell_type": "markdown",
   "id": "7ead4319",
   "metadata": {},
   "source": [
    "> **We reject the null hypothesis.**\n",
    "\n",
    "> **Reject $H_0$ in favor of $H_A$**\n",
    "\n",
    "##### Confidence interval\n",
    "\n",
    "For a significance level of alpha, it is common to choose a confidence level of `1 - alpha`.\n",
    "\n",
    "* `alpha = 0.05` ----> `95%` confidence interval."
   ]
  },
  {
   "cell_type": "code",
   "execution_count": 40,
   "id": "0964fb05",
   "metadata": {},
   "outputs": [
    {
     "data": {
      "text/plain": [
       "(0.37195931003980537, 0.41220698805838124)"
      ]
     },
     "execution_count": 40,
     "metadata": {},
     "output_type": "execute_result"
    }
   ],
   "source": [
    "lower = np.quantile(first_code_boot_distn, 0.025)\n",
    "upper = np.quantile(first_code_boot_distn, 0.975)\n",
    "lower, upper"
   ]
  },
  {
   "cell_type": "markdown",
   "id": "63b537ce",
   "metadata": {},
   "source": [
    "**Support $H_A$ when $H_0$ was correct: False Positive.** **TYPE I error**\n",
    "\n",
    "**Support $H_0$ when $H_A$ was correct: False Negative.** **TYPE II error**\n",
    "\n",
    "_Example_\n",
    "\n",
    "If p_value is less than or equal to alpha, we reject $H_0$\n",
    "\n",
    "**False Positive Type I Error:** Data scientists did not start coding as children at a higher rate.\n",
    "\n",
    "\n",
    "If p_value is greater than alpha, we fail to reject $H_0$\n",
    "\n",
    "**False Negative Type II Error:** Data scientists started coding as children at a higher rate.\n",
    "\n",
    "\n",
    "### Calculating a confidence interval\n"
   ]
  },
  {
   "cell_type": "code",
   "execution_count": 41,
   "id": "18de2c6f",
   "metadata": {},
   "outputs": [
    {
     "name": "stdout",
     "output_type": "stream",
     "text": [
      "(0.046, 0.077)\n"
     ]
    }
   ],
   "source": [
    "# Calculate 95% confidence interval using quantile method\n",
    "lower = np.quantile(late_shipments_boot_distn, 0.025)\n",
    "upper = np.quantile(late_shipments_boot_distn, 0.975)\n",
    "\n",
    "# Print the confidence interval\n",
    "print((lower, upper))"
   ]
  },
  {
   "cell_type": "markdown",
   "id": "2193d74c",
   "metadata": {},
   "source": [
    "> Does the confidence interval match up with the conclusion to stick with the original assumption that 6% is a reasonable value for the unknown population parameter?\n",
    "\n",
    "> When you have a confidence interval width equal to one minus the significance level, if the hypothesized population parameter is within the confidence interval, you should fail to reject the null hypothesis.\n",
    "\n",
    "> **ANSWER: Yes, since 0.06 is included in the 95% confidence interval and we failed to reject  due to a large p-value, the results are similar.**\n",
    "\n",
    "\n",
    "**FALSE POSITIVE TYPE I ERROR:** \n",
    "**(We chose $H_A$)**\n",
    "\n",
    "* **Rejecting the null hypothesis when in fact the null hypothesis is true.**\n",
    "\n",
    "* **Finding the defendant guilty when in fact the defendant was INNOCENT.**\n",
    "\n",
    "**FALSE NEGATIVE TYPE II ERROR:**\n",
    "**(We chose $H_0$)**\n",
    "\n",
    "\n",
    "* **Failing to reject the null hypothesis when in fact the null hypothesis is false.**\n",
    "\n",
    "* **Finding the defendant not guilty when in fact the defendant DID COMMIT THE CRIME.**"
   ]
  },
  {
   "cell_type": "markdown",
   "id": "0ae24368",
   "metadata": {},
   "source": [
    "# 2. Pass Me ANOVA Glass of Iced t\n",
    "## Is this some kind of test statistic?\n",
    "\n",
    "$H_0$: The mean compensation (in USD) is **the same** for those that coded first as a child and those that coded first as an adult.\n",
    "\n",
    "**$$H_0: U_{child} = U_{adult}$$**\n",
    "\n",
    "**$$H_0: U_{child} - U_{adult} = 0$$**\n",
    "\n",
    "$H_A$: The mean compensation (in USD) is **greater** for those that coded first as a child and those that coded first as an adult.\n",
    "\n",
    "**$$H_A: U_{child} > U_{adult}$$**\n",
    "\n",
    "**$$H_A: U_{child} - U_{adult} > 0$$**"
   ]
  },
  {
   "cell_type": "code",
   "execution_count": 42,
   "id": "49e87b7a",
   "metadata": {},
   "outputs": [
    {
     "data": {
      "text/plain": [
       "age_first_code_cut\n",
       "adult    111313.311047\n",
       "child    132419.570621\n",
       "Name: converted_comp, dtype: float64"
      ]
     },
     "execution_count": 42,
     "metadata": {},
     "output_type": "execute_result"
    }
   ],
   "source": [
    "stack_overflow.groupby('age_first_code_cut')['converted_comp'].mean()"
   ]
  },
  {
   "cell_type": "markdown",
   "id": "23f80048",
   "metadata": {},
   "source": [
    "**$\\bar{x}$ ----> A sample mean.**\n",
    "\n",
    "> **$\\bar{x}_{child}$ ---> Sample mean compensation for coding first as a child.**\n",
    "\n",
    "> **$\\bar{x}_{adult}$ ---> Sample mean compensation for coding first as a adult.**\n",
    "\n",
    "\n",
    "**$\\bar{x}_{child}$ - $\\bar{x}_{adult}$ is a test statistic.** "
   ]
  },
  {
   "cell_type": "code",
   "execution_count": 43,
   "id": "9bfd760b",
   "metadata": {},
   "outputs": [
    {
     "data": {
      "text/plain": [
       "age_first_code_cut\n",
       "adult    111313.311047\n",
       "child    132419.570621\n",
       "Name: converted_comp, dtype: float64"
      ]
     },
     "execution_count": 43,
     "metadata": {},
     "output_type": "execute_result"
    }
   ],
   "source": [
    "xbar = stack_overflow.groupby('age_first_code_cut')['converted_comp'].mean()\n",
    "xbar"
   ]
  },
  {
   "cell_type": "code",
   "execution_count": 47,
   "id": "abe6963c",
   "metadata": {},
   "outputs": [
    {
     "data": {
      "text/plain": [
       "(111313.31104651163, 132419.5706214689)"
      ]
     },
     "execution_count": 47,
     "metadata": {},
     "output_type": "execute_result"
    }
   ],
   "source": [
    "xbar_adult = xbar[0]\n",
    "xbar_child = xbar[1]\n",
    "xbar_adult, xbar_child"
   ]
  },
  {
   "cell_type": "code",
   "execution_count": 44,
   "id": "ddd03299",
   "metadata": {
    "scrolled": true
   },
   "outputs": [
    {
     "data": {
      "text/plain": [
       "age_first_code_cut\n",
       "adult    271546.521729\n",
       "child    255585.240115\n",
       "Name: converted_comp, dtype: float64"
      ]
     },
     "execution_count": 44,
     "metadata": {},
     "output_type": "execute_result"
    }
   ],
   "source": [
    "s = stack_overflow.groupby('age_first_code_cut')['converted_comp'].std()\n",
    "s"
   ]
  },
  {
   "cell_type": "code",
   "execution_count": 48,
   "id": "b5948bc0",
   "metadata": {},
   "outputs": [
    {
     "data": {
      "text/plain": [
       "(271546.5217287417, 255585.2401149758)"
      ]
     },
     "execution_count": 48,
     "metadata": {},
     "output_type": "execute_result"
    }
   ],
   "source": [
    "s_adult = s[0]\n",
    "s_child = s[1]\n",
    "s_adult, s_child"
   ]
  },
  {
   "cell_type": "code",
   "execution_count": 45,
   "id": "12a4e420",
   "metadata": {
    "scrolled": true
   },
   "outputs": [
    {
     "data": {
      "text/plain": [
       "age_first_code_cut\n",
       "adult    1376\n",
       "child     885\n",
       "Name: converted_comp, dtype: int64"
      ]
     },
     "execution_count": 45,
     "metadata": {},
     "output_type": "execute_result"
    }
   ],
   "source": [
    "n = stack_overflow.groupby('age_first_code_cut')['converted_comp'].count()\n",
    "n"
   ]
  },
  {
   "cell_type": "code",
   "execution_count": 52,
   "id": "656ab492",
   "metadata": {},
   "outputs": [
    {
     "data": {
      "text/plain": [
       "(1376, 885)"
      ]
     },
     "execution_count": 52,
     "metadata": {},
     "output_type": "execute_result"
    }
   ],
   "source": [
    "n_adult = n[0]\n",
    "n_child = n[1]\n",
    "n_adult, n_child"
   ]
  },
  {
   "cell_type": "markdown",
   "id": "b1573727",
   "metadata": {},
   "source": [
    "###### Calculating the test statistic"
   ]
  },
  {
   "cell_type": "code",
   "execution_count": 53,
   "id": "de1d4279",
   "metadata": {},
   "outputs": [
    {
     "data": {
      "text/plain": [
       "2.4566489003820284"
      ]
     },
     "execution_count": 53,
     "metadata": {},
     "output_type": "execute_result"
    }
   ],
   "source": [
    "numerator = xbar_child - xbar_adult\n",
    "\n",
    "denominator = np.sqrt(s_child ** 2 / n_child + n_adult ** 2 / n_adult)\n",
    "\n",
    "t_stat = numerator / denominator\n",
    "t_stat"
   ]
  },
  {
   "cell_type": "markdown",
   "id": "b146ac7b",
   "metadata": {},
   "source": [
    "### Hypothesis testing workflow\n",
    "\n",
    "1. Identify population parameter that is hypothesized about.\n",
    "\n",
    "2. Specify the null and alternative hypothesis.\n",
    "\n",
    "3. Determine (Standardized) test statistic and corresponding null distribution.\n",
    "\n",
    "4. Conduct hypothesis test in python.\n",
    "\n",
    "5. Measure evidence against the null hypothesis.\n",
    "\n",
    "6. Make a decision comparing evidence to significance level.\n",
    "\n",
    "7. Interpret the results in the context of the original problem."
   ]
  },
  {
   "cell_type": "markdown",
   "id": "953b39ee",
   "metadata": {},
   "source": [
    "### Two sample mean test statistic\n"
   ]
  },
  {
   "cell_type": "code",
   "execution_count": 56,
   "id": "c783b2bd",
   "metadata": {},
   "outputs": [],
   "source": [
    "xbar = late_shipments.groupby('late')['weight_kilograms'].mean()\n",
    "xbar_no = xbar[0]\n",
    "xbar_yes = xbar[1]\n",
    "\n",
    "s = late_shipments.groupby('late')['weight_kilograms'].std()\n",
    "s_no = s[0]\n",
    "s_yes = s[1]\n",
    "\n",
    "n = late_shipments.groupby('late')['weight_kilograms'].count()\n",
    "n_no = n[0]\n",
    "n_yes = n[1]"
   ]
  },
  {
   "cell_type": "code",
   "execution_count": 57,
   "id": "c176303b",
   "metadata": {},
   "outputs": [
    {
     "name": "stdout",
     "output_type": "stream",
     "text": [
      "-2.3936661778766433\n"
     ]
    }
   ],
   "source": [
    "# Calculate the numerator of the test statistic\n",
    "numerator = xbar_no - xbar_yes\n",
    "\n",
    "# Calculate the denominator of the test statistic\n",
    "denominator = np.sqrt(s_yes ** 2 / n_yes + s_no ** 2 / n_no)\n",
    "\n",
    "# Calculate the test statistic\n",
    "t_stat = numerator / denominator \n",
    "\n",
    "# Print the test statistic\n",
    "print(t_stat)"
   ]
  },
  {
   "cell_type": "markdown",
   "id": "7838a9fd",
   "metadata": {},
   "source": [
    "> When testing for differences between means, the test statistic is called 't' rather than 'z', and can be calculated using six numbers from the samples. Here, the value is about -2.39 or 2.39, depending on the order you calculated the numerator.\n",
    "### Time for t\n",
    "\n",
    "> **t-statistic follows a t-distribution.**\n",
    "\n",
    "> Have a parameter named degrees of freedom, or df.\n",
    "\n",
    "> Look like normal distributions, with fatter tails.\n",
    "\n",
    "\n",
    "**Degrees of freedom** \n",
    "\n",
    "Larger degrees of freedom ---> **t-distribution gets closer to the normal distribution.**\n",
    "\n",
    "Normal distribution ---> **t-distribution with infinite degrees of freedom.**\n",
    "\n",
    "\n",
    "##### Calculating degrees of freedom\n",
    "\n",
    "> Dataset has 5 independent observations.\n",
    "\n",
    "> Four of the values are 2, 6, 8, 5.\n",
    "\n",
    "> The sample mean is 5.\n",
    "\n",
    "> **The last value must be 4:** There are 4 degrees of freedom.\n",
    "\n",
    "$H_0$: The mean compensation (in USD) is **the same** for those that coded first as a child and those that coded first as an adult.\n",
    "\n",
    "**$$H_0: U_{child} = U_{adult}$$**\n",
    "\n",
    "**$$H_0: U_{child} - U_{adult} = 0$$**\n",
    "\n",
    "$H_A$: The mean compensation (in USD) is **greater** for those that coded first as a child and those that coded first as an adult.\n",
    "\n",
    "**$$H_A: U_{child} > U_{adult}$$**\n",
    "\n",
    "**$$H_A: U_{child} - U_{adult} > 0$$**\n",
    "\n",
    "\n",
    "**Significance level** \n",
    "\n",
    "alpha = 0.1"
   ]
  },
  {
   "cell_type": "code",
   "execution_count": 59,
   "id": "b8b7d319",
   "metadata": {},
   "outputs": [
    {
     "data": {
      "text/plain": [
       "2.4566489003820284"
      ]
     },
     "execution_count": 59,
     "metadata": {},
     "output_type": "execute_result"
    }
   ],
   "source": [
    "numerator = xbar_child - xbar_adult\n",
    "\n",
    "denominator = np.sqrt(s_child ** 2 / n_child + n_adult ** 2 / n_adult)\n",
    "\n",
    "t_stat = numerator / denominator\n",
    "t_stat"
   ]
  },
  {
   "cell_type": "code",
   "execution_count": 60,
   "id": "dd48ea4d",
   "metadata": {},
   "outputs": [
    {
     "data": {
      "text/plain": [
       "2259"
      ]
     },
     "execution_count": 60,
     "metadata": {},
     "output_type": "execute_result"
    }
   ],
   "source": [
    "degrees_of_freedom = n_child + n_adult - 2\n",
    "degrees_of_freedom"
   ]
  },
  {
   "cell_type": "markdown",
   "id": "73f43a6d",
   "metadata": {},
   "source": [
    "#### Calculating p-values: two means from different groups\n",
    "\n",
    "* **Use t-distribution CDF not normal CDF**"
   ]
  },
  {
   "cell_type": "code",
   "execution_count": 64,
   "id": "64179abb",
   "metadata": {},
   "outputs": [
    {
     "data": {
      "text/plain": [
       "0.007049348179454573"
      ]
     },
     "execution_count": 64,
     "metadata": {},
     "output_type": "execute_result"
    }
   ],
   "source": [
    "from scipy.stats import t\n",
    "\n",
    "p_value = 1 - t.cdf(t_stat, df=degrees_of_freedom)\n",
    "p_value"
   ]
  },
  {
   "cell_type": "code",
   "execution_count": 65,
   "id": "f5a5c01d",
   "metadata": {},
   "outputs": [
    {
     "data": {
      "text/plain": [
       "True"
      ]
     },
     "execution_count": 65,
     "metadata": {},
     "output_type": "execute_result"
    }
   ],
   "source": [
    "alpha = 0.1\n",
    "p_value < alpha"
   ]
  },
  {
   "cell_type": "markdown",
   "id": "37bd9331",
   "metadata": {},
   "source": [
    "> This p-value is less than the significance level of 0.1. Then, we reject the null hypothesis in favor of the alternative hypothesis.\n",
    "\n",
    "> Stack Overflow Data Scientist who started coding as children earn more.\n",
    "\n",
    "**In which hypothesis testing scenario is a t-distribution needed instead of the z-distribution?**\n",
    "\n",
    "ANSWER: When a sample standard deviation is used in estimating a standard error. We need to use a t-distribution when transforming the test statistic to get the p-value.\n",
    "\n",
    "\n",
    "**The normal distribution is essentially a t-distribution with infinite degrees of freedom.**"
   ]
  },
  {
   "cell_type": "markdown",
   "id": "6f1ffe99",
   "metadata": {},
   "source": [
    "### From t to p\n",
    "\n",
    "Recall the hypotheses:\n",
    "\n",
    "$H_0$: The mean weight of shipments that weren't late is the same as the mean weight of shipments that were late.\n",
    "\n",
    "$H_A$: The mean weight of shipments that weren't late is less than the mean weight of shipments that were late.\n"
   ]
  },
  {
   "cell_type": "code",
   "execution_count": 68,
   "id": "fca4230d",
   "metadata": {},
   "outputs": [
    {
     "data": {
      "text/plain": [
       "998"
      ]
     },
     "execution_count": 68,
     "metadata": {},
     "output_type": "execute_result"
    }
   ],
   "source": [
    "# Calculate the degrees of freedom\n",
    "degrees_of_freedom = n_no + n_yes - 2\n",
    "degrees_of_freedom"
   ]
  },
  {
   "cell_type": "code",
   "execution_count": 69,
   "id": "57d4e12f",
   "metadata": {},
   "outputs": [
    {
     "data": {
      "text/plain": [
       "-2.3936661778766433"
      ]
     },
     "execution_count": 69,
     "metadata": {},
     "output_type": "execute_result"
    }
   ],
   "source": [
    "numerator = xbar_no - xbar_yes\n",
    "denominator = np.sqrt(s_yes ** 2 / n_yes + s_no ** 2 / n_no)\n",
    "t_stat = numerator / denominator \n",
    "t_stat"
   ]
  },
  {
   "cell_type": "code",
   "execution_count": 70,
   "id": "42a3f93f",
   "metadata": {},
   "outputs": [
    {
     "data": {
      "text/plain": [
       "0.008432382146249523"
      ]
     },
     "execution_count": 70,
     "metadata": {},
     "output_type": "execute_result"
    }
   ],
   "source": [
    "# Calculate the p-value from the test stat\n",
    "p_value = t.cdf(t_stat, df=degrees_of_freedom)\n",
    "p_value"
   ]
  },
  {
   "cell_type": "code",
   "execution_count": 71,
   "id": "5b6af94f",
   "metadata": {},
   "outputs": [
    {
     "data": {
      "text/plain": [
       "True"
      ]
     },
     "execution_count": 71,
     "metadata": {},
     "output_type": "execute_result"
    }
   ],
   "source": [
    "alpha = 0.05\n",
    "p_value < alpha"
   ]
  },
  {
   "cell_type": "markdown",
   "id": "30aa596c",
   "metadata": {},
   "source": [
    "> **Reject the null hypothesis.**\n",
    "\n",
    "> *When the standard error is estimated from the sample standard deviation and sample size, the test statistic is transformed into a p-value using the t-distribution.*\n",
    "\n",
    "### Pairing is caring\n",
    "\n",
    "**Was the percentage of Republican candidate votes lower in 2008 than 2012?**\n",
    "\n",
    "**$$H_0: U_{2008} - U_{2012} = 0$$**\n",
    "**$$H_A: U_{2008} - U_{2012} < 0$$**\n",
    "\n",
    "$\\alpha$ = 0.05 significance level\n",
    "\n",
    "* **Data is paired** ---> Each voter percentage refers to the same county.\n",
    "    * Want to capture voting pattern in model"
   ]
  },
  {
   "cell_type": "code",
   "execution_count": 93,
   "id": "bd3af9aa",
   "metadata": {},
   "outputs": [
    {
     "data": {
      "text/html": [
       "<div>\n",
       "<style scoped>\n",
       "    .dataframe tbody tr th:only-of-type {\n",
       "        vertical-align: middle;\n",
       "    }\n",
       "\n",
       "    .dataframe tbody tr th {\n",
       "        vertical-align: top;\n",
       "    }\n",
       "\n",
       "    .dataframe thead th {\n",
       "        text-align: right;\n",
       "    }\n",
       "</style>\n",
       "<table border=\"1\" class=\"dataframe\">\n",
       "  <thead>\n",
       "    <tr style=\"text-align: right;\">\n",
       "      <th></th>\n",
       "      <th>state</th>\n",
       "      <th>county</th>\n",
       "      <th>dem_percent_12</th>\n",
       "      <th>dem_percent_16</th>\n",
       "    </tr>\n",
       "  </thead>\n",
       "  <tbody>\n",
       "    <tr>\n",
       "      <th>0</th>\n",
       "      <td>Alabama</td>\n",
       "      <td>Bullock</td>\n",
       "      <td>76.305900</td>\n",
       "      <td>74.946921</td>\n",
       "    </tr>\n",
       "    <tr>\n",
       "      <th>1</th>\n",
       "      <td>Alabama</td>\n",
       "      <td>Chilton</td>\n",
       "      <td>19.453671</td>\n",
       "      <td>15.847352</td>\n",
       "    </tr>\n",
       "    <tr>\n",
       "      <th>2</th>\n",
       "      <td>Alabama</td>\n",
       "      <td>Clay</td>\n",
       "      <td>26.673672</td>\n",
       "      <td>18.674517</td>\n",
       "    </tr>\n",
       "    <tr>\n",
       "      <th>3</th>\n",
       "      <td>Alabama</td>\n",
       "      <td>Cullman</td>\n",
       "      <td>14.661752</td>\n",
       "      <td>10.028252</td>\n",
       "    </tr>\n",
       "    <tr>\n",
       "      <th>4</th>\n",
       "      <td>Alabama</td>\n",
       "      <td>Escambia</td>\n",
       "      <td>36.915731</td>\n",
       "      <td>31.020546</td>\n",
       "    </tr>\n",
       "  </tbody>\n",
       "</table>\n",
       "</div>"
      ],
      "text/plain": [
       "     state    county  dem_percent_12  dem_percent_16\n",
       "0  Alabama   Bullock       76.305900       74.946921\n",
       "1  Alabama   Chilton       19.453671       15.847352\n",
       "2  Alabama      Clay       26.673672       18.674517\n",
       "3  Alabama   Cullman       14.661752       10.028252\n",
       "4  Alabama  Escambia       36.915731       31.020546"
      ]
     },
     "execution_count": 93,
     "metadata": {},
     "output_type": "execute_result"
    }
   ],
   "source": [
    "sample_dem_data = pd.read_feather('dem_votes_potus_12_16.feather')\n",
    "sample_dem_data.head()"
   ]
  },
  {
   "cell_type": "markdown",
   "id": "31dd43e8",
   "metadata": {},
   "source": [
    "**New hypotheses**\n",
    "\n",
    "**$$H_0: U_{diff} = 0$$**\n",
    "**$$H_A: U_{diff} < 0$$**\n",
    "\n",
    "_df_ = ${n}_{diff}$ - 1"
   ]
  },
  {
   "cell_type": "code",
   "execution_count": 84,
   "id": "eca65263",
   "metadata": {},
   "outputs": [
    {
     "data": {
      "text/plain": [
       "100"
      ]
     },
     "execution_count": 84,
     "metadata": {},
     "output_type": "execute_result"
    }
   ],
   "source": [
    "n_diff = len(sample_data)\n",
    "n_diff"
   ]
  },
  {
   "cell_type": "code",
   "execution_count": 85,
   "id": "7f7b2145",
   "metadata": {},
   "outputs": [
    {
     "data": {
      "text/plain": [
       "4.955001433001608"
      ]
     },
     "execution_count": 85,
     "metadata": {},
     "output_type": "execute_result"
    }
   ],
   "source": [
    "s_diff = sample_data['diff'].std()\n",
    "s_diff"
   ]
  },
  {
   "cell_type": "code",
   "execution_count": 86,
   "id": "989b0ca3",
   "metadata": {
    "scrolled": true
   },
   "outputs": [
    {
     "data": {
      "text/plain": [
       "12.223022206163591"
      ]
     },
     "execution_count": 86,
     "metadata": {},
     "output_type": "execute_result"
    }
   ],
   "source": [
    "t_stat = (xbar_diff - 0) / np.sqrt(s_diff**2/n_diff)\n",
    "t_stat"
   ]
  },
  {
   "cell_type": "code",
   "execution_count": 89,
   "id": "41c85656",
   "metadata": {
    "scrolled": true
   },
   "outputs": [
    {
     "name": "stdout",
     "output_type": "stream",
     "text": [
      "Collecting pingouin\n",
      "  Downloading pingouin-0.5.2.tar.gz (185 kB)\n",
      "\u001b[K     |████████████████████████████████| 185 kB 2.2 MB/s eta 0:00:01\n",
      "\u001b[?25hRequirement already satisfied: numpy>=1.19 in /opt/miniconda3/lib/python3.9/site-packages (from pingouin) (1.21.2)\n",
      "Requirement already satisfied: scipy>=1.7 in /opt/miniconda3/lib/python3.9/site-packages (from pingouin) (1.7.3)\n",
      "Requirement already satisfied: pandas>=1.0 in /opt/miniconda3/lib/python3.9/site-packages (from pingouin) (1.4.1)\n",
      "Requirement already satisfied: matplotlib>=3.0.2 in /opt/miniconda3/lib/python3.9/site-packages (from pingouin) (3.5.1)\n",
      "Requirement already satisfied: seaborn>=0.11 in /opt/miniconda3/lib/python3.9/site-packages (from pingouin) (0.11.2)\n",
      "Requirement already satisfied: statsmodels>=0.13 in /opt/miniconda3/lib/python3.9/site-packages (from pingouin) (0.13.2)\n",
      "Collecting scikit-learn<1.1.0\n",
      "  Downloading scikit_learn-1.0.2-cp39-cp39-macosx_10_13_x86_64.whl (8.0 MB)\n",
      "\u001b[K     |████████████████████████████████| 8.0 MB 4.0 MB/s eta 0:00:01\n",
      "\u001b[?25hCollecting pandas_flavor>=0.2.0\n",
      "  Downloading pandas_flavor-0.3.0-py3-none-any.whl (6.3 kB)\n",
      "Collecting outdated\n",
      "  Downloading outdated-0.2.1-py3-none-any.whl (7.5 kB)\n",
      "Collecting tabulate\n",
      "  Downloading tabulate-0.8.10-py3-none-any.whl (29 kB)\n",
      "Requirement already satisfied: python-dateutil>=2.7 in /opt/miniconda3/lib/python3.9/site-packages (from matplotlib>=3.0.2->pingouin) (2.8.2)\n",
      "Requirement already satisfied: packaging>=20.0 in /opt/miniconda3/lib/python3.9/site-packages (from matplotlib>=3.0.2->pingouin) (21.3)\n",
      "Requirement already satisfied: pyparsing>=2.2.1 in /opt/miniconda3/lib/python3.9/site-packages (from matplotlib>=3.0.2->pingouin) (3.0.4)\n",
      "Requirement already satisfied: kiwisolver>=1.0.1 in /opt/miniconda3/lib/python3.9/site-packages (from matplotlib>=3.0.2->pingouin) (1.3.2)\n",
      "Requirement already satisfied: fonttools>=4.22.0 in /opt/miniconda3/lib/python3.9/site-packages (from matplotlib>=3.0.2->pingouin) (4.25.0)\n",
      "Requirement already satisfied: cycler>=0.10 in /opt/miniconda3/lib/python3.9/site-packages (from matplotlib>=3.0.2->pingouin) (0.11.0)\n",
      "Requirement already satisfied: pillow>=6.2.0 in /opt/miniconda3/lib/python3.9/site-packages (from matplotlib>=3.0.2->pingouin) (9.0.1)\n",
      "Requirement already satisfied: pytz>=2020.1 in /opt/miniconda3/lib/python3.9/site-packages (from pandas>=1.0->pingouin) (2021.3)\n",
      "Collecting xarray\n",
      "  Downloading xarray-2022.6.0-py3-none-any.whl (927 kB)\n",
      "\u001b[K     |████████████████████████████████| 927 kB 5.9 MB/s eta 0:00:01\n",
      "\u001b[?25hCollecting lazy-loader==0.1rc2\n",
      "  Downloading lazy_loader-0.1rc2-py3-none-any.whl (5.1 kB)\n",
      "Requirement already satisfied: six>=1.5 in /opt/miniconda3/lib/python3.9/site-packages (from python-dateutil>=2.7->matplotlib>=3.0.2->pingouin) (1.16.0)\n",
      "Requirement already satisfied: joblib>=0.11 in /opt/miniconda3/lib/python3.9/site-packages (from scikit-learn<1.1.0->pingouin) (1.1.0)\n",
      "Requirement already satisfied: threadpoolctl>=2.0.0 in /opt/miniconda3/lib/python3.9/site-packages (from scikit-learn<1.1.0->pingouin) (3.1.0)\n",
      "Requirement already satisfied: patsy>=0.5.2 in /opt/miniconda3/lib/python3.9/site-packages (from statsmodels>=0.13->pingouin) (0.5.2)\n",
      "Requirement already satisfied: requests in /opt/miniconda3/lib/python3.9/site-packages (from outdated->pingouin) (2.27.1)\n",
      "Collecting littleutils\n",
      "  Downloading littleutils-0.2.2.tar.gz (6.6 kB)\n",
      "Requirement already satisfied: idna<4,>=2.5 in /opt/miniconda3/lib/python3.9/site-packages (from requests->outdated->pingouin) (3.3)\n",
      "Requirement already satisfied: charset-normalizer~=2.0.0 in /opt/miniconda3/lib/python3.9/site-packages (from requests->outdated->pingouin) (2.0.4)\n",
      "Requirement already satisfied: urllib3<1.27,>=1.21.1 in /opt/miniconda3/lib/python3.9/site-packages (from requests->outdated->pingouin) (1.26.8)\n",
      "Requirement already satisfied: certifi>=2017.4.17 in /opt/miniconda3/lib/python3.9/site-packages (from requests->outdated->pingouin) (2022.5.18.1)\n",
      "Building wheels for collected packages: pingouin, littleutils\n",
      "  Building wheel for pingouin (setup.py) ... \u001b[?25ldone\n",
      "\u001b[?25h  Created wheel for pingouin: filename=pingouin-0.5.2-py3-none-any.whl size=196206 sha256=7c437c9fae77c78f689b7166b406f30f4fbeb2add82c9cc9b213a7311fc07f61\n",
      "  Stored in directory: /Users/adrik/Library/Caches/pip/wheels/c0/9f/92/4c574395e1e8e5e08cf73dcb76815a7eaa62921833b6b0f6ad\n",
      "  Building wheel for littleutils (setup.py) ... \u001b[?25ldone\n",
      "\u001b[?25h  Created wheel for littleutils: filename=littleutils-0.2.2-py3-none-any.whl size=7048 sha256=d452efd4b6e482e0cdd181494b19c471de3a0edc5d0e40d1fa249a6ba67618b3\n",
      "  Stored in directory: /Users/adrik/Library/Caches/pip/wheels/04/bb/0d/2d02ec45f29c48d6192476bfb59c5a0e64b605e7212374dd15\n",
      "Successfully built pingouin littleutils\n",
      "Installing collected packages: xarray, littleutils, lazy-loader, tabulate, scikit-learn, pandas-flavor, outdated, pingouin\n",
      "  Attempting uninstall: scikit-learn\n",
      "    Found existing installation: scikit-learn 1.1.1\n",
      "    Uninstalling scikit-learn-1.1.1:\n",
      "      Successfully uninstalled scikit-learn-1.1.1\n",
      "Successfully installed lazy-loader-0.1rc2 littleutils-0.2.2 outdated-0.2.1 pandas-flavor-0.3.0 pingouin-0.5.2 scikit-learn-1.0.2 tabulate-0.8.10 xarray-2022.6.0\n"
     ]
    }
   ],
   "source": [
    "! pip install pingouin"
   ]
  },
  {
   "cell_type": "code",
   "execution_count": 91,
   "id": "0850f4e7",
   "metadata": {},
   "outputs": [
    {
     "data": {
      "text/html": [
       "<div>\n",
       "<style scoped>\n",
       "    .dataframe tbody tr th:only-of-type {\n",
       "        vertical-align: middle;\n",
       "    }\n",
       "\n",
       "    .dataframe tbody tr th {\n",
       "        vertical-align: top;\n",
       "    }\n",
       "\n",
       "    .dataframe thead th {\n",
       "        text-align: right;\n",
       "    }\n",
       "</style>\n",
       "<table border=\"1\" class=\"dataframe\">\n",
       "  <thead>\n",
       "    <tr style=\"text-align: right;\">\n",
       "      <th></th>\n",
       "      <th>state</th>\n",
       "      <th>county</th>\n",
       "      <th>dem_percent_12</th>\n",
       "      <th>dem_percent_16</th>\n",
       "      <th>diff</th>\n",
       "    </tr>\n",
       "  </thead>\n",
       "  <tbody>\n",
       "    <tr>\n",
       "      <th>298</th>\n",
       "      <td>New York</td>\n",
       "      <td>New York</td>\n",
       "      <td>81.404893</td>\n",
       "      <td>86.556921</td>\n",
       "      <td>-5.152028</td>\n",
       "    </tr>\n",
       "    <tr>\n",
       "      <th>476</th>\n",
       "      <td>West Virginia</td>\n",
       "      <td>Raleigh</td>\n",
       "      <td>26.844497</td>\n",
       "      <td>21.753663</td>\n",
       "      <td>5.090834</td>\n",
       "    </tr>\n",
       "    <tr>\n",
       "      <th>194</th>\n",
       "      <td>Michigan</td>\n",
       "      <td>Arenac</td>\n",
       "      <td>46.792501</td>\n",
       "      <td>30.977131</td>\n",
       "      <td>15.815370</td>\n",
       "    </tr>\n",
       "    <tr>\n",
       "      <th>441</th>\n",
       "      <td>Texas</td>\n",
       "      <td>Smith</td>\n",
       "      <td>26.954435</td>\n",
       "      <td>26.307097</td>\n",
       "      <td>0.647338</td>\n",
       "    </tr>\n",
       "    <tr>\n",
       "      <th>236</th>\n",
       "      <td>Missouri</td>\n",
       "      <td>Barton</td>\n",
       "      <td>21.406196</td>\n",
       "      <td>13.386092</td>\n",
       "      <td>8.020104</td>\n",
       "    </tr>\n",
       "    <tr>\n",
       "      <th>...</th>\n",
       "      <td>...</td>\n",
       "      <td>...</td>\n",
       "      <td>...</td>\n",
       "      <td>...</td>\n",
       "      <td>...</td>\n",
       "    </tr>\n",
       "    <tr>\n",
       "      <th>440</th>\n",
       "      <td>Texas</td>\n",
       "      <td>Shelby</td>\n",
       "      <td>25.010771</td>\n",
       "      <td>19.348448</td>\n",
       "      <td>5.662323</td>\n",
       "    </tr>\n",
       "    <tr>\n",
       "      <th>343</th>\n",
       "      <td>Ohio</td>\n",
       "      <td>Ottawa</td>\n",
       "      <td>51.224617</td>\n",
       "      <td>37.289585</td>\n",
       "      <td>13.935032</td>\n",
       "    </tr>\n",
       "    <tr>\n",
       "      <th>140</th>\n",
       "      <td>Kansas</td>\n",
       "      <td>Atchison</td>\n",
       "      <td>38.462691</td>\n",
       "      <td>30.250951</td>\n",
       "      <td>8.211740</td>\n",
       "    </tr>\n",
       "    <tr>\n",
       "      <th>39</th>\n",
       "      <td>California</td>\n",
       "      <td>Tulare</td>\n",
       "      <td>41.297725</td>\n",
       "      <td>42.360283</td>\n",
       "      <td>-1.062558</td>\n",
       "    </tr>\n",
       "    <tr>\n",
       "      <th>283</th>\n",
       "      <td>New Hampshire</td>\n",
       "      <td>Grafton</td>\n",
       "      <td>60.863177</td>\n",
       "      <td>55.693384</td>\n",
       "      <td>5.169794</td>\n",
       "    </tr>\n",
       "  </tbody>\n",
       "</table>\n",
       "<p>100 rows × 5 columns</p>\n",
       "</div>"
      ],
      "text/plain": [
       "             state    county  dem_percent_12  dem_percent_16       diff\n",
       "298       New York  New York       81.404893       86.556921  -5.152028\n",
       "476  West Virginia   Raleigh       26.844497       21.753663   5.090834\n",
       "194       Michigan    Arenac       46.792501       30.977131  15.815370\n",
       "441          Texas     Smith       26.954435       26.307097   0.647338\n",
       "236       Missouri    Barton       21.406196       13.386092   8.020104\n",
       "..             ...       ...             ...             ...        ...\n",
       "440          Texas    Shelby       25.010771       19.348448   5.662323\n",
       "343           Ohio    Ottawa       51.224617       37.289585  13.935032\n",
       "140         Kansas  Atchison       38.462691       30.250951   8.211740\n",
       "39      California    Tulare       41.297725       42.360283  -1.062558\n",
       "283  New Hampshire   Grafton       60.863177       55.693384   5.169794\n",
       "\n",
       "[100 rows x 5 columns]"
      ]
     },
     "execution_count": 91,
     "metadata": {},
     "output_type": "execute_result"
    }
   ],
   "source": [
    "sample_data"
   ]
  },
  {
   "cell_type": "code",
   "execution_count": 111,
   "id": "04cc7bb8",
   "metadata": {},
   "outputs": [
    {
     "data": {
      "text/html": [
       "<div>\n",
       "<style scoped>\n",
       "    .dataframe tbody tr th:only-of-type {\n",
       "        vertical-align: middle;\n",
       "    }\n",
       "\n",
       "    .dataframe tbody tr th {\n",
       "        vertical-align: top;\n",
       "    }\n",
       "\n",
       "    .dataframe thead th {\n",
       "        text-align: right;\n",
       "    }\n",
       "</style>\n",
       "<table border=\"1\" class=\"dataframe\">\n",
       "  <thead>\n",
       "    <tr style=\"text-align: right;\">\n",
       "      <th></th>\n",
       "      <th>T</th>\n",
       "      <th>dof</th>\n",
       "      <th>alternative</th>\n",
       "      <th>p-val</th>\n",
       "      <th>CI95%</th>\n",
       "      <th>cohen-d</th>\n",
       "      <th>BF10</th>\n",
       "      <th>power</th>\n",
       "    </tr>\n",
       "  </thead>\n",
       "  <tbody>\n",
       "    <tr>\n",
       "      <th>T-test</th>\n",
       "      <td>30.298384</td>\n",
       "      <td>499</td>\n",
       "      <td>two-sided</td>\n",
       "      <td>3.600634e-115</td>\n",
       "      <td>[6.39, 7.27]</td>\n",
       "      <td>0.454202</td>\n",
       "      <td>2.246e+111</td>\n",
       "      <td>1.0</td>\n",
       "    </tr>\n",
       "  </tbody>\n",
       "</table>\n",
       "</div>"
      ],
      "text/plain": [
       "                T  dof alternative          p-val         CI95%   cohen-d  \\\n",
       "T-test  30.298384  499   two-sided  3.600634e-115  [6.39, 7.27]  0.454202   \n",
       "\n",
       "              BF10  power  \n",
       "T-test  2.246e+111    1.0  "
      ]
     },
     "execution_count": 111,
     "metadata": {},
     "output_type": "execute_result"
    }
   ],
   "source": [
    "pingouin.ttest(x=sample_dem_data['dem_percent_12'], y=sample_dem_data['dem_percent_16'], paired=True, alternative=\"two-sided\")"
   ]
  },
  {
   "cell_type": "markdown",
   "id": "5a18ab9d",
   "metadata": {},
   "source": [
    "###### When pairing needed?\n",
    "\n",
    "> If you have repeated observations of something, then those observations form pairs.\n",
    "\n",
    "### Visualizing the difference\n"
   ]
  },
  {
   "cell_type": "code",
   "execution_count": 95,
   "id": "c0f2fec0",
   "metadata": {},
   "outputs": [
    {
     "name": "stdout",
     "output_type": "stream",
     "text": [
      "6.829312660106832\n"
     ]
    }
   ],
   "source": [
    "# Calculate the differences from 2012 to 2016\n",
    "sample_dem_data['diff'] = sample_dem_data['dem_percent_12'] - sample_dem_data['dem_percent_16']\n",
    "\n",
    "# Find the mean of the diff column\n",
    "xbar_diff = sample_dem_data['diff'].mean()\n",
    "\n",
    "# Print xbar_diff\n",
    "print(xbar_diff)"
   ]
  },
  {
   "cell_type": "code",
   "execution_count": 96,
   "id": "c6e4a7b2",
   "metadata": {},
   "outputs": [
    {
     "name": "stdout",
     "output_type": "stream",
     "text": [
      "5.040139140132316\n"
     ]
    }
   ],
   "source": [
    "# Find the standard deviation of the diff column\n",
    "s_diff = sample_dem_data['diff'].std()\n",
    "\n",
    "# Print s_diff\n",
    "print(s_diff)"
   ]
  },
  {
   "cell_type": "code",
   "execution_count": 97,
   "id": "ae02234f",
   "metadata": {},
   "outputs": [
    {
     "data": {
      "image/png": "[encoded data removed]",
      "text/plain": [
       "<Figure size 432x288 with 1 Axes>"
      ]
     },
     "metadata": {
      "needs_background": "light"
     },
     "output_type": "display_data"
    }
   ],
   "source": [
    "# Plot a histogram of diff with 20 bins\n",
    "sample_dem_data['diff'].hist(bins=20)\n",
    "plt.show()"
   ]
  },
  {
   "cell_type": "markdown",
   "id": "b495ce50",
   "metadata": {},
   "source": [
    "> Notice that the majority of the histogram lies to the right of zero.\n",
    "### Using ttest()\n"
   ]
  },
  {
   "cell_type": "code",
   "execution_count": 102,
   "id": "67846198",
   "metadata": {},
   "outputs": [
    {
     "data": {
      "text/html": [
       "<div>\n",
       "<style scoped>\n",
       "    .dataframe tbody tr th:only-of-type {\n",
       "        vertical-align: middle;\n",
       "    }\n",
       "\n",
       "    .dataframe tbody tr th {\n",
       "        vertical-align: top;\n",
       "    }\n",
       "\n",
       "    .dataframe thead th {\n",
       "        text-align: right;\n",
       "    }\n",
       "</style>\n",
       "<table border=\"1\" class=\"dataframe\">\n",
       "  <thead>\n",
       "    <tr style=\"text-align: right;\">\n",
       "      <th></th>\n",
       "      <th>T</th>\n",
       "      <th>dof</th>\n",
       "      <th>alternative</th>\n",
       "      <th>p-val</th>\n",
       "      <th>CI95%</th>\n",
       "      <th>cohen-d</th>\n",
       "      <th>BF10</th>\n",
       "      <th>power</th>\n",
       "    </tr>\n",
       "  </thead>\n",
       "  <tbody>\n",
       "    <tr>\n",
       "      <th>T-test</th>\n",
       "      <td>30.298384</td>\n",
       "      <td>499</td>\n",
       "      <td>two-sided</td>\n",
       "      <td>3.600634e-115</td>\n",
       "      <td>[6.39, 7.27]</td>\n",
       "      <td>1.354985</td>\n",
       "      <td>2.246e+111</td>\n",
       "      <td>1.0</td>\n",
       "    </tr>\n",
       "  </tbody>\n",
       "</table>\n",
       "</div>"
      ],
      "text/plain": [
       "                T  dof alternative          p-val         CI95%   cohen-d  \\\n",
       "T-test  30.298384  499   two-sided  3.600634e-115  [6.39, 7.27]  1.354985   \n",
       "\n",
       "              BF10  power  \n",
       "T-test  2.246e+111    1.0  "
      ]
     },
     "execution_count": 102,
     "metadata": {},
     "output_type": "execute_result"
    }
   ],
   "source": [
    "import pingouin\n",
    "\n",
    "# Conduct a t-test on diff\n",
    "test_results = pingouin.ttest(x=sample_dem_data['diff'], y=0, alternative=\"two-sided\")\n",
    "                              \n",
    "# Print the test results\n",
    "test_results"
   ]
  },
  {
   "cell_type": "markdown",
   "id": "60667533",
   "metadata": {},
   "source": [
    "> What's the correct decision from the t-test, assuming $\\alpha$ = 0.01?"
   ]
  },
  {
   "cell_type": "code",
   "execution_count": 104,
   "id": "6ea53c17",
   "metadata": {},
   "outputs": [
    {
     "data": {
      "text/plain": [
       "T-test    True\n",
       "Name: p-val, dtype: bool"
      ]
     },
     "execution_count": 104,
     "metadata": {},
     "output_type": "execute_result"
    }
   ],
   "source": [
    "alpha = 0.01\n",
    "test_results['p-val'] < alpha"
   ]
  },
  {
   "cell_type": "markdown",
   "id": "5730732f",
   "metadata": {},
   "source": [
    "> **Reject the null hypothesis.**"
   ]
  },
  {
   "cell_type": "code",
   "execution_count": 105,
   "id": "6a44cc8b",
   "metadata": {},
   "outputs": [
    {
     "data": {
      "text/html": [
       "<div>\n",
       "<style scoped>\n",
       "    .dataframe tbody tr th:only-of-type {\n",
       "        vertical-align: middle;\n",
       "    }\n",
       "\n",
       "    .dataframe tbody tr th {\n",
       "        vertical-align: top;\n",
       "    }\n",
       "\n",
       "    .dataframe thead th {\n",
       "        text-align: right;\n",
       "    }\n",
       "</style>\n",
       "<table border=\"1\" class=\"dataframe\">\n",
       "  <thead>\n",
       "    <tr style=\"text-align: right;\">\n",
       "      <th></th>\n",
       "      <th>T</th>\n",
       "      <th>dof</th>\n",
       "      <th>alternative</th>\n",
       "      <th>p-val</th>\n",
       "      <th>CI95%</th>\n",
       "      <th>cohen-d</th>\n",
       "      <th>BF10</th>\n",
       "      <th>power</th>\n",
       "    </tr>\n",
       "  </thead>\n",
       "  <tbody>\n",
       "    <tr>\n",
       "      <th>T-test</th>\n",
       "      <td>30.298384</td>\n",
       "      <td>499</td>\n",
       "      <td>two-sided</td>\n",
       "      <td>3.600634e-115</td>\n",
       "      <td>[6.39, 7.27]</td>\n",
       "      <td>0.454202</td>\n",
       "      <td>2.246e+111</td>\n",
       "      <td>1.0</td>\n",
       "    </tr>\n",
       "  </tbody>\n",
       "</table>\n",
       "</div>"
      ],
      "text/plain": [
       "                T  dof alternative          p-val         CI95%   cohen-d  \\\n",
       "T-test  30.298384  499   two-sided  3.600634e-115  [6.39, 7.27]  0.454202   \n",
       "\n",
       "              BF10  power  \n",
       "T-test  2.246e+111    1.0  "
      ]
     },
     "execution_count": 105,
     "metadata": {},
     "output_type": "execute_result"
    }
   ],
   "source": [
    "# Conduct a paired t-test on dem_percent_12 and dem_percent_16\n",
    "paired_test_results = pingouin.ttest(x=sample_dem_data['dem_percent_12'], y=sample_dem_data['dem_percent_16'], paired=True, alternative=\"two-sided\")\n",
    "                           \n",
    "# Print the paired test results\n",
    "paired_test_results"
   ]
  },
  {
   "cell_type": "code",
   "execution_count": 106,
   "id": "213847ed",
   "metadata": {},
   "outputs": [
    {
     "data": {
      "text/plain": [
       "T-test    True\n",
       "Name: p-val, dtype: bool"
      ]
     },
     "execution_count": 106,
     "metadata": {},
     "output_type": "execute_result"
    }
   ],
   "source": [
    "paired_test_results['p-val'] < alpha"
   ]
  },
  {
   "cell_type": "markdown",
   "id": "8efe4832",
   "metadata": {},
   "source": [
    "> Using .ttest() lets you avoid manual calculation to run your test. When you have paired data, a paired t-test is preferable to the unpaired version because it reduces the chance of a false negative error.\n",
    "\n",
    "## P-hacked to pieces\n",
    "**Job satisfaction: 5 categories**"
   ]
  },
  {
   "cell_type": "code",
   "execution_count": 107,
   "id": "d123774b",
   "metadata": {
    "scrolled": true
   },
   "outputs": [
    {
     "data": {
      "text/plain": [
       "Very satisfied           879\n",
       "Slightly satisfied       680\n",
       "Slightly dissatisfied    342\n",
       "Neither                  201\n",
       "Very dissatisfied        159\n",
       "Name: job_sat, dtype: int64"
      ]
     },
     "execution_count": 107,
     "metadata": {},
     "output_type": "execute_result"
    }
   ],
   "source": [
    "stack_overflow['job_sat'].value_counts()"
   ]
  },
  {
   "cell_type": "markdown",
   "id": "43f72efa",
   "metadata": {},
   "source": [
    "**Is mean annual compensation different for different levels of job satisfaction?**"
   ]
  },
  {
   "cell_type": "code",
   "execution_count": 109,
   "id": "ca79fc9b",
   "metadata": {},
   "outputs": [
    {
     "data": {
      "image/png": "[encoded data removed]",
      "text/plain": [
       "<Figure size 432x288 with 1 Axes>"
      ]
     },
     "metadata": {
      "needs_background": "light"
     },
     "output_type": "display_data"
    }
   ],
   "source": [
    "import seaborn as sns\n",
    "sns.boxplot(x='converted_comp', y='job_sat', data=stack_overflow)\n",
    "plt.show()"
   ]
  },
  {
   "cell_type": "markdown",
   "id": "c0e671b9",
   "metadata": {},
   "source": [
    "### Analysis of variance (ANOVA)\n"
   ]
  },
  {
   "cell_type": "code",
   "execution_count": 110,
   "id": "8077f060",
   "metadata": {},
   "outputs": [
    {
     "data": {
      "text/html": [
       "<div>\n",
       "<style scoped>\n",
       "    .dataframe tbody tr th:only-of-type {\n",
       "        vertical-align: middle;\n",
       "    }\n",
       "\n",
       "    .dataframe tbody tr th {\n",
       "        vertical-align: top;\n",
       "    }\n",
       "\n",
       "    .dataframe thead th {\n",
       "        text-align: right;\n",
       "    }\n",
       "</style>\n",
       "<table border=\"1\" class=\"dataframe\">\n",
       "  <thead>\n",
       "    <tr style=\"text-align: right;\">\n",
       "      <th></th>\n",
       "      <th>Source</th>\n",
       "      <th>ddof1</th>\n",
       "      <th>ddof2</th>\n",
       "      <th>F</th>\n",
       "      <th>p-unc</th>\n",
       "      <th>np2</th>\n",
       "    </tr>\n",
       "  </thead>\n",
       "  <tbody>\n",
       "    <tr>\n",
       "      <th>0</th>\n",
       "      <td>job_sat</td>\n",
       "      <td>4</td>\n",
       "      <td>2256</td>\n",
       "      <td>4.480485</td>\n",
       "      <td>0.001315</td>\n",
       "      <td>0.007882</td>\n",
       "    </tr>\n",
       "  </tbody>\n",
       "</table>\n",
       "</div>"
      ],
      "text/plain": [
       "    Source  ddof1  ddof2         F     p-unc       np2\n",
       "0  job_sat      4   2256  4.480485  0.001315  0.007882"
      ]
     },
     "execution_count": 110,
     "metadata": {},
     "output_type": "execute_result"
    }
   ],
   "source": [
    "import pingouin\n",
    "alpha = 0.2\n",
    "pingouin.anova(data=stack_overflow, dv='converted_comp', between='job_sat')"
   ]
  },
  {
   "cell_type": "markdown",
   "id": "86e3c0a1",
   "metadata": {},
   "source": [
    "##### Pairwise tests\n",
    "\n",
    "1. $U_{very dissatisfied} \\neq U_{slightly dissatisfied}$\n",
    "2. $U_{very dissatisfied} \\neq U_{neither}$\n",
    "3. $U_{very dissatisfied} \\neq U_{slightly satisfied}$\n",
    "4. $U_{very dissatisfied} \\neq U_{very satisfied}$\n",
    "5. $U_{slightly dissatisfied} \\neq U_{neither}$\n",
    "6. $U_{slightly dissatisfied} \\neq U_{slightly satisfied}$\n",
    "7. $U_{slightly dissatisfied} \\neq U_{very satisfied}$\n",
    "8. $U_{neither} \\neq U_{slightly satisfied}$\n",
    "9. $U_{neither} \\neq U_{very satisfied}$\n",
    "10. $U_{slightly satisfied} \\neq U_{very satisfied}$\n",
    "\n",
    "\n",
    "> **We have 10 tests to perform**"
   ]
  },
  {
   "cell_type": "code",
   "execution_count": 114,
   "id": "3c9597e6",
   "metadata": {},
   "outputs": [
    {
     "data": {
      "text/html": [
       "<div>\n",
       "<style scoped>\n",
       "    .dataframe tbody tr th:only-of-type {\n",
       "        vertical-align: middle;\n",
       "    }\n",
       "\n",
       "    .dataframe tbody tr th {\n",
       "        vertical-align: top;\n",
       "    }\n",
       "\n",
       "    .dataframe thead th {\n",
       "        text-align: right;\n",
       "    }\n",
       "</style>\n",
       "<table border=\"1\" class=\"dataframe\">\n",
       "  <thead>\n",
       "    <tr style=\"text-align: right;\">\n",
       "      <th></th>\n",
       "      <th>Contrast</th>\n",
       "      <th>A</th>\n",
       "      <th>B</th>\n",
       "      <th>Paired</th>\n",
       "      <th>Parametric</th>\n",
       "      <th>T</th>\n",
       "      <th>dof</th>\n",
       "      <th>alternative</th>\n",
       "      <th>p-unc</th>\n",
       "      <th>BF10</th>\n",
       "      <th>hedges</th>\n",
       "    </tr>\n",
       "  </thead>\n",
       "  <tbody>\n",
       "    <tr>\n",
       "      <th>0</th>\n",
       "      <td>job_sat</td>\n",
       "      <td>Slightly satisfied</td>\n",
       "      <td>Very satisfied</td>\n",
       "      <td>False</td>\n",
       "      <td>True</td>\n",
       "      <td>-4.009935</td>\n",
       "      <td>1478.622799</td>\n",
       "      <td>two-sided</td>\n",
       "      <td>0.000064</td>\n",
       "      <td>158.564</td>\n",
       "      <td>-0.192931</td>\n",
       "    </tr>\n",
       "    <tr>\n",
       "      <th>1</th>\n",
       "      <td>job_sat</td>\n",
       "      <td>Slightly satisfied</td>\n",
       "      <td>Neither</td>\n",
       "      <td>False</td>\n",
       "      <td>True</td>\n",
       "      <td>-0.700752</td>\n",
       "      <td>258.204546</td>\n",
       "      <td>two-sided</td>\n",
       "      <td>0.484088</td>\n",
       "      <td>0.114</td>\n",
       "      <td>-0.068513</td>\n",
       "    </tr>\n",
       "    <tr>\n",
       "      <th>2</th>\n",
       "      <td>job_sat</td>\n",
       "      <td>Slightly satisfied</td>\n",
       "      <td>Very dissatisfied</td>\n",
       "      <td>False</td>\n",
       "      <td>True</td>\n",
       "      <td>-1.243665</td>\n",
       "      <td>187.153329</td>\n",
       "      <td>two-sided</td>\n",
       "      <td>0.215179</td>\n",
       "      <td>0.208</td>\n",
       "      <td>-0.145624</td>\n",
       "    </tr>\n",
       "    <tr>\n",
       "      <th>3</th>\n",
       "      <td>job_sat</td>\n",
       "      <td>Slightly satisfied</td>\n",
       "      <td>Slightly dissatisfied</td>\n",
       "      <td>False</td>\n",
       "      <td>True</td>\n",
       "      <td>-0.038264</td>\n",
       "      <td>569.926329</td>\n",
       "      <td>two-sided</td>\n",
       "      <td>0.969491</td>\n",
       "      <td>0.074</td>\n",
       "      <td>-0.002719</td>\n",
       "    </tr>\n",
       "    <tr>\n",
       "      <th>4</th>\n",
       "      <td>job_sat</td>\n",
       "      <td>Very satisfied</td>\n",
       "      <td>Neither</td>\n",
       "      <td>False</td>\n",
       "      <td>True</td>\n",
       "      <td>1.662901</td>\n",
       "      <td>328.326639</td>\n",
       "      <td>two-sided</td>\n",
       "      <td>0.097286</td>\n",
       "      <td>0.337</td>\n",
       "      <td>0.120115</td>\n",
       "    </tr>\n",
       "    <tr>\n",
       "      <th>5</th>\n",
       "      <td>job_sat</td>\n",
       "      <td>Very satisfied</td>\n",
       "      <td>Very dissatisfied</td>\n",
       "      <td>False</td>\n",
       "      <td>True</td>\n",
       "      <td>0.747379</td>\n",
       "      <td>221.666205</td>\n",
       "      <td>two-sided</td>\n",
       "      <td>0.455627</td>\n",
       "      <td>0.126</td>\n",
       "      <td>0.063479</td>\n",
       "    </tr>\n",
       "    <tr>\n",
       "      <th>6</th>\n",
       "      <td>job_sat</td>\n",
       "      <td>Very satisfied</td>\n",
       "      <td>Slightly dissatisfied</td>\n",
       "      <td>False</td>\n",
       "      <td>True</td>\n",
       "      <td>3.076222</td>\n",
       "      <td>821.303063</td>\n",
       "      <td>two-sided</td>\n",
       "      <td>0.002166</td>\n",
       "      <td>7.43</td>\n",
       "      <td>0.173247</td>\n",
       "    </tr>\n",
       "    <tr>\n",
       "      <th>7</th>\n",
       "      <td>job_sat</td>\n",
       "      <td>Neither</td>\n",
       "      <td>Very dissatisfied</td>\n",
       "      <td>False</td>\n",
       "      <td>True</td>\n",
       "      <td>-0.545948</td>\n",
       "      <td>321.165726</td>\n",
       "      <td>two-sided</td>\n",
       "      <td>0.585481</td>\n",
       "      <td>0.135</td>\n",
       "      <td>-0.058537</td>\n",
       "    </tr>\n",
       "    <tr>\n",
       "      <th>8</th>\n",
       "      <td>job_sat</td>\n",
       "      <td>Neither</td>\n",
       "      <td>Slightly dissatisfied</td>\n",
       "      <td>False</td>\n",
       "      <td>True</td>\n",
       "      <td>0.602209</td>\n",
       "      <td>367.730081</td>\n",
       "      <td>two-sided</td>\n",
       "      <td>0.547406</td>\n",
       "      <td>0.118</td>\n",
       "      <td>0.055707</td>\n",
       "    </tr>\n",
       "    <tr>\n",
       "      <th>9</th>\n",
       "      <td>job_sat</td>\n",
       "      <td>Very dissatisfied</td>\n",
       "      <td>Slightly dissatisfied</td>\n",
       "      <td>False</td>\n",
       "      <td>True</td>\n",
       "      <td>1.129951</td>\n",
       "      <td>247.570187</td>\n",
       "      <td>two-sided</td>\n",
       "      <td>0.259590</td>\n",
       "      <td>0.197</td>\n",
       "      <td>0.119131</td>\n",
       "    </tr>\n",
       "  </tbody>\n",
       "</table>\n",
       "</div>"
      ],
      "text/plain": [
       "  Contrast                   A                      B  Paired  Parametric  \\\n",
       "0  job_sat  Slightly satisfied         Very satisfied   False        True   \n",
       "1  job_sat  Slightly satisfied                Neither   False        True   \n",
       "2  job_sat  Slightly satisfied      Very dissatisfied   False        True   \n",
       "3  job_sat  Slightly satisfied  Slightly dissatisfied   False        True   \n",
       "4  job_sat      Very satisfied                Neither   False        True   \n",
       "5  job_sat      Very satisfied      Very dissatisfied   False        True   \n",
       "6  job_sat      Very satisfied  Slightly dissatisfied   False        True   \n",
       "7  job_sat             Neither      Very dissatisfied   False        True   \n",
       "8  job_sat             Neither  Slightly dissatisfied   False        True   \n",
       "9  job_sat   Very dissatisfied  Slightly dissatisfied   False        True   \n",
       "\n",
       "          T          dof alternative     p-unc     BF10    hedges  \n",
       "0 -4.009935  1478.622799   two-sided  0.000064  158.564 -0.192931  \n",
       "1 -0.700752   258.204546   two-sided  0.484088    0.114 -0.068513  \n",
       "2 -1.243665   187.153329   two-sided  0.215179    0.208 -0.145624  \n",
       "3 -0.038264   569.926329   two-sided  0.969491    0.074 -0.002719  \n",
       "4  1.662901   328.326639   two-sided  0.097286    0.337  0.120115  \n",
       "5  0.747379   221.666205   two-sided  0.455627    0.126  0.063479  \n",
       "6  3.076222   821.303063   two-sided  0.002166     7.43  0.173247  \n",
       "7 -0.545948   321.165726   two-sided  0.585481    0.135 -0.058537  \n",
       "8  0.602209   367.730081   two-sided  0.547406    0.118  0.055707  \n",
       "9  1.129951   247.570187   two-sided  0.259590    0.197  0.119131  "
      ]
     },
     "execution_count": 114,
     "metadata": {},
     "output_type": "execute_result"
    }
   ],
   "source": [
    "pingouin.pairwise_tests(data=stack_overflow, dv='converted_comp', between='job_sat', padjust='none')"
   ]
  },
  {
   "cell_type": "markdown",
   "id": "5e7aaad7",
   "metadata": {},
   "source": [
    "> **Look at the p-unc column: Three of these are less than our significance level of 0.2.**\n",
    "\n",
    "> **With a significance level of 0.2, if we run 5 tests, the chance of a false positive result is 0.7.**\n",
    "\n",
    "#### Bonferroni correction\n",
    "\n"
   ]
  },
  {
   "cell_type": "code",
   "execution_count": 115,
   "id": "6e2da8b0",
   "metadata": {},
   "outputs": [
    {
     "data": {
      "text/html": [
       "<div>\n",
       "<style scoped>\n",
       "    .dataframe tbody tr th:only-of-type {\n",
       "        vertical-align: middle;\n",
       "    }\n",
       "\n",
       "    .dataframe tbody tr th {\n",
       "        vertical-align: top;\n",
       "    }\n",
       "\n",
       "    .dataframe thead th {\n",
       "        text-align: right;\n",
       "    }\n",
       "</style>\n",
       "<table border=\"1\" class=\"dataframe\">\n",
       "  <thead>\n",
       "    <tr style=\"text-align: right;\">\n",
       "      <th></th>\n",
       "      <th>Contrast</th>\n",
       "      <th>A</th>\n",
       "      <th>B</th>\n",
       "      <th>Paired</th>\n",
       "      <th>Parametric</th>\n",
       "      <th>T</th>\n",
       "      <th>dof</th>\n",
       "      <th>alternative</th>\n",
       "      <th>p-unc</th>\n",
       "      <th>p-corr</th>\n",
       "      <th>p-adjust</th>\n",
       "      <th>BF10</th>\n",
       "      <th>hedges</th>\n",
       "    </tr>\n",
       "  </thead>\n",
       "  <tbody>\n",
       "    <tr>\n",
       "      <th>0</th>\n",
       "      <td>job_sat</td>\n",
       "      <td>Slightly satisfied</td>\n",
       "      <td>Very satisfied</td>\n",
       "      <td>False</td>\n",
       "      <td>True</td>\n",
       "      <td>-4.009935</td>\n",
       "      <td>1478.622799</td>\n",
       "      <td>two-sided</td>\n",
       "      <td>0.000064</td>\n",
       "      <td>0.000638</td>\n",
       "      <td>bonf</td>\n",
       "      <td>158.564</td>\n",
       "      <td>-0.192931</td>\n",
       "    </tr>\n",
       "    <tr>\n",
       "      <th>1</th>\n",
       "      <td>job_sat</td>\n",
       "      <td>Slightly satisfied</td>\n",
       "      <td>Neither</td>\n",
       "      <td>False</td>\n",
       "      <td>True</td>\n",
       "      <td>-0.700752</td>\n",
       "      <td>258.204546</td>\n",
       "      <td>two-sided</td>\n",
       "      <td>0.484088</td>\n",
       "      <td>1.000000</td>\n",
       "      <td>bonf</td>\n",
       "      <td>0.114</td>\n",
       "      <td>-0.068513</td>\n",
       "    </tr>\n",
       "    <tr>\n",
       "      <th>2</th>\n",
       "      <td>job_sat</td>\n",
       "      <td>Slightly satisfied</td>\n",
       "      <td>Very dissatisfied</td>\n",
       "      <td>False</td>\n",
       "      <td>True</td>\n",
       "      <td>-1.243665</td>\n",
       "      <td>187.153329</td>\n",
       "      <td>two-sided</td>\n",
       "      <td>0.215179</td>\n",
       "      <td>1.000000</td>\n",
       "      <td>bonf</td>\n",
       "      <td>0.208</td>\n",
       "      <td>-0.145624</td>\n",
       "    </tr>\n",
       "    <tr>\n",
       "      <th>3</th>\n",
       "      <td>job_sat</td>\n",
       "      <td>Slightly satisfied</td>\n",
       "      <td>Slightly dissatisfied</td>\n",
       "      <td>False</td>\n",
       "      <td>True</td>\n",
       "      <td>-0.038264</td>\n",
       "      <td>569.926329</td>\n",
       "      <td>two-sided</td>\n",
       "      <td>0.969491</td>\n",
       "      <td>1.000000</td>\n",
       "      <td>bonf</td>\n",
       "      <td>0.074</td>\n",
       "      <td>-0.002719</td>\n",
       "    </tr>\n",
       "    <tr>\n",
       "      <th>4</th>\n",
       "      <td>job_sat</td>\n",
       "      <td>Very satisfied</td>\n",
       "      <td>Neither</td>\n",
       "      <td>False</td>\n",
       "      <td>True</td>\n",
       "      <td>1.662901</td>\n",
       "      <td>328.326639</td>\n",
       "      <td>two-sided</td>\n",
       "      <td>0.097286</td>\n",
       "      <td>0.972864</td>\n",
       "      <td>bonf</td>\n",
       "      <td>0.337</td>\n",
       "      <td>0.120115</td>\n",
       "    </tr>\n",
       "    <tr>\n",
       "      <th>5</th>\n",
       "      <td>job_sat</td>\n",
       "      <td>Very satisfied</td>\n",
       "      <td>Very dissatisfied</td>\n",
       "      <td>False</td>\n",
       "      <td>True</td>\n",
       "      <td>0.747379</td>\n",
       "      <td>221.666205</td>\n",
       "      <td>two-sided</td>\n",
       "      <td>0.455627</td>\n",
       "      <td>1.000000</td>\n",
       "      <td>bonf</td>\n",
       "      <td>0.126</td>\n",
       "      <td>0.063479</td>\n",
       "    </tr>\n",
       "    <tr>\n",
       "      <th>6</th>\n",
       "      <td>job_sat</td>\n",
       "      <td>Very satisfied</td>\n",
       "      <td>Slightly dissatisfied</td>\n",
       "      <td>False</td>\n",
       "      <td>True</td>\n",
       "      <td>3.076222</td>\n",
       "      <td>821.303063</td>\n",
       "      <td>two-sided</td>\n",
       "      <td>0.002166</td>\n",
       "      <td>0.021659</td>\n",
       "      <td>bonf</td>\n",
       "      <td>7.43</td>\n",
       "      <td>0.173247</td>\n",
       "    </tr>\n",
       "    <tr>\n",
       "      <th>7</th>\n",
       "      <td>job_sat</td>\n",
       "      <td>Neither</td>\n",
       "      <td>Very dissatisfied</td>\n",
       "      <td>False</td>\n",
       "      <td>True</td>\n",
       "      <td>-0.545948</td>\n",
       "      <td>321.165726</td>\n",
       "      <td>two-sided</td>\n",
       "      <td>0.585481</td>\n",
       "      <td>1.000000</td>\n",
       "      <td>bonf</td>\n",
       "      <td>0.135</td>\n",
       "      <td>-0.058537</td>\n",
       "    </tr>\n",
       "    <tr>\n",
       "      <th>8</th>\n",
       "      <td>job_sat</td>\n",
       "      <td>Neither</td>\n",
       "      <td>Slightly dissatisfied</td>\n",
       "      <td>False</td>\n",
       "      <td>True</td>\n",
       "      <td>0.602209</td>\n",
       "      <td>367.730081</td>\n",
       "      <td>two-sided</td>\n",
       "      <td>0.547406</td>\n",
       "      <td>1.000000</td>\n",
       "      <td>bonf</td>\n",
       "      <td>0.118</td>\n",
       "      <td>0.055707</td>\n",
       "    </tr>\n",
       "    <tr>\n",
       "      <th>9</th>\n",
       "      <td>job_sat</td>\n",
       "      <td>Very dissatisfied</td>\n",
       "      <td>Slightly dissatisfied</td>\n",
       "      <td>False</td>\n",
       "      <td>True</td>\n",
       "      <td>1.129951</td>\n",
       "      <td>247.570187</td>\n",
       "      <td>two-sided</td>\n",
       "      <td>0.259590</td>\n",
       "      <td>1.000000</td>\n",
       "      <td>bonf</td>\n",
       "      <td>0.197</td>\n",
       "      <td>0.119131</td>\n",
       "    </tr>\n",
       "  </tbody>\n",
       "</table>\n",
       "</div>"
      ],
      "text/plain": [
       "  Contrast                   A                      B  Paired  Parametric  \\\n",
       "0  job_sat  Slightly satisfied         Very satisfied   False        True   \n",
       "1  job_sat  Slightly satisfied                Neither   False        True   \n",
       "2  job_sat  Slightly satisfied      Very dissatisfied   False        True   \n",
       "3  job_sat  Slightly satisfied  Slightly dissatisfied   False        True   \n",
       "4  job_sat      Very satisfied                Neither   False        True   \n",
       "5  job_sat      Very satisfied      Very dissatisfied   False        True   \n",
       "6  job_sat      Very satisfied  Slightly dissatisfied   False        True   \n",
       "7  job_sat             Neither      Very dissatisfied   False        True   \n",
       "8  job_sat             Neither  Slightly dissatisfied   False        True   \n",
       "9  job_sat   Very dissatisfied  Slightly dissatisfied   False        True   \n",
       "\n",
       "          T          dof alternative     p-unc    p-corr p-adjust     BF10  \\\n",
       "0 -4.009935  1478.622799   two-sided  0.000064  0.000638     bonf  158.564   \n",
       "1 -0.700752   258.204546   two-sided  0.484088  1.000000     bonf    0.114   \n",
       "2 -1.243665   187.153329   two-sided  0.215179  1.000000     bonf    0.208   \n",
       "3 -0.038264   569.926329   two-sided  0.969491  1.000000     bonf    0.074   \n",
       "4  1.662901   328.326639   two-sided  0.097286  0.972864     bonf    0.337   \n",
       "5  0.747379   221.666205   two-sided  0.455627  1.000000     bonf    0.126   \n",
       "6  3.076222   821.303063   two-sided  0.002166  0.021659     bonf     7.43   \n",
       "7 -0.545948   321.165726   two-sided  0.585481  1.000000     bonf    0.135   \n",
       "8  0.602209   367.730081   two-sided  0.547406  1.000000     bonf    0.118   \n",
       "9  1.129951   247.570187   two-sided  0.259590  1.000000     bonf    0.197   \n",
       "\n",
       "     hedges  \n",
       "0 -0.192931  \n",
       "1 -0.068513  \n",
       "2 -0.145624  \n",
       "3 -0.002719  \n",
       "4  0.120115  \n",
       "5  0.063479  \n",
       "6  0.173247  \n",
       "7 -0.058537  \n",
       "8  0.055707  \n",
       "9  0.119131  "
      ]
     },
     "execution_count": 115,
     "metadata": {},
     "output_type": "execute_result"
    }
   ],
   "source": [
    "pingouin.pairwise_tests(data=stack_overflow, dv='converted_comp', between='job_sat', padjust='bonf')"
   ]
  },
  {
   "cell_type": "markdown",
   "id": "450a7dbd",
   "metadata": {},
   "source": [
    "**padjust:** \n",
    "1. `'none'` (No correction)\n",
    "2. `'bong'` (one-step Bonferroni correction)\n",
    "3. `'sidak'`(one-step Sidak correction)\n",
    "4. `'holm'` (step-down method using Bonferroni adjusments)\n",
    "5. `'fdr_bh'` (Benjamini/Hochberg FDR correction)\n",
    "6. `'fdr_by'` (Benjamini/Yekutieli FDR correction)"
   ]
  },
  {
   "cell_type": "markdown",
   "id": "5b5a0ad0",
   "metadata": {},
   "source": [
    "### Visualizing many categories\n"
   ]
  },
  {
   "cell_type": "code",
   "execution_count": 116,
   "id": "859c5c93",
   "metadata": {},
   "outputs": [
    {
     "data": {
      "text/plain": [
       "shipment_mode\n",
       "Air            39.712395\n",
       "Air Charter     4.226667\n",
       "Ocean           6.432273\n",
       "Name: pack_price, dtype: float64"
      ]
     },
     "execution_count": 116,
     "metadata": {},
     "output_type": "execute_result"
    }
   ],
   "source": [
    "# Calculate the mean pack_price for each shipment_mode\n",
    "xbar_pack_by_mode = late_shipments.groupby('shipment_mode')['pack_price'].mean()\n",
    "\n",
    "# Print the grouped means\n",
    "xbar_pack_by_mode"
   ]
  },
  {
   "cell_type": "code",
   "execution_count": 117,
   "id": "9e33dfd5",
   "metadata": {},
   "outputs": [
    {
     "data": {
      "text/plain": [
       "shipment_mode\n",
       "Air            48.932861\n",
       "Air Charter     0.992969\n",
       "Ocean           5.303047\n",
       "Name: pack_price, dtype: float64"
      ]
     },
     "execution_count": 117,
     "metadata": {},
     "output_type": "execute_result"
    }
   ],
   "source": [
    "# Calculate the standard deviation of the pack_price for each shipment_mode\n",
    "s_pack_by_mode = late_shipments.groupby(\"shipment_mode\")['pack_price'].std()\n",
    "\n",
    "# Print the grouped standard deviations\n",
    "s_pack_by_mode"
   ]
  },
  {
   "cell_type": "code",
   "execution_count": 118,
   "id": "b3a8819b",
   "metadata": {},
   "outputs": [
    {
     "data": {
      "image/png": "[encoded data removed]",
      "text/plain": [
       "<Figure size 432x288 with 1 Axes>"
      ]
     },
     "metadata": {
      "needs_background": "light"
     },
     "output_type": "display_data"
    }
   ],
   "source": [
    "# Boxplot of shipment_mode vs. pack_price\n",
    "sns.boxplot(x='pack_price', y='shipment_mode', data=late_shipments)\n",
    "plt.show()"
   ]
  },
  {
   "cell_type": "markdown",
   "id": "45a836b3",
   "metadata": {},
   "source": [
    "> There certainly looks to be a difference in the pack price between each of the three shipment modes. Are there any differences are statistically significant?"
   ]
  },
  {
   "cell_type": "markdown",
   "id": "18a5f7e0",
   "metadata": {},
   "source": [
    "### ANOVA"
   ]
  },
  {
   "cell_type": "code",
   "execution_count": 120,
   "id": "4eb992db",
   "metadata": {},
   "outputs": [
    {
     "data": {
      "text/html": [
       "<div>\n",
       "<style scoped>\n",
       "    .dataframe tbody tr th:only-of-type {\n",
       "        vertical-align: middle;\n",
       "    }\n",
       "\n",
       "    .dataframe tbody tr th {\n",
       "        vertical-align: top;\n",
       "    }\n",
       "\n",
       "    .dataframe thead th {\n",
       "        text-align: right;\n",
       "    }\n",
       "</style>\n",
       "<table border=\"1\" class=\"dataframe\">\n",
       "  <thead>\n",
       "    <tr style=\"text-align: right;\">\n",
       "      <th></th>\n",
       "      <th>Source</th>\n",
       "      <th>ddof1</th>\n",
       "      <th>ddof2</th>\n",
       "      <th>F</th>\n",
       "      <th>p-unc</th>\n",
       "      <th>np2</th>\n",
       "    </tr>\n",
       "  </thead>\n",
       "  <tbody>\n",
       "    <tr>\n",
       "      <th>0</th>\n",
       "      <td>shipment_mode</td>\n",
       "      <td>2</td>\n",
       "      <td>997</td>\n",
       "      <td>21.8646</td>\n",
       "      <td>5.089479e-10</td>\n",
       "      <td>0.042018</td>\n",
       "    </tr>\n",
       "  </tbody>\n",
       "</table>\n",
       "</div>"
      ],
      "text/plain": [
       "          Source  ddof1  ddof2        F         p-unc       np2\n",
       "0  shipment_mode      2    997  21.8646  5.089479e-10  0.042018"
      ]
     },
     "execution_count": 120,
     "metadata": {},
     "output_type": "execute_result"
    }
   ],
   "source": [
    "alpha = 0.1\n",
    "# Run an ANOVA for pack_price across shipment_mode\n",
    "anova_results = pingouin.anova(data=late_shipments, dv='pack_price', between='shipment_mode')\n",
    "\n",
    "# Print anova_results\n",
    "anova_results"
   ]
  },
  {
   "cell_type": "code",
   "execution_count": 121,
   "id": "89a5f435",
   "metadata": {},
   "outputs": [
    {
     "data": {
      "text/plain": [
       "0    True\n",
       "Name: p-unc, dtype: bool"
      ]
     },
     "execution_count": 121,
     "metadata": {},
     "output_type": "execute_result"
    }
   ],
   "source": [
    "anova_results['p-unc'] <= alpha"
   ]
  },
  {
   "cell_type": "markdown",
   "id": "d77e7f5c",
   "metadata": {},
   "source": [
    "> The p-value is less than or equal to the significance level, so the null hypothesis should be rejected.\n",
    "\n",
    "**There is a significant difference in pack prices between the shipment modes. However, we don't know which shipment modes this applies to.**\n",
    "\n",
    "### Pairwise t-tests\n",
    "\n",
    "##### Without adjusments"
   ]
  },
  {
   "cell_type": "code",
   "execution_count": 122,
   "id": "b156a8eb",
   "metadata": {},
   "outputs": [
    {
     "data": {
      "text/html": [
       "<div>\n",
       "<style scoped>\n",
       "    .dataframe tbody tr th:only-of-type {\n",
       "        vertical-align: middle;\n",
       "    }\n",
       "\n",
       "    .dataframe tbody tr th {\n",
       "        vertical-align: top;\n",
       "    }\n",
       "\n",
       "    .dataframe thead th {\n",
       "        text-align: right;\n",
       "    }\n",
       "</style>\n",
       "<table border=\"1\" class=\"dataframe\">\n",
       "  <thead>\n",
       "    <tr style=\"text-align: right;\">\n",
       "      <th></th>\n",
       "      <th>Contrast</th>\n",
       "      <th>A</th>\n",
       "      <th>B</th>\n",
       "      <th>Paired</th>\n",
       "      <th>Parametric</th>\n",
       "      <th>T</th>\n",
       "      <th>dof</th>\n",
       "      <th>alternative</th>\n",
       "      <th>p-unc</th>\n",
       "      <th>BF10</th>\n",
       "      <th>hedges</th>\n",
       "    </tr>\n",
       "  </thead>\n",
       "  <tbody>\n",
       "    <tr>\n",
       "      <th>0</th>\n",
       "      <td>shipment_mode</td>\n",
       "      <td>Air</td>\n",
       "      <td>Air Charter</td>\n",
       "      <td>False</td>\n",
       "      <td>True</td>\n",
       "      <td>21.179625</td>\n",
       "      <td>600.685682</td>\n",
       "      <td>two-sided</td>\n",
       "      <td>8.748346e-75</td>\n",
       "      <td>5.809e+76</td>\n",
       "      <td>0.726592</td>\n",
       "    </tr>\n",
       "    <tr>\n",
       "      <th>1</th>\n",
       "      <td>shipment_mode</td>\n",
       "      <td>Air</td>\n",
       "      <td>Ocean</td>\n",
       "      <td>False</td>\n",
       "      <td>True</td>\n",
       "      <td>19.335760</td>\n",
       "      <td>986.979785</td>\n",
       "      <td>two-sided</td>\n",
       "      <td>6.934555e-71</td>\n",
       "      <td>1.129e+67</td>\n",
       "      <td>0.711119</td>\n",
       "    </tr>\n",
       "    <tr>\n",
       "      <th>2</th>\n",
       "      <td>shipment_mode</td>\n",
       "      <td>Air Charter</td>\n",
       "      <td>Ocean</td>\n",
       "      <td>False</td>\n",
       "      <td>True</td>\n",
       "      <td>-3.170654</td>\n",
       "      <td>35.615026</td>\n",
       "      <td>two-sided</td>\n",
       "      <td>3.123012e-03</td>\n",
       "      <td>15.277</td>\n",
       "      <td>-0.423775</td>\n",
       "    </tr>\n",
       "  </tbody>\n",
       "</table>\n",
       "</div>"
      ],
      "text/plain": [
       "        Contrast            A            B  Paired  Parametric          T  \\\n",
       "0  shipment_mode          Air  Air Charter   False        True  21.179625   \n",
       "1  shipment_mode          Air        Ocean   False        True  19.335760   \n",
       "2  shipment_mode  Air Charter        Ocean   False        True  -3.170654   \n",
       "\n",
       "          dof alternative         p-unc       BF10    hedges  \n",
       "0  600.685682   two-sided  8.748346e-75  5.809e+76  0.726592  \n",
       "1  986.979785   two-sided  6.934555e-71  1.129e+67  0.711119  \n",
       "2   35.615026   two-sided  3.123012e-03     15.277 -0.423775  "
      ]
     },
     "execution_count": 122,
     "metadata": {},
     "output_type": "execute_result"
    }
   ],
   "source": [
    "# Perform a pairwise t-test on pack price, grouped by shipment mode\n",
    "pairwise_results = pingouin.pairwise_tests(data=late_shipments, dv='pack_price', between='shipment_mode', padjust='none') \n",
    "\n",
    "# Print pairwise_results\n",
    "pairwise_results"
   ]
  },
  {
   "cell_type": "markdown",
   "id": "3adf6682",
   "metadata": {},
   "source": [
    "###### Modify the pairwise t-tests to use the Bonferroni p-value adjustment.\n"
   ]
  },
  {
   "cell_type": "code",
   "execution_count": 124,
   "id": "6a259748",
   "metadata": {},
   "outputs": [
    {
     "data": {
      "text/html": [
       "<div>\n",
       "<style scoped>\n",
       "    .dataframe tbody tr th:only-of-type {\n",
       "        vertical-align: middle;\n",
       "    }\n",
       "\n",
       "    .dataframe tbody tr th {\n",
       "        vertical-align: top;\n",
       "    }\n",
       "\n",
       "    .dataframe thead th {\n",
       "        text-align: right;\n",
       "    }\n",
       "</style>\n",
       "<table border=\"1\" class=\"dataframe\">\n",
       "  <thead>\n",
       "    <tr style=\"text-align: right;\">\n",
       "      <th></th>\n",
       "      <th>Contrast</th>\n",
       "      <th>A</th>\n",
       "      <th>B</th>\n",
       "      <th>Paired</th>\n",
       "      <th>Parametric</th>\n",
       "      <th>T</th>\n",
       "      <th>dof</th>\n",
       "      <th>alternative</th>\n",
       "      <th>p-unc</th>\n",
       "      <th>p-corr</th>\n",
       "      <th>p-adjust</th>\n",
       "      <th>BF10</th>\n",
       "      <th>hedges</th>\n",
       "    </tr>\n",
       "  </thead>\n",
       "  <tbody>\n",
       "    <tr>\n",
       "      <th>0</th>\n",
       "      <td>shipment_mode</td>\n",
       "      <td>Air</td>\n",
       "      <td>Air Charter</td>\n",
       "      <td>False</td>\n",
       "      <td>True</td>\n",
       "      <td>21.179625</td>\n",
       "      <td>600.685682</td>\n",
       "      <td>two-sided</td>\n",
       "      <td>8.748346e-75</td>\n",
       "      <td>2.624504e-74</td>\n",
       "      <td>bonf</td>\n",
       "      <td>5.809e+76</td>\n",
       "      <td>0.726592</td>\n",
       "    </tr>\n",
       "    <tr>\n",
       "      <th>1</th>\n",
       "      <td>shipment_mode</td>\n",
       "      <td>Air</td>\n",
       "      <td>Ocean</td>\n",
       "      <td>False</td>\n",
       "      <td>True</td>\n",
       "      <td>19.335760</td>\n",
       "      <td>986.979785</td>\n",
       "      <td>two-sided</td>\n",
       "      <td>6.934555e-71</td>\n",
       "      <td>2.080367e-70</td>\n",
       "      <td>bonf</td>\n",
       "      <td>1.129e+67</td>\n",
       "      <td>0.711119</td>\n",
       "    </tr>\n",
       "    <tr>\n",
       "      <th>2</th>\n",
       "      <td>shipment_mode</td>\n",
       "      <td>Air Charter</td>\n",
       "      <td>Ocean</td>\n",
       "      <td>False</td>\n",
       "      <td>True</td>\n",
       "      <td>-3.170654</td>\n",
       "      <td>35.615026</td>\n",
       "      <td>two-sided</td>\n",
       "      <td>3.123012e-03</td>\n",
       "      <td>9.369037e-03</td>\n",
       "      <td>bonf</td>\n",
       "      <td>15.277</td>\n",
       "      <td>-0.423775</td>\n",
       "    </tr>\n",
       "  </tbody>\n",
       "</table>\n",
       "</div>"
      ],
      "text/plain": [
       "        Contrast            A            B  Paired  Parametric          T  \\\n",
       "0  shipment_mode          Air  Air Charter   False        True  21.179625   \n",
       "1  shipment_mode          Air        Ocean   False        True  19.335760   \n",
       "2  shipment_mode  Air Charter        Ocean   False        True  -3.170654   \n",
       "\n",
       "          dof alternative         p-unc        p-corr p-adjust       BF10  \\\n",
       "0  600.685682   two-sided  8.748346e-75  2.624504e-74     bonf  5.809e+76   \n",
       "1  986.979785   two-sided  6.934555e-71  2.080367e-70     bonf  1.129e+67   \n",
       "2   35.615026   two-sided  3.123012e-03  9.369037e-03     bonf     15.277   \n",
       "\n",
       "     hedges  \n",
       "0  0.726592  \n",
       "1  0.711119  \n",
       "2 -0.423775  "
      ]
     },
     "execution_count": 124,
     "metadata": {},
     "output_type": "execute_result"
    }
   ],
   "source": [
    "# Modify the pairwise t-tests to use Bonferroni p-value adjustment\n",
    "pairwise_results = pingouin.pairwise_tests(data=late_shipments, \n",
    "                                            dv=\"pack_price\",\n",
    "                                            between=\"shipment_mode\",\n",
    "                                            padjust=\"bonf\")\n",
    "\n",
    "pairwise_results"
   ]
  },
  {
   "cell_type": "code",
   "execution_count": 126,
   "id": "0d874357",
   "metadata": {},
   "outputs": [
    {
     "data": {
      "text/plain": [
       "0    True\n",
       "1    True\n",
       "2    True\n",
       "Name: p-unc, dtype: bool"
      ]
     },
     "execution_count": 126,
     "metadata": {},
     "output_type": "execute_result"
    }
   ],
   "source": [
    "pairwise_results['p-unc'] < alpha"
   ]
  },
  {
   "cell_type": "markdown",
   "id": "966aa75e",
   "metadata": {},
   "source": [
    "> Using the Bonferroni correction results and assuming a significance level of 0.1, for which pairs of shipment modes should you reject the null hypothesis that the pack prices are equal?\n",
    "\n",
    "> **ANSWER: \"Ocean\" and \"Air Charter\"; \"Ocean\" and \"Air\"; \"Air Charter\" and \"Air\".**\n",
    "\n",
    "After applying the Bonferroni adjustment, the p-values for the t-tests between each of the three groups are all less than 0.1."
   ]
  },
  {
   "cell_type": "markdown",
   "id": "964279c8",
   "metadata": {},
   "source": [
    "# 3. Letting the Categoricals Out of the Bag\n",
    "## Difference strokes for proportions, folks\n",
    "\n",
    "##### Standardized test statistic for proportions.\n",
    "$p$: Population proportion (Unknown population parameter)\n",
    "\n",
    "$\\hat{p}$: Sample proportion (Sample statistic)\n",
    "\n",
    "${p}_{0}$: hypothesized population proportion\n",
    "\n",
    "##### Why z distribution instead of t?\n",
    "\n",
    "> t-distribution - fatter tails than a normal distribution.\n",
    "\n",
    "> $\\hat{p}$ only appears in the numerator, so z-scores is fine.\n",
    "\n",
    "**Stack Overflow age categories**\n",
    "\n",
    "$H_0$: Proportion of Stack Overflow users under thirty = 0.5\n",
    "\n",
    "$H_A$: Proportion of Stack Overflow users under thirty $\\neq$ 0.5"
   ]
  },
  {
   "cell_type": "code",
   "execution_count": 127,
   "id": "4643be68",
   "metadata": {},
   "outputs": [
    {
     "data": {
      "text/plain": [
       "Under 30       0.535604\n",
       "At least 30    0.464396\n",
       "Name: age_cat, dtype: float64"
      ]
     },
     "execution_count": 127,
     "metadata": {},
     "output_type": "execute_result"
    }
   ],
   "source": [
    "alpha = 0.01\n",
    "\n",
    "stack_overflow['age_cat'].value_counts(normalize=True)"
   ]
  },
  {
   "cell_type": "code",
   "execution_count": 128,
   "id": "6ce169fd",
   "metadata": {},
   "outputs": [
    {
     "data": {
      "text/plain": [
       "0.5356037151702786"
      ]
     },
     "execution_count": 128,
     "metadata": {},
     "output_type": "execute_result"
    }
   ],
   "source": [
    "p_hat = (stack_overflow['age_cat'] == 'Under 30').mean()\n",
    "p_hat"
   ]
  },
  {
   "cell_type": "code",
   "execution_count": 129,
   "id": "f8ef11a1",
   "metadata": {},
   "outputs": [
    {
     "data": {
      "text/plain": [
       "2261"
      ]
     },
     "execution_count": 129,
     "metadata": {},
     "output_type": "execute_result"
    }
   ],
   "source": [
    "p_0 = 0.50 # According to the null hypotesis\n",
    "\n",
    "n = len(stack_overflow)\n",
    "n"
   ]
  },
  {
   "cell_type": "code",
   "execution_count": 130,
   "id": "f156a816",
   "metadata": {},
   "outputs": [
    {
     "data": {
      "text/plain": [
       "3.385911440783663"
      ]
     },
     "execution_count": 130,
     "metadata": {},
     "output_type": "execute_result"
    }
   ],
   "source": [
    "numerator = p_hat - p_0\n",
    "denominator = np.sqrt(p_0 * (1 - p_0) / n)\n",
    "z_score = numerator / denominator\n",
    "z_score"
   ]
  },
  {
   "cell_type": "code",
   "execution_count": 135,
   "id": "e934f985",
   "metadata": {},
   "outputs": [
    {
     "data": {
      "text/plain": [
       "0.0007094227368100725"
      ]
     },
     "execution_count": 135,
     "metadata": {},
     "output_type": "execute_result"
    }
   ],
   "source": [
    "# Left-Tailed (Less than)\n",
    "### norm.cdf(z_score)\n",
    "\n",
    "# Right-Tailed (Greater than)\n",
    "### 1 - norm.cdf(z_score)\n",
    "\n",
    "# TWO-TAILED (\"Not equal\")\n",
    "p_value = norm.cdf(-z_score) + 1 - norm.cdf(z_score)\n",
    "p_value"
   ]
  },
  {
   "cell_type": "code",
   "execution_count": 136,
   "id": "d8c10582",
   "metadata": {},
   "outputs": [
    {
     "data": {
      "text/plain": [
       "0.0007094227368100725"
      ]
     },
     "execution_count": 136,
     "metadata": {},
     "output_type": "execute_result"
    }
   ],
   "source": [
    "p_value = 2 * (1 - norm.cdf(z_score))\n",
    "p_value"
   ]
  },
  {
   "cell_type": "code",
   "execution_count": 137,
   "id": "338034b1",
   "metadata": {},
   "outputs": [
    {
     "data": {
      "text/plain": [
       "True"
      ]
     },
     "execution_count": 137,
     "metadata": {},
     "output_type": "execute_result"
    }
   ],
   "source": [
    "p_value <= alpha"
   ]
  },
  {
   "cell_type": "markdown",
   "id": "49700f9b",
   "metadata": {},
   "source": [
    "> **We reject the null hypothesis, concluding that the proportion of users under thirty is no equal to 0.5**\n",
    "\n",
    "**t for proportions?**\n",
    "\n",
    "Some of the hypothesis tests in this course have used a  test statistic and some have used a  test statistic. To get the correct p-value, you need to use the right type of test statistic.\n",
    "\n",
    "Do tests of proportion(s) use a  or a  test statistic and why?\n",
    "\n",
    "**ANSWER: $z$: The test statistic for proportion(s) has only one estimate of a parameter instead of two.**"
   ]
  },
  {
   "cell_type": "markdown",
   "id": "10fc443f",
   "metadata": {},
   "source": [
    "### Test for single proportions\n"
   ]
  },
  {
   "cell_type": "code",
   "execution_count": 138,
   "id": "ec25c4c1",
   "metadata": {},
   "outputs": [
    {
     "name": "stdout",
     "output_type": "stream",
     "text": [
      "0.061 1000\n"
     ]
    }
   ],
   "source": [
    "# Hypothesize that the proportion of late shipments is 6%\n",
    "p_0 = 0.06\n",
    "\n",
    "# Calculate the sample proportion of late shipments\n",
    "p_hat = (late_shipments['late'] == 'Yes').mean()\n",
    "\n",
    "# Calculate the sample size\n",
    "n = len(late_shipments)\n",
    "\n",
    "# Print p_hat and n\n",
    "print(p_hat, n)"
   ]
  },
  {
   "cell_type": "code",
   "execution_count": 140,
   "id": "5565bf12",
   "metadata": {},
   "outputs": [
    {
     "name": "stdout",
     "output_type": "stream",
     "text": [
      "0.44703503936503364\n"
     ]
    }
   ],
   "source": [
    "# Calculate the numerator and denominator of the test statistic\n",
    "numerator = p_hat - p_0\n",
    "denominator = np.sqrt(p_0 * (1 - p_0) / n)\n",
    "\n",
    "# Calculate the test statistic\n",
    "z_score = numerator / denominator\n",
    "\n",
    "# Calculate the p-value from the z-score\n",
    "p_value = 1 - norm.cdf(z_score)\n",
    "\n",
    "# Print the p-value\n",
    "print(p_value)"
   ]
  },
  {
   "cell_type": "markdown",
   "id": "3cbf1c4f",
   "metadata": {},
   "source": [
    "> While bootstrapping can be used to estimate the standard error of any statistic, it is computationally intensive. For proportions, using a simple equation of the hypothesized proportion and sample size is easier to compute.\n",
    "\n",
    "### A sense of proportion\n",
    "##### Comparing two proportions\n",
    "\n",
    "$H_0$: Proportion of hobbyist users is the same for those under thirty as those at least thirty.\n",
    "\n",
    "$H_A$: Proportion of hobbyist users is different for those under thirty as those at least thirty.\n",
    "\n",
    "**$$H_0: p_{>=30} - p_{<30} = 0$$**\n",
    "**$$H_A: p_{>=30} - p_{<30} \\neq 0$$**\n",
    "\n",
    "\n",
    "###### Calculating the z score\n"
   ]
  },
  {
   "cell_type": "code",
   "execution_count": 153,
   "id": "07345754",
   "metadata": {
    "scrolled": true
   },
   "outputs": [
    {
     "data": {
      "text/plain": [
       "age_cat      hobbyist\n",
       "At least 30  Yes         0.773333\n",
       "             No          0.226667\n",
       "Under 30     Yes         0.843105\n",
       "             No          0.156895\n",
       "Name: hobbyist, dtype: float64"
      ]
     },
     "execution_count": 153,
     "metadata": {},
     "output_type": "execute_result"
    }
   ],
   "source": [
    "p_hats = stack_overflow.groupby('age_cat')['hobbyist'].value_counts(normalize=True)\n",
    "p_hats"
   ]
  },
  {
   "cell_type": "code",
   "execution_count": 159,
   "id": "a6111320",
   "metadata": {},
   "outputs": [
    {
     "name": "stdout",
     "output_type": "stream",
     "text": [
      "0.7733333333333333 0.8431048720066061\n"
     ]
    }
   ],
   "source": [
    "p_hat_at_least_30 = p_hats[(\"At least 30\", \"Yes\")]\n",
    "p_hat_under_30 = p_hats[(\"Under 30\", \"Yes\")]\n",
    "print(p_hat_at_least_30, p_hat_under_30)"
   ]
  },
  {
   "cell_type": "code",
   "execution_count": 155,
   "id": "1e5ecff3",
   "metadata": {
    "scrolled": true
   },
   "outputs": [
    {
     "data": {
      "text/plain": [
       "age_cat\n",
       "At least 30    1050\n",
       "Under 30       1211\n",
       "Name: hobbyist, dtype: int64"
      ]
     },
     "execution_count": 155,
     "metadata": {},
     "output_type": "execute_result"
    }
   ],
   "source": [
    "n = stack_overflow.groupby('age_cat')['hobbyist'].count()\n",
    "n"
   ]
  },
  {
   "cell_type": "code",
   "execution_count": 158,
   "id": "7f63577b",
   "metadata": {},
   "outputs": [
    {
     "name": "stdout",
     "output_type": "stream",
     "text": [
      "1050 1211\n"
     ]
    }
   ],
   "source": [
    "n_at_least_30 = n[\"At least 30\"]\n",
    "n_under_30 = n['Under 30']\n",
    "print(n_at_least_30, n_under_30)"
   ]
  },
  {
   "cell_type": "code",
   "execution_count": 145,
   "id": "ff67ffe5",
   "metadata": {
    "scrolled": false
   },
   "outputs": [
    {
     "data": {
      "text/plain": [
       "age_cat\n",
       "At least 30     812.0\n",
       "Under 30       1021.0\n",
       "Name: hobbyist, dtype: float64"
      ]
     },
     "execution_count": 145,
     "metadata": {},
     "output_type": "execute_result"
    }
   ],
   "source": [
    "(p_hat_at_least_30, p_hat_under_30) * n"
   ]
  },
  {
   "cell_type": "code",
   "execution_count": 164,
   "id": "5756237d",
   "metadata": {},
   "outputs": [
    {
     "data": {
      "text/plain": [
       "97.85274022478792"
      ]
     },
     "execution_count": 164,
     "metadata": {},
     "output_type": "execute_result"
    }
   ],
   "source": [
    "p_hat = ((n_at_least_30 * p_hat_at_least_30 + n_under_30 * p_hat_under_30)) / (n_at_least_30 + n_under_30)\n",
    "\n",
    "p_hat_times_not_p_hat = p_hat * (1 - p_hat)\n",
    "\n",
    "p_hat_times_not_p_hat_over_ns = p_hat_times_not_p_hat / n_under_30 + p_hat_times_not_p_hat / n_at_least_30\n",
    "\n",
    "std_error = np.sqrt(p_hat_times_not_p_hat_over_ns)\n",
    "\n",
    "z_score = (p_hat_at_least_30 + p_hat_under_30) / std_error\n",
    "z_score"
   ]
  },
  {
   "cell_type": "markdown",
   "id": "b4ce8f57",
   "metadata": {},
   "source": [
    "#### Avoding all this math"
   ]
  },
  {
   "cell_type": "code",
   "execution_count": 150,
   "id": "04433864",
   "metadata": {},
   "outputs": [
    {
     "data": {
      "text/plain": [
       "age_cat      hobbyist\n",
       "At least 30  Yes          812\n",
       "             No           238\n",
       "Under 30     Yes         1021\n",
       "             No           190\n",
       "Name: hobbyist, dtype: int64"
      ]
     },
     "execution_count": 150,
     "metadata": {},
     "output_type": "execute_result"
    }
   ],
   "source": [
    "age_by_hobbyist = stack_overflow.groupby('age_cat')['hobbyist'].value_counts()\n",
    "age_by_hobbyist"
   ]
  },
  {
   "cell_type": "code",
   "execution_count": 151,
   "id": "6e3bfcb6",
   "metadata": {},
   "outputs": [
    {
     "data": {
      "text/plain": [
       "(-4.223691463320559, 2.403330142685068e-05)"
      ]
     },
     "execution_count": 151,
     "metadata": {},
     "output_type": "execute_result"
    }
   ],
   "source": [
    "from statsmodels.stats.proportion import proportions_ztest\n",
    "alpha = 0.05\n",
    "\n",
    "success_counts = np.array([812,1021])\n",
    "n = np.array([812 + 238, 1021 + 190])\n",
    "\n",
    "stat, p_value = proportions_ztest(count=success_counts, nobs=n, alternative='two-sided')\n",
    "stat, p_value "
   ]
  },
  {
   "cell_type": "markdown",
   "id": "65b0fdce",
   "metadata": {},
   "source": [
    "### Test for two proportions\n"
   ]
  },
  {
   "cell_type": "code",
   "execution_count": 178,
   "id": "5667b550",
   "metadata": {
    "scrolled": true
   },
   "outputs": [
    {
     "data": {
      "text/plain": [
       "freight_cost_groups  late\n",
       "expensive            No      0.920904\n",
       "                     Yes     0.079096\n",
       "reasonable           No      0.964835\n",
       "                     Yes     0.035165\n",
       "Name: late, dtype: float64"
      ]
     },
     "execution_count": 178,
     "metadata": {},
     "output_type": "execute_result"
    }
   ],
   "source": [
    "p_hats = late_shipments.groupby('freight_cost_groups')['late'].value_counts(normalize=True)\n",
    "p_hats"
   ]
  },
  {
   "cell_type": "code",
   "execution_count": 179,
   "id": "b843a3ab",
   "metadata": {},
   "outputs": [
    {
     "data": {
      "text/plain": [
       "freight_cost_groups\n",
       "expensive     531\n",
       "reasonable    455\n",
       "Name: late, dtype: int64"
      ]
     },
     "execution_count": 179,
     "metadata": {},
     "output_type": "execute_result"
    }
   ],
   "source": [
    "ns = late_shipments.groupby('freight_cost_groups')['late'].count()\n",
    "ns"
   ]
  },
  {
   "cell_type": "code",
   "execution_count": 181,
   "id": "f5359b60",
   "metadata": {},
   "outputs": [
    {
     "name": "stdout",
     "output_type": "stream",
     "text": [
      "[0.99826466 0.00173534]\n"
     ]
    }
   ],
   "source": [
    "# Calculate the pooled estimate of the population proportion\n",
    "p_hat = (p_hats[\"reasonable\"] * ns[\"reasonable\"] + p_hats[\"expensive\"] * ns[\"expensive\"]) / (ns[\"reasonable\"] + ns[\"expensive\"])\n",
    "\n",
    "# Calculate p_hat one minus p_hat\n",
    "p_hat_times_not_p_hat = p_hat * (1 - p_hat)\n",
    "\n",
    "# Divide this by each of the sample sizes and then sum\n",
    "p_hat_times_not_p_hat_over_ns = p_hat_times_not_p_hat / ns[\"expensive\"] + p_hat_times_not_p_hat / ns[\"reasonable\"]\n",
    "\n",
    "# Calculate the standard error\n",
    "std_error = np.sqrt(p_hat_times_not_p_hat_over_ns)\n",
    "\n",
    "# Calculate the z-score\n",
    "z_score = (p_hats[\"expensive\"] - p_hats[\"reasonable\"]) / std_error\n",
    "\n",
    "# Calculate the p-value from the z-score\n",
    "p_value = 1 - norm.cdf(z_score)\n",
    "\n",
    "\n",
    "# Print p_value\n",
    "print(p_value)"
   ]
  },
  {
   "cell_type": "markdown",
   "id": "eaa5e205",
   "metadata": {},
   "source": [
    "> You can calculate a p-value for a two sample proportion test using (a rather exhausting amount of) arithmetic. This tiny p-value leads us to suspect there is a larger proportion of late shipments for expensive freight compared to reasonable freight."
   ]
  },
  {
   "cell_type": "markdown",
   "id": "44845ffd",
   "metadata": {},
   "source": [
    "### proportions_ztest() for two samples\n"
   ]
  },
  {
   "cell_type": "code",
   "execution_count": 184,
   "id": "6e88e465",
   "metadata": {},
   "outputs": [
    {
     "name": "stdout",
     "output_type": "stream",
     "text": [
      "freight_cost_groups  late\n",
      "expensive            No      489\n",
      "                     Yes      42\n",
      "reasonable           No      439\n",
      "                     Yes      16\n",
      "Name: late, dtype: int64\n"
     ]
    }
   ],
   "source": [
    "# Count the late column values for each freight_cost_group\n",
    "late_by_freight_cost_group = late_shipments.groupby('freight_cost_groups')['late'].value_counts()\n",
    "\n",
    "# Print the counts\n",
    "print(late_by_freight_cost_group)"
   ]
  },
  {
   "cell_type": "code",
   "execution_count": 187,
   "id": "bcabfc29",
   "metadata": {},
   "outputs": [
    {
     "name": "stdout",
     "output_type": "stream",
     "text": [
      "3.1190401865206128 0.0009072060637051224\n"
     ]
    }
   ],
   "source": [
    "# Put the two \"Yes\" counts into an array\n",
    "success_counts = np.array([45,16])\n",
    "\n",
    "# Put the two group counts into an array\n",
    "n = np.array([500 + 45, 439 + 16])\n",
    "\n",
    "# Run a z-test on the two proportions\n",
    "stat, p_value = proportions_ztest(count=success_counts, nobs=n, alternative='larger')\n",
    "\n",
    "\n",
    "# Print the results\n",
    "print(stat, p_value)"
   ]
  },
  {
   "cell_type": "markdown",
   "id": "1e4e6d59",
   "metadata": {},
   "source": [
    "> statsmodels's .proportions_ztest() method gives the same results with less effort.\n",
    "\n",
    "### Declaration of independence\n"
   ]
  },
  {
   "cell_type": "code",
   "execution_count": 190,
   "id": "9f674840",
   "metadata": {},
   "outputs": [
    {
     "data": {
      "text/html": [
       "<div>\n",
       "<style scoped>\n",
       "    .dataframe tbody tr th:only-of-type {\n",
       "        vertical-align: middle;\n",
       "    }\n",
       "\n",
       "    .dataframe tbody tr th {\n",
       "        vertical-align: top;\n",
       "    }\n",
       "\n",
       "    .dataframe thead th {\n",
       "        text-align: right;\n",
       "    }\n",
       "</style>\n",
       "<table border=\"1\" class=\"dataframe\">\n",
       "  <thead>\n",
       "    <tr style=\"text-align: right;\">\n",
       "      <th></th>\n",
       "      <th>test</th>\n",
       "      <th>lambda</th>\n",
       "      <th>chi2</th>\n",
       "      <th>dof</th>\n",
       "      <th>pval</th>\n",
       "      <th>cramer</th>\n",
       "      <th>power</th>\n",
       "    </tr>\n",
       "  </thead>\n",
       "  <tbody>\n",
       "    <tr>\n",
       "      <th>0</th>\n",
       "      <td>pearson</td>\n",
       "      <td>1.000000</td>\n",
       "      <td>17.839570</td>\n",
       "      <td>1.0</td>\n",
       "      <td>0.000024</td>\n",
       "      <td>0.088826</td>\n",
       "      <td>0.988205</td>\n",
       "    </tr>\n",
       "    <tr>\n",
       "      <th>1</th>\n",
       "      <td>cressie-read</td>\n",
       "      <td>0.666667</td>\n",
       "      <td>17.818114</td>\n",
       "      <td>1.0</td>\n",
       "      <td>0.000024</td>\n",
       "      <td>0.088773</td>\n",
       "      <td>0.988126</td>\n",
       "    </tr>\n",
       "    <tr>\n",
       "      <th>2</th>\n",
       "      <td>log-likelihood</td>\n",
       "      <td>0.000000</td>\n",
       "      <td>17.802653</td>\n",
       "      <td>1.0</td>\n",
       "      <td>0.000025</td>\n",
       "      <td>0.088734</td>\n",
       "      <td>0.988069</td>\n",
       "    </tr>\n",
       "    <tr>\n",
       "      <th>3</th>\n",
       "      <td>freeman-tukey</td>\n",
       "      <td>-0.500000</td>\n",
       "      <td>17.815060</td>\n",
       "      <td>1.0</td>\n",
       "      <td>0.000024</td>\n",
       "      <td>0.088765</td>\n",
       "      <td>0.988115</td>\n",
       "    </tr>\n",
       "    <tr>\n",
       "      <th>4</th>\n",
       "      <td>mod-log-likelihood</td>\n",
       "      <td>-1.000000</td>\n",
       "      <td>17.848099</td>\n",
       "      <td>1.0</td>\n",
       "      <td>0.000024</td>\n",
       "      <td>0.088848</td>\n",
       "      <td>0.988236</td>\n",
       "    </tr>\n",
       "    <tr>\n",
       "      <th>5</th>\n",
       "      <td>neyman</td>\n",
       "      <td>-2.000000</td>\n",
       "      <td>17.976656</td>\n",
       "      <td>1.0</td>\n",
       "      <td>0.000022</td>\n",
       "      <td>0.089167</td>\n",
       "      <td>0.988694</td>\n",
       "    </tr>\n",
       "  </tbody>\n",
       "</table>\n",
       "</div>"
      ],
      "text/plain": [
       "                 test    lambda       chi2  dof      pval    cramer     power\n",
       "0             pearson  1.000000  17.839570  1.0  0.000024  0.088826  0.988205\n",
       "1        cressie-read  0.666667  17.818114  1.0  0.000024  0.088773  0.988126\n",
       "2      log-likelihood  0.000000  17.802653  1.0  0.000025  0.088734  0.988069\n",
       "3       freeman-tukey -0.500000  17.815060  1.0  0.000024  0.088765  0.988115\n",
       "4  mod-log-likelihood -1.000000  17.848099  1.0  0.000024  0.088848  0.988236\n",
       "5              neyman -2.000000  17.976656  1.0  0.000022  0.089167  0.988694"
      ]
     },
     "execution_count": 190,
     "metadata": {},
     "output_type": "execute_result"
    }
   ],
   "source": [
    "expected, observed, stats = pingouin.chi2_independence(data=stack_overflow, x='hobbyist', \n",
    "                                                       y='age_cat', correction=False)\n",
    "stats"
   ]
  },
  {
   "cell_type": "markdown",
   "id": "b41a8db2",
   "metadata": {},
   "source": [
    "##### Declaring the hypothesis\n",
    "\n",
    "$H_0$: Age categories are independent of job satisfaction levels\n",
    "\n",
    "$H_A$: Age categories are NOT independent of job satisfaction levels"
   ]
  },
  {
   "cell_type": "code",
   "execution_count": 191,
   "id": "b28c8f2b",
   "metadata": {},
   "outputs": [],
   "source": [
    "alpha = 0.1"
   ]
  },
  {
   "cell_type": "code",
   "execution_count": 192,
   "id": "d904f413",
   "metadata": {},
   "outputs": [
    {
     "data": {
      "text/plain": [
       "job_sat                age_cat    \n",
       "Very dissatisfied      Under 30       0.509434\n",
       "                       At least 30    0.490566\n",
       "Slightly dissatisfied  Under 30       0.532164\n",
       "                       At least 30    0.467836\n",
       "Neither                Under 30       0.567164\n",
       "                       At least 30    0.432836\n",
       "Slightly satisfied     Under 30       0.564706\n",
       "                       At least 30    0.435294\n",
       "Very satisfied         Under 30       0.511945\n",
       "                       At least 30    0.488055\n",
       "Name: age_cat, dtype: float64"
      ]
     },
     "execution_count": 192,
     "metadata": {},
     "output_type": "execute_result"
    }
   ],
   "source": [
    "props = stack_overflow.groupby('job_sat')['age_cat'].value_counts(normalize=True)\n",
    "props"
   ]
  },
  {
   "cell_type": "code",
   "execution_count": 193,
   "id": "aea6f706",
   "metadata": {},
   "outputs": [
    {
     "data": {
      "text/html": [
       "<div>\n",
       "<style scoped>\n",
       "    .dataframe tbody tr th:only-of-type {\n",
       "        vertical-align: middle;\n",
       "    }\n",
       "\n",
       "    .dataframe tbody tr th {\n",
       "        vertical-align: top;\n",
       "    }\n",
       "\n",
       "    .dataframe thead th {\n",
       "        text-align: right;\n",
       "    }\n",
       "</style>\n",
       "<table border=\"1\" class=\"dataframe\">\n",
       "  <thead>\n",
       "    <tr style=\"text-align: right;\">\n",
       "      <th>age_cat</th>\n",
       "      <th>At least 30</th>\n",
       "      <th>Under 30</th>\n",
       "    </tr>\n",
       "    <tr>\n",
       "      <th>job_sat</th>\n",
       "      <th></th>\n",
       "      <th></th>\n",
       "    </tr>\n",
       "  </thead>\n",
       "  <tbody>\n",
       "    <tr>\n",
       "      <th>Very dissatisfied</th>\n",
       "      <td>0.490566</td>\n",
       "      <td>0.509434</td>\n",
       "    </tr>\n",
       "    <tr>\n",
       "      <th>Slightly dissatisfied</th>\n",
       "      <td>0.467836</td>\n",
       "      <td>0.532164</td>\n",
       "    </tr>\n",
       "    <tr>\n",
       "      <th>Neither</th>\n",
       "      <td>0.432836</td>\n",
       "      <td>0.567164</td>\n",
       "    </tr>\n",
       "    <tr>\n",
       "      <th>Slightly satisfied</th>\n",
       "      <td>0.435294</td>\n",
       "      <td>0.564706</td>\n",
       "    </tr>\n",
       "    <tr>\n",
       "      <th>Very satisfied</th>\n",
       "      <td>0.488055</td>\n",
       "      <td>0.511945</td>\n",
       "    </tr>\n",
       "  </tbody>\n",
       "</table>\n",
       "</div>"
      ],
      "text/plain": [
       "age_cat                At least 30  Under 30\n",
       "job_sat                                     \n",
       "Very dissatisfied         0.490566  0.509434\n",
       "Slightly dissatisfied     0.467836  0.532164\n",
       "Neither                   0.432836  0.567164\n",
       "Slightly satisfied        0.435294  0.564706\n",
       "Very satisfied            0.488055  0.511945"
      ]
     },
     "execution_count": 193,
     "metadata": {},
     "output_type": "execute_result"
    }
   ],
   "source": [
    "wide_props = props.unstack()\n",
    "wide_props"
   ]
  },
  {
   "cell_type": "code",
   "execution_count": 194,
   "id": "60cc6ba2",
   "metadata": {},
   "outputs": [
    {
     "data": {
      "text/plain": [
       "<AxesSubplot:xlabel='job_sat'>"
      ]
     },
     "execution_count": 194,
     "metadata": {},
     "output_type": "execute_result"
    },
    {
     "data": {
      "image/png": "[encoded data removed]",
      "text/plain": [
       "<Figure size 432x288 with 1 Axes>"
      ]
     },
     "metadata": {
      "needs_background": "light"
     },
     "output_type": "display_data"
    }
   ],
   "source": [
    "wide_props.plot(kind='bar', stacked=True)"
   ]
  },
  {
   "cell_type": "code",
   "execution_count": 195,
   "id": "4a552b40",
   "metadata": {},
   "outputs": [
    {
     "data": {
      "text/html": [
       "<div>\n",
       "<style scoped>\n",
       "    .dataframe tbody tr th:only-of-type {\n",
       "        vertical-align: middle;\n",
       "    }\n",
       "\n",
       "    .dataframe tbody tr th {\n",
       "        vertical-align: top;\n",
       "    }\n",
       "\n",
       "    .dataframe thead th {\n",
       "        text-align: right;\n",
       "    }\n",
       "</style>\n",
       "<table border=\"1\" class=\"dataframe\">\n",
       "  <thead>\n",
       "    <tr style=\"text-align: right;\">\n",
       "      <th></th>\n",
       "      <th>test</th>\n",
       "      <th>lambda</th>\n",
       "      <th>chi2</th>\n",
       "      <th>dof</th>\n",
       "      <th>pval</th>\n",
       "      <th>cramer</th>\n",
       "      <th>power</th>\n",
       "    </tr>\n",
       "  </thead>\n",
       "  <tbody>\n",
       "    <tr>\n",
       "      <th>0</th>\n",
       "      <td>pearson</td>\n",
       "      <td>1.000000</td>\n",
       "      <td>5.552373</td>\n",
       "      <td>4.0</td>\n",
       "      <td>0.235164</td>\n",
       "      <td>0.049555</td>\n",
       "      <td>0.437417</td>\n",
       "    </tr>\n",
       "    <tr>\n",
       "      <th>1</th>\n",
       "      <td>cressie-read</td>\n",
       "      <td>0.666667</td>\n",
       "      <td>5.554106</td>\n",
       "      <td>4.0</td>\n",
       "      <td>0.235014</td>\n",
       "      <td>0.049563</td>\n",
       "      <td>0.437545</td>\n",
       "    </tr>\n",
       "    <tr>\n",
       "      <th>2</th>\n",
       "      <td>log-likelihood</td>\n",
       "      <td>0.000000</td>\n",
       "      <td>5.558529</td>\n",
       "      <td>4.0</td>\n",
       "      <td>0.234632</td>\n",
       "      <td>0.049583</td>\n",
       "      <td>0.437871</td>\n",
       "    </tr>\n",
       "    <tr>\n",
       "      <th>3</th>\n",
       "      <td>freeman-tukey</td>\n",
       "      <td>-0.500000</td>\n",
       "      <td>5.562688</td>\n",
       "      <td>4.0</td>\n",
       "      <td>0.234274</td>\n",
       "      <td>0.049601</td>\n",
       "      <td>0.438178</td>\n",
       "    </tr>\n",
       "    <tr>\n",
       "      <th>4</th>\n",
       "      <td>mod-log-likelihood</td>\n",
       "      <td>-1.000000</td>\n",
       "      <td>5.567570</td>\n",
       "      <td>4.0</td>\n",
       "      <td>0.233854</td>\n",
       "      <td>0.049623</td>\n",
       "      <td>0.438538</td>\n",
       "    </tr>\n",
       "    <tr>\n",
       "      <th>5</th>\n",
       "      <td>neyman</td>\n",
       "      <td>-2.000000</td>\n",
       "      <td>5.579519</td>\n",
       "      <td>4.0</td>\n",
       "      <td>0.232828</td>\n",
       "      <td>0.049676</td>\n",
       "      <td>0.439419</td>\n",
       "    </tr>\n",
       "  </tbody>\n",
       "</table>\n",
       "</div>"
      ],
      "text/plain": [
       "                 test    lambda      chi2  dof      pval    cramer     power\n",
       "0             pearson  1.000000  5.552373  4.0  0.235164  0.049555  0.437417\n",
       "1        cressie-read  0.666667  5.554106  4.0  0.235014  0.049563  0.437545\n",
       "2      log-likelihood  0.000000  5.558529  4.0  0.234632  0.049583  0.437871\n",
       "3       freeman-tukey -0.500000  5.562688  4.0  0.234274  0.049601  0.438178\n",
       "4  mod-log-likelihood -1.000000  5.567570  4.0  0.233854  0.049623  0.438538\n",
       "5              neyman -2.000000  5.579519  4.0  0.232828  0.049676  0.439419"
      ]
     },
     "execution_count": 195,
     "metadata": {},
     "output_type": "execute_result"
    }
   ],
   "source": [
    "import pingouin\n",
    "expected, observed, stats = pingouin.chi2_independence(data=stack_overflow, x='job_sat', \n",
    "                                                       y='age_cat', correction=False)\n",
    "stats"
   ]
  },
  {
   "cell_type": "code",
   "execution_count": 196,
   "id": "632adea5",
   "metadata": {},
   "outputs": [
    {
     "data": {
      "text/plain": [
       "<AxesSubplot:xlabel='age_cat'>"
      ]
     },
     "execution_count": 196,
     "metadata": {},
     "output_type": "execute_result"
    },
    {
     "data": {
      "image/png": "[encoded data removed]",
      "text/plain": [
       "<Figure size 432x288 with 1 Axes>"
      ]
     },
     "metadata": {
      "needs_background": "light"
     },
     "output_type": "display_data"
    }
   ],
   "source": [
    "props = stack_overflow.groupby('age_cat')['job_sat'].value_counts(normalize=True)\n",
    "wide_props = props.unstack()\n",
    "wide_props.plot(kind='bar', stacked=True)"
   ]
  },
  {
   "cell_type": "code",
   "execution_count": 199,
   "id": "1320ab1c",
   "metadata": {},
   "outputs": [
    {
     "data": {
      "text/html": [
       "<div>\n",
       "<style scoped>\n",
       "    .dataframe tbody tr th:only-of-type {\n",
       "        vertical-align: middle;\n",
       "    }\n",
       "\n",
       "    .dataframe tbody tr th {\n",
       "        vertical-align: top;\n",
       "    }\n",
       "\n",
       "    .dataframe thead th {\n",
       "        text-align: right;\n",
       "    }\n",
       "</style>\n",
       "<table border=\"1\" class=\"dataframe\">\n",
       "  <thead>\n",
       "    <tr style=\"text-align: right;\">\n",
       "      <th></th>\n",
       "      <th>test</th>\n",
       "      <th>lambda</th>\n",
       "      <th>chi2</th>\n",
       "      <th>dof</th>\n",
       "      <th>pval</th>\n",
       "      <th>cramer</th>\n",
       "      <th>power</th>\n",
       "    </tr>\n",
       "  </thead>\n",
       "  <tbody>\n",
       "    <tr>\n",
       "      <th>0</th>\n",
       "      <td>pearson</td>\n",
       "      <td>1.0</td>\n",
       "      <td>5.552373</td>\n",
       "      <td>4.0</td>\n",
       "      <td>0.235164</td>\n",
       "      <td>0.049555</td>\n",
       "      <td>0.437417</td>\n",
       "    </tr>\n",
       "  </tbody>\n",
       "</table>\n",
       "</div>"
      ],
      "text/plain": [
       "      test  lambda      chi2  dof      pval    cramer     power\n",
       "0  pearson     1.0  5.552373  4.0  0.235164  0.049555  0.437417"
      ]
     },
     "execution_count": 199,
     "metadata": {},
     "output_type": "execute_result"
    }
   ],
   "source": [
    "expected, observed, stats = pingouin.chi2_independence(data=stack_overflow, x='age_cat', \n",
    "                                                       y='job_sat', correction=False)\n",
    "stats[stats['test'] == 'pearson']"
   ]
  },
  {
   "cell_type": "markdown",
   "id": "679df5c9",
   "metadata": {},
   "source": [
    "> Variables are inpendent beacuse the result does not change.\n",
    "### The chi-square distribution\n",
    "**As you increase the degrees of freedom or the non-centrality, the chi-square distribution PDF and CDF curves get closer to those of a normal distribution.**\n",
    "\n",
    "> Like the t-distribution, the chi-square distribution has degrees of freedom and non-centrality parameters. When these numbers are large, the chi-square distribution can be approximated by a normal distribution.\n",
    "\n",
    "#### How many tails for chi-square tests?\n",
    "\n",
    "`pingouin.chi2_independence()` does not have an `alternative` argument to specify which tails are considered by the alternative hypothesis.\n",
    "\n",
    "> **The chi-square test statistic is a square number, so it is always non-negative, so only the right tail tends to be of interest.**\n",
    "\n",
    "### Chi-square test of independence\n"
   ]
  },
  {
   "cell_type": "markdown",
   "id": "41cec03a",
   "metadata": {},
   "source": [
    "The late_shipments dataset includes a vendor_inco_term that describes the incoterms that applied to a given shipment. The choices are:\n",
    "\n",
    "`EXW`: \"Ex works\". The buyer pays for transportation of the goods.\n",
    "\n",
    "`CIP`: \"Carriage and insurance paid to\". The seller pays for freight and insurance until the goods board a ship.\n",
    "\n",
    "`DDP`: \"Delivered duty paid\". The seller pays for transportation of the goods until they reach a destination port.\n",
    "\n",
    "`FCA`: \"Free carrier\". The seller pays for transportation of the goods.\n",
    "\n",
    "Perhaps the incoterms affect whether or not the freight costs are expensive. Test these hypotheses with a significance level of 0.01.\n",
    "\n",
    "$H_0$: vendor_inco_term and freight_cost_group are independent.\n",
    "\n",
    "$H_A$: vendor_inco_term and freight_cost_group are associated."
   ]
  },
  {
   "cell_type": "code",
   "execution_count": 201,
   "id": "4f949236",
   "metadata": {},
   "outputs": [
    {
     "data": {
      "text/plain": [
       "vendor_inco_term  freight_cost_groups\n",
       "CIP               reasonable             0.680000\n",
       "                  expensive              0.320000\n",
       "DDP               expensive              0.550000\n",
       "                  reasonable             0.450000\n",
       "DDU               reasonable             1.000000\n",
       "EXW               expensive              0.583448\n",
       "                  reasonable             0.416552\n",
       "FCA               reasonable             0.663636\n",
       "                  expensive              0.336364\n",
       "Name: freight_cost_groups, dtype: float64"
      ]
     },
     "execution_count": 201,
     "metadata": {},
     "output_type": "execute_result"
    }
   ],
   "source": [
    "# Proportion of freight_cost_group grouped by vendor_inco_term\n",
    "props = late_shipments.groupby('vendor_inco_term')['freight_cost_groups'].value_counts(normalize=True)\n",
    "\n",
    "# Print props\n",
    "props"
   ]
  },
  {
   "cell_type": "code",
   "execution_count": 203,
   "id": "9e53a409",
   "metadata": {},
   "outputs": [
    {
     "data": {
      "text/html": [
       "<div>\n",
       "<style scoped>\n",
       "    .dataframe tbody tr th:only-of-type {\n",
       "        vertical-align: middle;\n",
       "    }\n",
       "\n",
       "    .dataframe tbody tr th {\n",
       "        vertical-align: top;\n",
       "    }\n",
       "\n",
       "    .dataframe thead th {\n",
       "        text-align: right;\n",
       "    }\n",
       "</style>\n",
       "<table border=\"1\" class=\"dataframe\">\n",
       "  <thead>\n",
       "    <tr style=\"text-align: right;\">\n",
       "      <th>freight_cost_groups</th>\n",
       "      <th>expensive</th>\n",
       "      <th>reasonable</th>\n",
       "    </tr>\n",
       "    <tr>\n",
       "      <th>vendor_inco_term</th>\n",
       "      <th></th>\n",
       "      <th></th>\n",
       "    </tr>\n",
       "  </thead>\n",
       "  <tbody>\n",
       "    <tr>\n",
       "      <th>CIP</th>\n",
       "      <td>0.320000</td>\n",
       "      <td>0.680000</td>\n",
       "    </tr>\n",
       "    <tr>\n",
       "      <th>DDP</th>\n",
       "      <td>0.550000</td>\n",
       "      <td>0.450000</td>\n",
       "    </tr>\n",
       "    <tr>\n",
       "      <th>DDU</th>\n",
       "      <td>NaN</td>\n",
       "      <td>1.000000</td>\n",
       "    </tr>\n",
       "    <tr>\n",
       "      <th>EXW</th>\n",
       "      <td>0.583448</td>\n",
       "      <td>0.416552</td>\n",
       "    </tr>\n",
       "    <tr>\n",
       "      <th>FCA</th>\n",
       "      <td>0.336364</td>\n",
       "      <td>0.663636</td>\n",
       "    </tr>\n",
       "  </tbody>\n",
       "</table>\n",
       "</div>"
      ],
      "text/plain": [
       "freight_cost_groups  expensive  reasonable\n",
       "vendor_inco_term                          \n",
       "CIP                   0.320000    0.680000\n",
       "DDP                   0.550000    0.450000\n",
       "DDU                        NaN    1.000000\n",
       "EXW                   0.583448    0.416552\n",
       "FCA                   0.336364    0.663636"
      ]
     },
     "execution_count": 203,
     "metadata": {},
     "output_type": "execute_result"
    }
   ],
   "source": [
    "# Convert props to wide format\n",
    "wide_props = props.unstack()\n",
    "\n",
    "# Print wide_props\n",
    "wide_props"
   ]
  },
  {
   "cell_type": "code",
   "execution_count": 204,
   "id": "9863f8b0",
   "metadata": {},
   "outputs": [
    {
     "data": {
      "image/png": "[encoded data removed]",
      "text/plain": [
       "<Figure size 432x288 with 1 Axes>"
      ]
     },
     "metadata": {
      "needs_background": "light"
     },
     "output_type": "display_data"
    }
   ],
   "source": [
    "# Proportional stacked bar plot of freight_cost_group vs. vendor_inco_term\n",
    "wide_props.plot(kind=\"bar\", stacked=True)\n",
    "plt.show()"
   ]
  },
  {
   "cell_type": "code",
   "execution_count": 207,
   "id": "09f51eb3",
   "metadata": {
    "scrolled": true
   },
   "outputs": [
    {
     "name": "stderr",
     "output_type": "stream",
     "text": [
      "/opt/miniconda3/lib/python3.9/site-packages/pingouin/contingency.py:150: UserWarning: Low count on observed frequencies.\n",
      "  warnings.warn(\"Low count on {} frequencies.\".format(name))\n",
      "/opt/miniconda3/lib/python3.9/site-packages/pingouin/contingency.py:150: UserWarning: Low count on expected frequencies.\n",
      "  warnings.warn(\"Low count on {} frequencies.\".format(name))\n",
      "/opt/miniconda3/lib/python3.9/site-packages/scipy/stats/stats.py:6716: RuntimeWarning: divide by zero encountered in power\n",
      "  terms = f_obs * ((f_obs / f_exp)**lambda_ - 1)\n",
      "/opt/miniconda3/lib/python3.9/site-packages/scipy/stats/stats.py:6716: RuntimeWarning: invalid value encountered in multiply\n",
      "  terms = f_obs * ((f_obs / f_exp)**lambda_ - 1)\n",
      "/opt/miniconda3/lib/python3.9/site-packages/scipy/stats/stats.py:6713: RuntimeWarning: divide by zero encountered in true_divide\n",
      "  terms = 2.0 * special.xlogy(f_exp, f_exp / f_obs)\n"
     ]
    },
    {
     "data": {
      "text/html": [
       "<div>\n",
       "<style scoped>\n",
       "    .dataframe tbody tr th:only-of-type {\n",
       "        vertical-align: middle;\n",
       "    }\n",
       "\n",
       "    .dataframe tbody tr th {\n",
       "        vertical-align: top;\n",
       "    }\n",
       "\n",
       "    .dataframe thead th {\n",
       "        text-align: right;\n",
       "    }\n",
       "</style>\n",
       "<table border=\"1\" class=\"dataframe\">\n",
       "  <thead>\n",
       "    <tr style=\"text-align: right;\">\n",
       "      <th></th>\n",
       "      <th>test</th>\n",
       "      <th>lambda</th>\n",
       "      <th>chi2</th>\n",
       "      <th>dof</th>\n",
       "      <th>pval</th>\n",
       "      <th>cramer</th>\n",
       "      <th>power</th>\n",
       "    </tr>\n",
       "  </thead>\n",
       "  <tbody>\n",
       "    <tr>\n",
       "      <th>0</th>\n",
       "      <td>pearson</td>\n",
       "      <td>1.0</td>\n",
       "      <td>34.805072</td>\n",
       "      <td>4.0</td>\n",
       "      <td>5.093922e-07</td>\n",
       "      <td>0.186561</td>\n",
       "      <td>0.999235</td>\n",
       "    </tr>\n",
       "  </tbody>\n",
       "</table>\n",
       "</div>"
      ],
      "text/plain": [
       "      test  lambda       chi2  dof          pval    cramer     power\n",
       "0  pearson     1.0  34.805072  4.0  5.093922e-07  0.186561  0.999235"
      ]
     },
     "execution_count": 207,
     "metadata": {},
     "output_type": "execute_result"
    }
   ],
   "source": [
    "# Determine if freight_cost_group and vendor_inco_term are independent\n",
    "expected, observed, stats = pingouin.chi2_independence(data=late_shipments, x='vendor_inco_term', \n",
    "                                                       y='freight_cost_groups', correction=False)\n",
    "\n",
    "# Print results\n",
    "stats[stats['test'] == 'pearson']"
   ]
  },
  {
   "cell_type": "code",
   "execution_count": 209,
   "id": "42aac0ca",
   "metadata": {},
   "outputs": [
    {
     "data": {
      "text/plain": [
       "True"
      ]
     },
     "execution_count": 209,
     "metadata": {},
     "output_type": "execute_result"
    }
   ],
   "source": [
    "5.093922e-07 <= 0.01"
   ]
  },
  {
   "cell_type": "markdown",
   "id": "f68311b4",
   "metadata": {},
   "source": [
    "> **Reject the null hypothesis and conclude that `vendor_inco_term` and `freight_cost_groups` are associated.**\n",
    "\n",
    "The test to compare proportions of successes in a categorical variable across groups of another categorical variable is called a chi-square test of independence."
   ]
  },
  {
   "cell_type": "markdown",
   "id": "bb148c5a",
   "metadata": {},
   "source": [
    "### Does this dress make my fit look good?\n"
   ]
  },
  {
   "cell_type": "code",
   "execution_count": 211,
   "id": "81dde401",
   "metadata": {},
   "outputs": [
    {
     "data": {
      "text/plain": [
       "Hello, old friend    1225\n",
       "Indifferent           405\n",
       "Amused                368\n",
       "Annoyed               263\n",
       "Name: purple_link, dtype: int64"
      ]
     },
     "execution_count": 211,
     "metadata": {},
     "output_type": "execute_result"
    }
   ],
   "source": [
    "purple_link_counts = stack_overflow['purple_link'].value_counts()\n",
    "purple_link_counts"
   ]
  },
  {
   "cell_type": "code",
   "execution_count": 212,
   "id": "9a2d7008",
   "metadata": {},
   "outputs": [
    {
     "data": {
      "text/html": [
       "<div>\n",
       "<style scoped>\n",
       "    .dataframe tbody tr th:only-of-type {\n",
       "        vertical-align: middle;\n",
       "    }\n",
       "\n",
       "    .dataframe tbody tr th {\n",
       "        vertical-align: top;\n",
       "    }\n",
       "\n",
       "    .dataframe thead th {\n",
       "        text-align: right;\n",
       "    }\n",
       "</style>\n",
       "<table border=\"1\" class=\"dataframe\">\n",
       "  <thead>\n",
       "    <tr style=\"text-align: right;\">\n",
       "      <th></th>\n",
       "      <th>purple_link</th>\n",
       "      <th>n</th>\n",
       "    </tr>\n",
       "  </thead>\n",
       "  <tbody>\n",
       "    <tr>\n",
       "      <th>0</th>\n",
       "      <td>Hello, old friend</td>\n",
       "      <td>1225</td>\n",
       "    </tr>\n",
       "    <tr>\n",
       "      <th>1</th>\n",
       "      <td>Indifferent</td>\n",
       "      <td>405</td>\n",
       "    </tr>\n",
       "    <tr>\n",
       "      <th>2</th>\n",
       "      <td>Amused</td>\n",
       "      <td>368</td>\n",
       "    </tr>\n",
       "    <tr>\n",
       "      <th>3</th>\n",
       "      <td>Annoyed</td>\n",
       "      <td>263</td>\n",
       "    </tr>\n",
       "  </tbody>\n",
       "</table>\n",
       "</div>"
      ],
      "text/plain": [
       "         purple_link     n\n",
       "0  Hello, old friend  1225\n",
       "1        Indifferent   405\n",
       "2             Amused   368\n",
       "3            Annoyed   263"
      ]
     },
     "execution_count": 212,
     "metadata": {},
     "output_type": "execute_result"
    }
   ],
   "source": [
    "purple_link_counts = purple_link_counts.rename_axis('purple_link').reset_index(name='n')\n",
    "purple_link_counts"
   ]
  },
  {
   "cell_type": "code",
   "execution_count": 213,
   "id": "c8772c9e",
   "metadata": {},
   "outputs": [
    {
     "data": {
      "text/html": [
       "<div>\n",
       "<style scoped>\n",
       "    .dataframe tbody tr th:only-of-type {\n",
       "        vertical-align: middle;\n",
       "    }\n",
       "\n",
       "    .dataframe tbody tr th {\n",
       "        vertical-align: top;\n",
       "    }\n",
       "\n",
       "    .dataframe thead th {\n",
       "        text-align: right;\n",
       "    }\n",
       "</style>\n",
       "<table border=\"1\" class=\"dataframe\">\n",
       "  <thead>\n",
       "    <tr style=\"text-align: right;\">\n",
       "      <th></th>\n",
       "      <th>purple_link</th>\n",
       "      <th>prop</th>\n",
       "    </tr>\n",
       "  </thead>\n",
       "  <tbody>\n",
       "    <tr>\n",
       "      <th>0</th>\n",
       "      <td>Hello, old friend</td>\n",
       "      <td>0.500000</td>\n",
       "    </tr>\n",
       "    <tr>\n",
       "      <th>1</th>\n",
       "      <td>Amused</td>\n",
       "      <td>0.166667</td>\n",
       "    </tr>\n",
       "    <tr>\n",
       "      <th>2</th>\n",
       "      <td>Indifferent</td>\n",
       "      <td>0.166667</td>\n",
       "    </tr>\n",
       "    <tr>\n",
       "      <th>3</th>\n",
       "      <td>Annoyed</td>\n",
       "      <td>0.166667</td>\n",
       "    </tr>\n",
       "  </tbody>\n",
       "</table>\n",
       "</div>"
      ],
      "text/plain": [
       "         purple_link      prop\n",
       "0  Hello, old friend  0.500000\n",
       "1             Amused  0.166667\n",
       "2        Indifferent  0.166667\n",
       "3            Annoyed  0.166667"
      ]
     },
     "execution_count": 213,
     "metadata": {},
     "output_type": "execute_result"
    }
   ],
   "source": [
    "hypothesezed = pd.DataFrame({'purple_link': ['Hello, old friend', 'Amused', 'Indifferent', 'Annoyed'],\n",
    "                             'prop': [1/2,1/6,1/6,1/6]})\n",
    "hypothesezed"
   ]
  },
  {
   "cell_type": "markdown",
   "id": "29b1cd5c",
   "metadata": {},
   "source": [
    "**$H_0$: The sample matches with the hypothesized distribution.**\n",
    "\n",
    "**$H_A$: The sample does NOT match with the hypothesized distribution.**"
   ]
  },
  {
   "cell_type": "code",
   "execution_count": 214,
   "id": "6efb1b15",
   "metadata": {},
   "outputs": [
    {
     "data": {
      "text/html": [
       "<div>\n",
       "<style scoped>\n",
       "    .dataframe tbody tr th:only-of-type {\n",
       "        vertical-align: middle;\n",
       "    }\n",
       "\n",
       "    .dataframe tbody tr th {\n",
       "        vertical-align: top;\n",
       "    }\n",
       "\n",
       "    .dataframe thead th {\n",
       "        text-align: right;\n",
       "    }\n",
       "</style>\n",
       "<table border=\"1\" class=\"dataframe\">\n",
       "  <thead>\n",
       "    <tr style=\"text-align: right;\">\n",
       "      <th></th>\n",
       "      <th>purple_link</th>\n",
       "      <th>prop</th>\n",
       "      <th>n</th>\n",
       "    </tr>\n",
       "  </thead>\n",
       "  <tbody>\n",
       "    <tr>\n",
       "      <th>0</th>\n",
       "      <td>Hello, old friend</td>\n",
       "      <td>0.500000</td>\n",
       "      <td>1130.500000</td>\n",
       "    </tr>\n",
       "    <tr>\n",
       "      <th>1</th>\n",
       "      <td>Amused</td>\n",
       "      <td>0.166667</td>\n",
       "      <td>376.833333</td>\n",
       "    </tr>\n",
       "    <tr>\n",
       "      <th>2</th>\n",
       "      <td>Indifferent</td>\n",
       "      <td>0.166667</td>\n",
       "      <td>376.833333</td>\n",
       "    </tr>\n",
       "    <tr>\n",
       "      <th>3</th>\n",
       "      <td>Annoyed</td>\n",
       "      <td>0.166667</td>\n",
       "      <td>376.833333</td>\n",
       "    </tr>\n",
       "  </tbody>\n",
       "</table>\n",
       "</div>"
      ],
      "text/plain": [
       "         purple_link      prop            n\n",
       "0  Hello, old friend  0.500000  1130.500000\n",
       "1             Amused  0.166667   376.833333\n",
       "2        Indifferent  0.166667   376.833333\n",
       "3            Annoyed  0.166667   376.833333"
      ]
     },
     "execution_count": 214,
     "metadata": {},
     "output_type": "execute_result"
    }
   ],
   "source": [
    "n_total = len(stack_overflow)\n",
    "hypothesezed['n'] = hypothesezed['prop'] * n_total\n",
    "hypothesezed"
   ]
  },
  {
   "cell_type": "code",
   "execution_count": 215,
   "id": "4edd9e25",
   "metadata": {},
   "outputs": [
    {
     "data": {
      "image/png": "[encoded data removed]",
      "text/plain": [
       "<Figure size 432x288 with 1 Axes>"
      ]
     },
     "metadata": {
      "needs_background": "light"
     },
     "output_type": "display_data"
    }
   ],
   "source": [
    "plt.bar(purple_link_counts['purple_link'], purple_link_counts['n'], color='orange', alpha=0.5)\n",
    "\n",
    "plt.scatter(hypothesezed['purple_link'], hypothesezed['n'], color='purple')\n",
    "plt.show()"
   ]
  },
  {
   "cell_type": "markdown",
   "id": "759c7006",
   "metadata": {},
   "source": [
    "> Two bars are closer to the values we hypothesized and the other two are different."
   ]
  },
  {
   "cell_type": "code",
   "execution_count": 216,
   "id": "562296e9",
   "metadata": {},
   "outputs": [
    {
     "data": {
      "text/plain": [
       "Power_divergenceResult(statistic=44.59840778416629, pvalue=1.1261810719413759e-09)"
      ]
     },
     "execution_count": 216,
     "metadata": {},
     "output_type": "execute_result"
    }
   ],
   "source": [
    "from scipy.stats import chisquare\n",
    "chisquare(f_obs=purple_link_counts['n'], f_exp=hypothesezed['n'])"
   ]
  },
  {
   "cell_type": "code",
   "execution_count": 218,
   "id": "caf5ef94",
   "metadata": {},
   "outputs": [
    {
     "data": {
      "text/plain": [
       "True"
      ]
     },
     "execution_count": 218,
     "metadata": {},
     "output_type": "execute_result"
    }
   ],
   "source": [
    "pvalue=1.1261810719413759e-09\n",
    "pvalue <= alpha"
   ]
  },
  {
   "cell_type": "markdown",
   "id": "f925d1f6",
   "metadata": {},
   "source": [
    "> **We conclude that the sample distribution is different from the hypothesized distribution of proportions.**\n",
    "\n",
    "### Visualizing goodness of fit\n"
   ]
  },
  {
   "cell_type": "code",
   "execution_count": 220,
   "id": "61d67435",
   "metadata": {},
   "outputs": [
    {
     "data": {
      "text/html": [
       "<div>\n",
       "<style scoped>\n",
       "    .dataframe tbody tr th:only-of-type {\n",
       "        vertical-align: middle;\n",
       "    }\n",
       "\n",
       "    .dataframe tbody tr th {\n",
       "        vertical-align: top;\n",
       "    }\n",
       "\n",
       "    .dataframe thead th {\n",
       "        text-align: right;\n",
       "    }\n",
       "</style>\n",
       "<table border=\"1\" class=\"dataframe\">\n",
       "  <thead>\n",
       "    <tr style=\"text-align: right;\">\n",
       "      <th></th>\n",
       "      <th>vendor_inco_term</th>\n",
       "      <th>prop</th>\n",
       "    </tr>\n",
       "  </thead>\n",
       "  <tbody>\n",
       "    <tr>\n",
       "      <th>0</th>\n",
       "      <td>EXW</td>\n",
       "      <td>0.75</td>\n",
       "    </tr>\n",
       "    <tr>\n",
       "      <th>1</th>\n",
       "      <td>CIP</td>\n",
       "      <td>0.05</td>\n",
       "    </tr>\n",
       "    <tr>\n",
       "      <th>2</th>\n",
       "      <td>DDP</td>\n",
       "      <td>0.10</td>\n",
       "    </tr>\n",
       "    <tr>\n",
       "      <th>3</th>\n",
       "      <td>FCA</td>\n",
       "      <td>0.10</td>\n",
       "    </tr>\n",
       "  </tbody>\n",
       "</table>\n",
       "</div>"
      ],
      "text/plain": [
       "  vendor_inco_term  prop\n",
       "0              EXW  0.75\n",
       "1              CIP  0.05\n",
       "2              DDP  0.10\n",
       "3              FCA  0.10"
      ]
     },
     "execution_count": 220,
     "metadata": {},
     "output_type": "execute_result"
    }
   ],
   "source": [
    "hypothesized = pd.DataFrame({'vendor_inco_term': {0: 'EXW', 1: 'CIP', 2: 'DDP', 3: 'FCA'},\n",
    " 'prop': {0: 0.75, 1: 0.05, 2: 0.1, 3: 0.1}})\n",
    "hypothesized"
   ]
  },
  {
   "cell_type": "code",
   "execution_count": 243,
   "id": "45195d86",
   "metadata": {},
   "outputs": [
    {
     "data": {
      "text/html": [
       "<div>\n",
       "<style scoped>\n",
       "    .dataframe tbody tr th:only-of-type {\n",
       "        vertical-align: middle;\n",
       "    }\n",
       "\n",
       "    .dataframe tbody tr th {\n",
       "        vertical-align: top;\n",
       "    }\n",
       "\n",
       "    .dataframe thead th {\n",
       "        text-align: right;\n",
       "    }\n",
       "</style>\n",
       "<table border=\"1\" class=\"dataframe\">\n",
       "  <thead>\n",
       "    <tr style=\"text-align: right;\">\n",
       "      <th></th>\n",
       "      <th>vendor_inco_term</th>\n",
       "      <th>n</th>\n",
       "    </tr>\n",
       "  </thead>\n",
       "  <tbody>\n",
       "    <tr>\n",
       "      <th>0</th>\n",
       "      <td>EXW</td>\n",
       "      <td>732</td>\n",
       "    </tr>\n",
       "    <tr>\n",
       "      <th>1</th>\n",
       "      <td>FCA</td>\n",
       "      <td>111</td>\n",
       "    </tr>\n",
       "    <tr>\n",
       "      <th>2</th>\n",
       "      <td>DDP</td>\n",
       "      <td>100</td>\n",
       "    </tr>\n",
       "    <tr>\n",
       "      <th>3</th>\n",
       "      <td>CIP</td>\n",
       "      <td>56</td>\n",
       "    </tr>\n",
       "  </tbody>\n",
       "</table>\n",
       "</div>"
      ],
      "text/plain": [
       "  vendor_inco_term    n\n",
       "0              EXW  732\n",
       "1              FCA  111\n",
       "2              DDP  100\n",
       "3              CIP   56"
      ]
     },
     "execution_count": 243,
     "metadata": {},
     "output_type": "execute_result"
    }
   ],
   "source": [
    "incoterm_counts = pd.DataFrame({'vendor_inco_term': {0: 'EXW', 1: 'FCA', 2: 'DDP', 3: 'CIP'},'n': {0: 732, 1: 111, 2: 100, 3: 56}})\n",
    "incoterm_counts"
   ]
  },
  {
   "cell_type": "code",
   "execution_count": 219,
   "id": "f0872927",
   "metadata": {},
   "outputs": [
    {
     "name": "stdout",
     "output_type": "stream",
     "text": [
      "1000\n"
     ]
    }
   ],
   "source": [
    "# Find the number of rows in late_shipments\n",
    "n_total = len(late_shipments)\n",
    "\n",
    "# Print n_total\n",
    "print(n_total)"
   ]
  },
  {
   "cell_type": "code",
   "execution_count": 230,
   "id": "d0de8916",
   "metadata": {},
   "outputs": [
    {
     "data": {
      "text/html": [
       "<div>\n",
       "<style scoped>\n",
       "    .dataframe tbody tr th:only-of-type {\n",
       "        vertical-align: middle;\n",
       "    }\n",
       "\n",
       "    .dataframe tbody tr th {\n",
       "        vertical-align: top;\n",
       "    }\n",
       "\n",
       "    .dataframe thead th {\n",
       "        text-align: right;\n",
       "    }\n",
       "</style>\n",
       "<table border=\"1\" class=\"dataframe\">\n",
       "  <thead>\n",
       "    <tr style=\"text-align: right;\">\n",
       "      <th></th>\n",
       "      <th>vendor_inco_term</th>\n",
       "      <th>prop</th>\n",
       "      <th>n</th>\n",
       "    </tr>\n",
       "  </thead>\n",
       "  <tbody>\n",
       "    <tr>\n",
       "      <th>0</th>\n",
       "      <td>EXW</td>\n",
       "      <td>0.75</td>\n",
       "      <td>750.0</td>\n",
       "    </tr>\n",
       "    <tr>\n",
       "      <th>1</th>\n",
       "      <td>CIP</td>\n",
       "      <td>0.05</td>\n",
       "      <td>50.0</td>\n",
       "    </tr>\n",
       "    <tr>\n",
       "      <th>2</th>\n",
       "      <td>DDP</td>\n",
       "      <td>0.10</td>\n",
       "      <td>100.0</td>\n",
       "    </tr>\n",
       "    <tr>\n",
       "      <th>3</th>\n",
       "      <td>FCA</td>\n",
       "      <td>0.10</td>\n",
       "      <td>100.0</td>\n",
       "    </tr>\n",
       "  </tbody>\n",
       "</table>\n",
       "</div>"
      ],
      "text/plain": [
       "  vendor_inco_term  prop      n\n",
       "0              EXW  0.75  750.0\n",
       "1              CIP  0.05   50.0\n",
       "2              DDP  0.10  100.0\n",
       "3              FCA  0.10  100.0"
      ]
     },
     "execution_count": 230,
     "metadata": {},
     "output_type": "execute_result"
    }
   ],
   "source": [
    "# Create n column that is prop column * n_total\n",
    "hypothesized[\"n\"] = hypothesized[\"prop\"] * n_total\n",
    "hypothesized"
   ]
  },
  {
   "cell_type": "code",
   "execution_count": 236,
   "id": "2805ed16",
   "metadata": {},
   "outputs": [
    {
     "data": {
      "image/png": "[encoded data removed]",
      "text/plain": [
       "<Figure size 432x288 with 1 Axes>"
      ]
     },
     "metadata": {
      "needs_background": "light"
     },
     "output_type": "display_data"
    }
   ],
   "source": [
    "# Make a yellow bar graph of vendor_inco_term versus n\n",
    "plt.bar(incoterm_counts['vendor_inco_term'], incoterm_counts['n'], color=\"yellow\", alpha=0.5)\n",
    "\n",
    "# Add blue points for hypothesized counts\n",
    "plt.scatter(hypothesized['vendor_inco_term'], hypothesized['n'], color='blue')\n",
    "plt.show()"
   ]
  },
  {
   "cell_type": "code",
   "execution_count": 246,
   "id": "322e21d6",
   "metadata": {},
   "outputs": [
    {
     "data": {
      "text/plain": [
       "Index(['vendor_inco_term', 'prop', 'n'], dtype='object')"
      ]
     },
     "execution_count": 246,
     "metadata": {},
     "output_type": "execute_result"
    }
   ],
   "source": [
    "hypothesized.columns"
   ]
  },
  {
   "cell_type": "code",
   "execution_count": 247,
   "id": "458c9ab1",
   "metadata": {
    "scrolled": true
   },
   "outputs": [
    {
     "ename": "ValueError",
     "evalue": "For each axis slice, the sum of the observed frequencies must agree with the sum of the expected frequencies to a relative tolerance of 1e-08, but the percent differences are:\n0.001001001001001001",
     "output_type": "error",
     "traceback": [
      "\u001b[0;31m---------------------------------------------------------------------------\u001b[0m",
      "\u001b[0;31mValueError\u001b[0m                                Traceback (most recent call last)",
      "\u001b[0;32m/var/folders/4n/dll6nv094h5fm4m2lhzkmtd40000gn/T/ipykernel_11605/1929945102.py\u001b[0m in \u001b[0;36m<module>\u001b[0;34m\u001b[0m\n\u001b[1;32m      1\u001b[0m \u001b[0;31m# Perform a goodness of fit test on vendor_inco_term\u001b[0m\u001b[0;34m\u001b[0m\u001b[0;34m\u001b[0m\u001b[0m\n\u001b[0;32m----> 2\u001b[0;31m \u001b[0mchisquare\u001b[0m\u001b[0;34m(\u001b[0m\u001b[0mf_obs\u001b[0m\u001b[0;34m=\u001b[0m\u001b[0mincoterm_counts\u001b[0m\u001b[0;34m[\u001b[0m\u001b[0;34m'n'\u001b[0m\u001b[0;34m]\u001b[0m\u001b[0;34m,\u001b[0m \u001b[0mf_exp\u001b[0m\u001b[0;34m=\u001b[0m\u001b[0mhypothesized\u001b[0m\u001b[0;34m[\u001b[0m\u001b[0;34m'n'\u001b[0m\u001b[0;34m]\u001b[0m\u001b[0;34m)\u001b[0m\u001b[0;34m\u001b[0m\u001b[0;34m\u001b[0m\u001b[0m\n\u001b[0m",
      "\u001b[0;32m/opt/miniconda3/lib/python3.9/site-packages/scipy/stats/stats.py\u001b[0m in \u001b[0;36mchisquare\u001b[0;34m(f_obs, f_exp, ddof, axis)\u001b[0m\n\u001b[1;32m   6850\u001b[0m \u001b[0;34m\u001b[0m\u001b[0m\n\u001b[1;32m   6851\u001b[0m     \"\"\"\n\u001b[0;32m-> 6852\u001b[0;31m     return power_divergence(f_obs, f_exp=f_exp, ddof=ddof, axis=axis,\n\u001b[0m\u001b[1;32m   6853\u001b[0m                             lambda_=\"pearson\")\n\u001b[1;32m   6854\u001b[0m \u001b[0;34m\u001b[0m\u001b[0m\n",
      "\u001b[0;32m/opt/miniconda3/lib/python3.9/site-packages/scipy/stats/stats.py\u001b[0m in \u001b[0;36mpower_divergence\u001b[0;34m(f_obs, f_exp, ddof, axis, lambda_)\u001b[0m\n\u001b[1;32m   6692\u001b[0m                    \u001b[0;34mf\"of {rtol}, but the percent differences are:\\n\"\u001b[0m\u001b[0;34m\u001b[0m\u001b[0;34m\u001b[0m\u001b[0m\n\u001b[1;32m   6693\u001b[0m                    f\"{relative_diff}\")\n\u001b[0;32m-> 6694\u001b[0;31m             \u001b[0;32mraise\u001b[0m \u001b[0mValueError\u001b[0m\u001b[0;34m(\u001b[0m\u001b[0mmsg\u001b[0m\u001b[0;34m)\u001b[0m\u001b[0;34m\u001b[0m\u001b[0;34m\u001b[0m\u001b[0m\n\u001b[0m\u001b[1;32m   6695\u001b[0m \u001b[0;34m\u001b[0m\u001b[0m\n\u001b[1;32m   6696\u001b[0m     \u001b[0;32melse\u001b[0m\u001b[0;34m:\u001b[0m\u001b[0;34m\u001b[0m\u001b[0;34m\u001b[0m\u001b[0m\n",
      "\u001b[0;31mValueError\u001b[0m: For each axis slice, the sum of the observed frequencies must agree with the sum of the expected frequencies to a relative tolerance of 1e-08, but the percent differences are:\n0.001001001001001001"
     ]
    }
   ],
   "source": [
    "# Perform a goodness of fit test on vendor_inco_term\n",
    "chisquare(f_obs=incoterm_counts['n'], f_exp=hypothesized['n'])"
   ]
  },
  {
   "cell_type": "code",
   "execution_count": 249,
   "id": "48c87dd4",
   "metadata": {},
   "outputs": [
    {
     "data": {
      "text/plain": [
       "True"
      ]
     },
     "execution_count": 249,
     "metadata": {},
     "output_type": "execute_result"
    }
   ],
   "source": [
    "pvalue = 2.6037864328450376e-20\n",
    "alpha = 0.1\n",
    "pvalue <= alpha"
   ]
  },
  {
   "cell_type": "markdown",
   "id": "94ef67d1",
   "metadata": {},
   "source": [
    "> Reject the null hypothesis and conclude that vendor_inco_term does not follow the distribution specified by hypothesized_props.\n",
    "\n",
    "**The test to compare the proportions of a categorical variable to a hypothesized distribution is called a chi-square goodness of fit test.**\n",
    "\n",
    "# 4. Time to Define the Relationship\n",
    "## What do you assume?\n",
    "\n",
    "### Randomness\n",
    "**Assumtion**\n",
    "> The samples are radom subsets of larger populations.\n",
    "\n",
    "**Consecuence**\n",
    "> Sample is not representative of population.\n",
    "\n",
    "**How to check this**\n",
    "> Understand how your data was collected.\n",
    "\n",
    "> Speak to the data collector/domain expert.\n",
    "\n",
    "### Idependence of variables\n",
    "**Assumtion**\n",
    "> Each observation or row in the data set is independent.\n",
    "\n",
    "**Consecuence**\n",
    "> Increase chance of false negative/positive errors.\n",
    "\n",
    "**How to check this**\n",
    "> Understand how our data was collected.\n",
    "\n",
    "\n",
    "### Large sample size\n",
    "**Assumtion**\n",
    "> The sample is big enough to mitigate uncertainty, so that the Central Limit Theorem applies.\n",
    "\n",
    "**Consecuence**\n",
    "> Wider confidence intervals.\n",
    "\n",
    "> Increased chance of false negative/positive errors. \n",
    "\n",
    "**How to check this**\n",
    "> It depends on the test.\n",
    "\n",
    "### Sample size t-test\n",
    "\n",
    "**One sample**\n",
    "\n",
    "> $n >= 30$\n",
    "\n",
    "\n",
    "**Two samples**\n",
    "\n",
    "> $n_{1} >= 30, n_{2} >= 30$\n",
    "\n",
    "**Paired samples**\n",
    "\n",
    "> Number of rows in our data  $>= 30$\n",
    "\n",
    "**ANOVA**\n",
    "\n",
    "> $n_{i} >= 30$ for all values if \"i\"\n",
    "\n",
    "\n",
    "### Sample size proportion tests\n",
    "\n",
    "**One sample**\n",
    "\n",
    "> **Number of successes in sample: $n * p >= 10$**\n",
    "> **Number of failures in sample: $n * (1 - p) >= 10$**\n",
    "\n",
    "**Two samples**\n",
    "\n",
    "> **Number of successes in sample:** \n",
    "\n",
    "$n_{1} * \\hat{p}_{1}>= 10$\n",
    "\n",
    "$n_{2} * \\hat{p}_{2}>= 10$\n",
    "    \n",
    "> **Number of failures in sample:** \n",
    "\n",
    "$n_{1} * (1 - \\hat{p}_{1}) >= 10$\n",
    "\n",
    "$n_{2} * (1 - \\hat{p}_{2}) >= 10$\n",
    "\n",
    "\n",
    "### Sample size: Chi-square tests\n",
    "\n",
    "> **Number of successes in sample:** \n",
    "\n",
    "$n_{i} * \\hat{p}_{i}>= 5$\n",
    "\n",
    "> **Number of failures in sample:** \n",
    "\n",
    "$n_{i} * (1 - \\hat{p}_{i}) >= 5$"
   ]
  },
  {
   "cell_type": "markdown",
   "id": "1fb4435a",
   "metadata": {},
   "source": [
    "### Sanity check \n",
    "\n",
    "> If the bootstrap distribution does NOT look normal, assumptions likely are not valid.\n",
    "\n",
    "**Revisit the data collection to check for randomness, independence, and sample size.**\n",
    "\n",
    "### Common assumptions of hypothesis tests\n",
    "\n",
    "Hypothesis tests make assumptions about the dataset that they are testing, and the conclusions you draw from the test results are only valid if those assumptions hold. While some assumptions differ between types of test, others are common to all hypothesis tests.\n",
    "\n",
    "**All hypothesis tests assume that the data are collected at random from the population, that each row is independent of the others, and that the sample size is \"big enough\".**"
   ]
  },
  {
   "cell_type": "markdown",
   "id": "024aaf12",
   "metadata": {},
   "source": [
    "### Testing sample size\n",
    "\n",
    "#### two sample t-tests"
   ]
  },
  {
   "cell_type": "code",
   "execution_count": 250,
   "id": "ac3ae26b",
   "metadata": {},
   "outputs": [
    {
     "name": "stdout",
     "output_type": "stream",
     "text": [
      "expensive     531\n",
      "reasonable    455\n",
      "Name: freight_cost_groups, dtype: int64\n",
      "True\n"
     ]
    }
   ],
   "source": [
    "# Count the freight_cost_group values\n",
    "counts = late_shipments['freight_cost_groups'].value_counts()\n",
    "\n",
    "# Print the result\n",
    "print(counts)\n",
    "\n",
    "# Inspect whether the counts are big enough\n",
    "print((counts >= 30).all())"
   ]
  },
  {
   "cell_type": "markdown",
   "id": "e9c5075d",
   "metadata": {},
   "source": [
    "#### one sample proportion test"
   ]
  },
  {
   "cell_type": "code",
   "execution_count": null,
   "id": "f03c1498",
   "metadata": {},
   "outputs": [],
   "source": [
    "# Count the late values\n",
    "counts = late_shipments['late'].value_counts()\n",
    "\n",
    "# Print the result\n",
    "print(counts)\n",
    "\n",
    "# Inspect whether the counts are big enough\n",
    "print((counts >= 10).all())"
   ]
  },
  {
   "cell_type": "markdown",
   "id": "94594bf4",
   "metadata": {},
   "source": [
    "#### chi-square independence test."
   ]
  },
  {
   "cell_type": "code",
   "execution_count": 254,
   "id": "f6abd0a7",
   "metadata": {},
   "outputs": [
    {
     "name": "stdout",
     "output_type": "stream",
     "text": [
      "vendor_inco_term  freight_cost_groups\n",
      "CIP               reasonable              34\n",
      "                  expensive               16\n",
      "DDP               expensive               55\n",
      "                  reasonable              45\n",
      "DDU               reasonable               1\n",
      "EXW               expensive              423\n",
      "                  reasonable             302\n",
      "FCA               reasonable              73\n",
      "                  expensive               37\n",
      "Name: freight_cost_groups, dtype: int64\n",
      "False\n"
     ]
    }
   ],
   "source": [
    "# Count the values of freight_cost_group grouped by vendor_inco_term\n",
    "counts = late_shipments.groupby('vendor_inco_term')['freight_cost_groups'].value_counts()\n",
    "\n",
    "# Print the result\n",
    "print(counts)\n",
    "\n",
    "# Inspect whether the counts are big enough\n",
    "print((counts >= 5).all())"
   ]
  },
  {
   "cell_type": "markdown",
   "id": "c21e4938",
   "metadata": {},
   "source": [
    "#### ANOVA test."
   ]
  },
  {
   "cell_type": "code",
   "execution_count": 255,
   "id": "e30030c1",
   "metadata": {},
   "outputs": [
    {
     "name": "stdout",
     "output_type": "stream",
     "text": [
      "Air            906\n",
      "Ocean           88\n",
      "Air Charter      6\n",
      "Name: shipment_mode, dtype: int64\n",
      "False\n"
     ]
    }
   ],
   "source": [
    "# Count the shipment_mode values\n",
    "counts = late_shipments['shipment_mode'].value_counts()\n",
    "\n",
    "# Print the result\n",
    "print(counts)\n",
    "\n",
    "# Inspect whether the counts are big enough\n",
    "print((counts >= 30).all())"
   ]
  },
  {
   "cell_type": "markdown",
   "id": "32490d74",
   "metadata": {},
   "source": [
    "> While randomness and independence of observations can't easily be tested programmatically, you can test that your sample sizes are big enough to make a hypothesis test appropriate. Based on the last result, we should be a little cautious of the ANOVA test results given the small sample size for Air Charter."
   ]
  },
  {
   "cell_type": "markdown",
   "id": "9bba3933",
   "metadata": {},
   "source": [
    "## Assumptions not met\n",
    "\n",
    "\n",
    "#### Parametic tests\n",
    "\n",
    "> Assume a normal distribution\n",
    "\n",
    "**z-test, t-test, ANOVA**\n"
   ]
  },
  {
   "cell_type": "code",
   "execution_count": 256,
   "id": "ab4e7eda",
   "metadata": {},
   "outputs": [
    {
     "data": {
      "text/html": [
       "<div>\n",
       "<style scoped>\n",
       "    .dataframe tbody tr th:only-of-type {\n",
       "        vertical-align: middle;\n",
       "    }\n",
       "\n",
       "    .dataframe tbody tr th {\n",
       "        vertical-align: top;\n",
       "    }\n",
       "\n",
       "    .dataframe thead th {\n",
       "        text-align: right;\n",
       "    }\n",
       "</style>\n",
       "<table border=\"1\" class=\"dataframe\">\n",
       "  <thead>\n",
       "    <tr style=\"text-align: right;\">\n",
       "      <th></th>\n",
       "      <th>state</th>\n",
       "      <th>county</th>\n",
       "      <th>repub_percent_08</th>\n",
       "      <th>repub_percent_12</th>\n",
       "    </tr>\n",
       "  </thead>\n",
       "  <tbody>\n",
       "    <tr>\n",
       "      <th>0</th>\n",
       "      <td>Alabama</td>\n",
       "      <td>Hale</td>\n",
       "      <td>38.957877</td>\n",
       "      <td>37.139882</td>\n",
       "    </tr>\n",
       "    <tr>\n",
       "      <th>1</th>\n",
       "      <td>Arkansas</td>\n",
       "      <td>Nevada</td>\n",
       "      <td>56.726272</td>\n",
       "      <td>58.983452</td>\n",
       "    </tr>\n",
       "    <tr>\n",
       "      <th>2</th>\n",
       "      <td>California</td>\n",
       "      <td>Lake</td>\n",
       "      <td>38.896719</td>\n",
       "      <td>39.331367</td>\n",
       "    </tr>\n",
       "    <tr>\n",
       "      <th>3</th>\n",
       "      <td>California</td>\n",
       "      <td>Ventura</td>\n",
       "      <td>42.923190</td>\n",
       "      <td>45.250693</td>\n",
       "    </tr>\n",
       "    <tr>\n",
       "      <th>4</th>\n",
       "      <td>Colorado</td>\n",
       "      <td>Lincoln</td>\n",
       "      <td>74.522569</td>\n",
       "      <td>73.764757</td>\n",
       "    </tr>\n",
       "  </tbody>\n",
       "</table>\n",
       "</div>"
      ],
      "text/plain": [
       "        state   county  repub_percent_08  repub_percent_12\n",
       "0     Alabama     Hale         38.957877         37.139882\n",
       "1    Arkansas   Nevada         56.726272         58.983452\n",
       "2  California     Lake         38.896719         39.331367\n",
       "3  California  Ventura         42.923190         45.250693\n",
       "4    Colorado  Lincoln         74.522569         73.764757"
      ]
     },
     "execution_count": 256,
     "metadata": {},
     "output_type": "execute_result"
    }
   ],
   "source": [
    "repub_votes_small = pd.read_feather('repub_votes_potus_08_12.feather')\n",
    "repub_votes_small.head()"
   ]
  },
  {
   "cell_type": "code",
   "execution_count": 260,
   "id": "2ea49c1c",
   "metadata": {},
   "outputs": [
    {
     "data": {
      "text/html": [
       "<div>\n",
       "<style scoped>\n",
       "    .dataframe tbody tr th:only-of-type {\n",
       "        vertical-align: middle;\n",
       "    }\n",
       "\n",
       "    .dataframe tbody tr th {\n",
       "        vertical-align: top;\n",
       "    }\n",
       "\n",
       "    .dataframe thead th {\n",
       "        text-align: right;\n",
       "    }\n",
       "</style>\n",
       "<table border=\"1\" class=\"dataframe\">\n",
       "  <thead>\n",
       "    <tr style=\"text-align: right;\">\n",
       "      <th></th>\n",
       "      <th>T</th>\n",
       "      <th>dof</th>\n",
       "      <th>alternative</th>\n",
       "      <th>p-val</th>\n",
       "      <th>CI95%</th>\n",
       "      <th>cohen-d</th>\n",
       "      <th>BF10</th>\n",
       "      <th>power</th>\n",
       "    </tr>\n",
       "  </thead>\n",
       "  <tbody>\n",
       "    <tr>\n",
       "      <th>T-test</th>\n",
       "      <td>-5.601043</td>\n",
       "      <td>99</td>\n",
       "      <td>less</td>\n",
       "      <td>9.572537e-08</td>\n",
       "      <td>[-inf, -2.02]</td>\n",
       "      <td>0.217364</td>\n",
       "      <td>1.323e+05</td>\n",
       "      <td>0.696338</td>\n",
       "    </tr>\n",
       "  </tbody>\n",
       "</table>\n",
       "</div>"
      ],
      "text/plain": [
       "               T  dof alternative         p-val          CI95%   cohen-d  \\\n",
       "T-test -5.601043   99        less  9.572537e-08  [-inf, -2.02]  0.217364   \n",
       "\n",
       "             BF10     power  \n",
       "T-test  1.323e+05  0.696338  "
      ]
     },
     "execution_count": 260,
     "metadata": {},
     "output_type": "execute_result"
    }
   ],
   "source": [
    "alpha = 0.01\n",
    "\n",
    "pingouin.ttest(x=repub_votes_small['repub_percent_08'], \n",
    "               y=repub_votes_small['repub_percent_12'], paired=True, alternative=\"less\")"
   ]
  },
  {
   "cell_type": "markdown",
   "id": "24b611dd",
   "metadata": {},
   "source": [
    "#### Non-Parametric tests\n",
    "\n",
    "> Non-parametric tets use ranks of data."
   ]
  },
  {
   "cell_type": "code",
   "execution_count": 262,
   "id": "77ffb684",
   "metadata": {},
   "outputs": [
    {
     "data": {
      "text/plain": [
       "array([1., 5., 2., 4., 3.])"
      ]
     },
     "execution_count": 262,
     "metadata": {},
     "output_type": "execute_result"
    }
   ],
   "source": [
    "x = [1,15,3,10,6]\n",
    "\n",
    "from scipy.stats import rankdata\n",
    "rankdata(x)"
   ]
  },
  {
   "cell_type": "markdown",
   "id": "1c556dad",
   "metadata": {},
   "source": [
    "**Non-parametric tests are more reliable than parametric tests from small samples sizes and when data is not normally distributed.**\n",
    "### Wilcoxon-signed rank test\n",
    "\n",
    "#### Step 1\n",
    "\n",
    "**Works on the ranked absolute differences between the pairs of data.**\n"
   ]
  },
  {
   "cell_type": "code",
   "execution_count": 270,
   "id": "76754e8a",
   "metadata": {},
   "outputs": [],
   "source": [
    "repub_votes_small = repub_votes_small.sample(5)"
   ]
  },
  {
   "cell_type": "code",
   "execution_count": 271,
   "id": "10efe8b3",
   "metadata": {
    "scrolled": true
   },
   "outputs": [
    {
     "data": {
      "text/html": [
       "<div>\n",
       "<style scoped>\n",
       "    .dataframe tbody tr th:only-of-type {\n",
       "        vertical-align: middle;\n",
       "    }\n",
       "\n",
       "    .dataframe tbody tr th {\n",
       "        vertical-align: top;\n",
       "    }\n",
       "\n",
       "    .dataframe thead th {\n",
       "        text-align: right;\n",
       "    }\n",
       "</style>\n",
       "<table border=\"1\" class=\"dataframe\">\n",
       "  <thead>\n",
       "    <tr style=\"text-align: right;\">\n",
       "      <th></th>\n",
       "      <th>state</th>\n",
       "      <th>county</th>\n",
       "      <th>repub_percent_08</th>\n",
       "      <th>repub_percent_12</th>\n",
       "      <th>diff</th>\n",
       "      <th>abs_diff</th>\n",
       "      <th>rank_abs_diff</th>\n",
       "    </tr>\n",
       "  </thead>\n",
       "  <tbody>\n",
       "    <tr>\n",
       "      <th>98</th>\n",
       "      <td>Wyoming</td>\n",
       "      <td>Weston</td>\n",
       "      <td>76.684241</td>\n",
       "      <td>83.983328</td>\n",
       "      <td>-7.299087</td>\n",
       "      <td>7.299087</td>\n",
       "      <td>87.0</td>\n",
       "    </tr>\n",
       "    <tr>\n",
       "      <th>23</th>\n",
       "      <td>Iowa</td>\n",
       "      <td>Appanoose</td>\n",
       "      <td>49.967617</td>\n",
       "      <td>50.616493</td>\n",
       "      <td>-0.648877</td>\n",
       "      <td>0.648877</td>\n",
       "      <td>13.0</td>\n",
       "    </tr>\n",
       "    <tr>\n",
       "      <th>52</th>\n",
       "      <td>New Mexico</td>\n",
       "      <td>Dona Ana</td>\n",
       "      <td>40.513857</td>\n",
       "      <td>41.133342</td>\n",
       "      <td>-0.619486</td>\n",
       "      <td>0.619486</td>\n",
       "      <td>11.0</td>\n",
       "    </tr>\n",
       "    <tr>\n",
       "      <th>83</th>\n",
       "      <td>Texas</td>\n",
       "      <td>Terrell</td>\n",
       "      <td>62.235067</td>\n",
       "      <td>64.504505</td>\n",
       "      <td>-2.269437</td>\n",
       "      <td>2.269437</td>\n",
       "      <td>43.0</td>\n",
       "    </tr>\n",
       "    <tr>\n",
       "      <th>47</th>\n",
       "      <td>Missouri</td>\n",
       "      <td>Putnam</td>\n",
       "      <td>68.020522</td>\n",
       "      <td>72.455608</td>\n",
       "      <td>-4.435087</td>\n",
       "      <td>4.435087</td>\n",
       "      <td>68.0</td>\n",
       "    </tr>\n",
       "  </tbody>\n",
       "</table>\n",
       "</div>"
      ],
      "text/plain": [
       "         state     county  repub_percent_08  repub_percent_12      diff  \\\n",
       "98     Wyoming     Weston         76.684241         83.983328 -7.299087   \n",
       "23        Iowa  Appanoose         49.967617         50.616493 -0.648877   \n",
       "52  New Mexico   Dona Ana         40.513857         41.133342 -0.619486   \n",
       "83       Texas    Terrell         62.235067         64.504505 -2.269437   \n",
       "47    Missouri     Putnam         68.020522         72.455608 -4.435087   \n",
       "\n",
       "    abs_diff  rank_abs_diff  \n",
       "98  7.299087           87.0  \n",
       "23  0.648877           13.0  \n",
       "52  0.619486           11.0  \n",
       "83  2.269437           43.0  \n",
       "47  4.435087           68.0  "
      ]
     },
     "execution_count": 271,
     "metadata": {},
     "output_type": "execute_result"
    }
   ],
   "source": [
    "repub_votes_small['diff'] = repub_votes_small['repub_percent_08'] - repub_votes_small['repub_percent_12']\n",
    "repub_votes_small"
   ]
  },
  {
   "cell_type": "markdown",
   "id": "49fcf1c4",
   "metadata": {},
   "source": [
    "#### Step 2\n"
   ]
  },
  {
   "cell_type": "code",
   "execution_count": 272,
   "id": "18e9b8c6",
   "metadata": {},
   "outputs": [
    {
     "data": {
      "text/html": [
       "<div>\n",
       "<style scoped>\n",
       "    .dataframe tbody tr th:only-of-type {\n",
       "        vertical-align: middle;\n",
       "    }\n",
       "\n",
       "    .dataframe tbody tr th {\n",
       "        vertical-align: top;\n",
       "    }\n",
       "\n",
       "    .dataframe thead th {\n",
       "        text-align: right;\n",
       "    }\n",
       "</style>\n",
       "<table border=\"1\" class=\"dataframe\">\n",
       "  <thead>\n",
       "    <tr style=\"text-align: right;\">\n",
       "      <th></th>\n",
       "      <th>state</th>\n",
       "      <th>county</th>\n",
       "      <th>repub_percent_08</th>\n",
       "      <th>repub_percent_12</th>\n",
       "      <th>diff</th>\n",
       "      <th>abs_diff</th>\n",
       "      <th>rank_abs_diff</th>\n",
       "    </tr>\n",
       "  </thead>\n",
       "  <tbody>\n",
       "    <tr>\n",
       "      <th>98</th>\n",
       "      <td>Wyoming</td>\n",
       "      <td>Weston</td>\n",
       "      <td>76.684241</td>\n",
       "      <td>83.983328</td>\n",
       "      <td>-7.299087</td>\n",
       "      <td>7.299087</td>\n",
       "      <td>87.0</td>\n",
       "    </tr>\n",
       "    <tr>\n",
       "      <th>23</th>\n",
       "      <td>Iowa</td>\n",
       "      <td>Appanoose</td>\n",
       "      <td>49.967617</td>\n",
       "      <td>50.616493</td>\n",
       "      <td>-0.648877</td>\n",
       "      <td>0.648877</td>\n",
       "      <td>13.0</td>\n",
       "    </tr>\n",
       "    <tr>\n",
       "      <th>52</th>\n",
       "      <td>New Mexico</td>\n",
       "      <td>Dona Ana</td>\n",
       "      <td>40.513857</td>\n",
       "      <td>41.133342</td>\n",
       "      <td>-0.619486</td>\n",
       "      <td>0.619486</td>\n",
       "      <td>11.0</td>\n",
       "    </tr>\n",
       "    <tr>\n",
       "      <th>83</th>\n",
       "      <td>Texas</td>\n",
       "      <td>Terrell</td>\n",
       "      <td>62.235067</td>\n",
       "      <td>64.504505</td>\n",
       "      <td>-2.269437</td>\n",
       "      <td>2.269437</td>\n",
       "      <td>43.0</td>\n",
       "    </tr>\n",
       "    <tr>\n",
       "      <th>47</th>\n",
       "      <td>Missouri</td>\n",
       "      <td>Putnam</td>\n",
       "      <td>68.020522</td>\n",
       "      <td>72.455608</td>\n",
       "      <td>-4.435087</td>\n",
       "      <td>4.435087</td>\n",
       "      <td>68.0</td>\n",
       "    </tr>\n",
       "  </tbody>\n",
       "</table>\n",
       "</div>"
      ],
      "text/plain": [
       "         state     county  repub_percent_08  repub_percent_12      diff  \\\n",
       "98     Wyoming     Weston         76.684241         83.983328 -7.299087   \n",
       "23        Iowa  Appanoose         49.967617         50.616493 -0.648877   \n",
       "52  New Mexico   Dona Ana         40.513857         41.133342 -0.619486   \n",
       "83       Texas    Terrell         62.235067         64.504505 -2.269437   \n",
       "47    Missouri     Putnam         68.020522         72.455608 -4.435087   \n",
       "\n",
       "    abs_diff  rank_abs_diff  \n",
       "98  7.299087           87.0  \n",
       "23  0.648877           13.0  \n",
       "52  0.619486           11.0  \n",
       "83  2.269437           43.0  \n",
       "47  4.435087           68.0  "
      ]
     },
     "execution_count": 272,
     "metadata": {},
     "output_type": "execute_result"
    }
   ],
   "source": [
    "repub_votes_small['abs_diff'] = repub_votes_small['diff'].abs()\n",
    "repub_votes_small"
   ]
  },
  {
   "cell_type": "markdown",
   "id": "e8aa9250",
   "metadata": {},
   "source": [
    "#### Step 3"
   ]
  },
  {
   "cell_type": "code",
   "execution_count": 273,
   "id": "8eafd569",
   "metadata": {},
   "outputs": [
    {
     "data": {
      "text/html": [
       "<div>\n",
       "<style scoped>\n",
       "    .dataframe tbody tr th:only-of-type {\n",
       "        vertical-align: middle;\n",
       "    }\n",
       "\n",
       "    .dataframe tbody tr th {\n",
       "        vertical-align: top;\n",
       "    }\n",
       "\n",
       "    .dataframe thead th {\n",
       "        text-align: right;\n",
       "    }\n",
       "</style>\n",
       "<table border=\"1\" class=\"dataframe\">\n",
       "  <thead>\n",
       "    <tr style=\"text-align: right;\">\n",
       "      <th></th>\n",
       "      <th>state</th>\n",
       "      <th>county</th>\n",
       "      <th>repub_percent_08</th>\n",
       "      <th>repub_percent_12</th>\n",
       "      <th>diff</th>\n",
       "      <th>abs_diff</th>\n",
       "      <th>rank_abs_diff</th>\n",
       "    </tr>\n",
       "  </thead>\n",
       "  <tbody>\n",
       "    <tr>\n",
       "      <th>98</th>\n",
       "      <td>Wyoming</td>\n",
       "      <td>Weston</td>\n",
       "      <td>76.684241</td>\n",
       "      <td>83.983328</td>\n",
       "      <td>-7.299087</td>\n",
       "      <td>7.299087</td>\n",
       "      <td>5.0</td>\n",
       "    </tr>\n",
       "    <tr>\n",
       "      <th>23</th>\n",
       "      <td>Iowa</td>\n",
       "      <td>Appanoose</td>\n",
       "      <td>49.967617</td>\n",
       "      <td>50.616493</td>\n",
       "      <td>-0.648877</td>\n",
       "      <td>0.648877</td>\n",
       "      <td>2.0</td>\n",
       "    </tr>\n",
       "    <tr>\n",
       "      <th>52</th>\n",
       "      <td>New Mexico</td>\n",
       "      <td>Dona Ana</td>\n",
       "      <td>40.513857</td>\n",
       "      <td>41.133342</td>\n",
       "      <td>-0.619486</td>\n",
       "      <td>0.619486</td>\n",
       "      <td>1.0</td>\n",
       "    </tr>\n",
       "    <tr>\n",
       "      <th>83</th>\n",
       "      <td>Texas</td>\n",
       "      <td>Terrell</td>\n",
       "      <td>62.235067</td>\n",
       "      <td>64.504505</td>\n",
       "      <td>-2.269437</td>\n",
       "      <td>2.269437</td>\n",
       "      <td>3.0</td>\n",
       "    </tr>\n",
       "    <tr>\n",
       "      <th>47</th>\n",
       "      <td>Missouri</td>\n",
       "      <td>Putnam</td>\n",
       "      <td>68.020522</td>\n",
       "      <td>72.455608</td>\n",
       "      <td>-4.435087</td>\n",
       "      <td>4.435087</td>\n",
       "      <td>4.0</td>\n",
       "    </tr>\n",
       "  </tbody>\n",
       "</table>\n",
       "</div>"
      ],
      "text/plain": [
       "         state     county  repub_percent_08  repub_percent_12      diff  \\\n",
       "98     Wyoming     Weston         76.684241         83.983328 -7.299087   \n",
       "23        Iowa  Appanoose         49.967617         50.616493 -0.648877   \n",
       "52  New Mexico   Dona Ana         40.513857         41.133342 -0.619486   \n",
       "83       Texas    Terrell         62.235067         64.504505 -2.269437   \n",
       "47    Missouri     Putnam         68.020522         72.455608 -4.435087   \n",
       "\n",
       "    abs_diff  rank_abs_diff  \n",
       "98  7.299087            5.0  \n",
       "23  0.648877            2.0  \n",
       "52  0.619486            1.0  \n",
       "83  2.269437            3.0  \n",
       "47  4.435087            4.0  "
      ]
     },
     "execution_count": 273,
     "metadata": {},
     "output_type": "execute_result"
    }
   ],
   "source": [
    "from scipy.stats import rankdata\n",
    "\n",
    "repub_votes_small['rank_abs_diff'] = rankdata(repub_votes_small['abs_diff'])\n",
    "repub_votes_small"
   ]
  },
  {
   "cell_type": "markdown",
   "id": "efb35521",
   "metadata": {},
   "source": [
    "#### Step 4"
   ]
  },
  {
   "cell_type": "code",
   "execution_count": 267,
   "id": "513b1b09",
   "metadata": {},
   "outputs": [
    {
     "data": {
      "text/plain": [
       "0"
      ]
     },
     "execution_count": 267,
     "metadata": {},
     "output_type": "execute_result"
    }
   ],
   "source": [
    "T_minus = 1 + 4 + 5 + 2 + 3\n",
    "T_plus = 0\n",
    "\n",
    "W = np.min([T_minus, T_plus])\n",
    "W"
   ]
  },
  {
   "cell_type": "code",
   "execution_count": 274,
   "id": "6151ea8c",
   "metadata": {},
   "outputs": [
    {
     "data": {
      "text/html": [
       "<div>\n",
       "<style scoped>\n",
       "    .dataframe tbody tr th:only-of-type {\n",
       "        vertical-align: middle;\n",
       "    }\n",
       "\n",
       "    .dataframe tbody tr th {\n",
       "        vertical-align: top;\n",
       "    }\n",
       "\n",
       "    .dataframe thead th {\n",
       "        text-align: right;\n",
       "    }\n",
       "</style>\n",
       "<table border=\"1\" class=\"dataframe\">\n",
       "  <thead>\n",
       "    <tr style=\"text-align: right;\">\n",
       "      <th></th>\n",
       "      <th>W-val</th>\n",
       "      <th>alternative</th>\n",
       "      <th>p-val</th>\n",
       "      <th>RBC</th>\n",
       "      <th>CLES</th>\n",
       "    </tr>\n",
       "  </thead>\n",
       "  <tbody>\n",
       "    <tr>\n",
       "      <th>Wilcoxon</th>\n",
       "      <td>0.0</td>\n",
       "      <td>less</td>\n",
       "      <td>0.03125</td>\n",
       "      <td>-1.0</td>\n",
       "      <td>0.6</td>\n",
       "    </tr>\n",
       "  </tbody>\n",
       "</table>\n",
       "</div>"
      ],
      "text/plain": [
       "          W-val alternative    p-val  RBC  CLES\n",
       "Wilcoxon    0.0        less  0.03125 -1.0   0.6"
      ]
     },
     "execution_count": 274,
     "metadata": {},
     "output_type": "execute_result"
    }
   ],
   "source": [
    "alpha = 0.01\n",
    "pingouin.wilcoxon(x=repub_votes_small['repub_percent_08'], y=repub_votes_small['repub_percent_12'],\n",
    "                 alternative='less')\n"
   ]
  },
  {
   "cell_type": "code",
   "execution_count": 276,
   "id": "3d85d099",
   "metadata": {},
   "outputs": [
    {
     "data": {
      "text/plain": [
       "False"
      ]
     },
     "execution_count": 276,
     "metadata": {},
     "output_type": "execute_result"
    }
   ],
   "source": [
    "0.03125 <= alpha"
   ]
  },
  {
   "cell_type": "markdown",
   "id": "983f43f1",
   "metadata": {},
   "source": [
    "> Fail to reject $H_{0}$, since p value  > alpha\n",
    "\n",
    "**Which test is a parametric equivalent to the Wilcoxon signed-rank test?**\n",
    "\n",
    "**Paired t-test**\n",
    "### Wilcoxon signed-rank test\n",
    "##### paired t-test"
   ]
  },
  {
   "cell_type": "code",
   "execution_count": 279,
   "id": "30f59284",
   "metadata": {},
   "outputs": [
    {
     "data": {
      "text/html": [
       "<div>\n",
       "<style scoped>\n",
       "    .dataframe tbody tr th:only-of-type {\n",
       "        vertical-align: middle;\n",
       "    }\n",
       "\n",
       "    .dataframe tbody tr th {\n",
       "        vertical-align: top;\n",
       "    }\n",
       "\n",
       "    .dataframe thead th {\n",
       "        text-align: right;\n",
       "    }\n",
       "</style>\n",
       "<table border=\"1\" class=\"dataframe\">\n",
       "  <thead>\n",
       "    <tr style=\"text-align: right;\">\n",
       "      <th></th>\n",
       "      <th>T</th>\n",
       "      <th>dof</th>\n",
       "      <th>alternative</th>\n",
       "      <th>p-val</th>\n",
       "      <th>CI95%</th>\n",
       "      <th>cohen-d</th>\n",
       "      <th>BF10</th>\n",
       "      <th>power</th>\n",
       "    </tr>\n",
       "  </thead>\n",
       "  <tbody>\n",
       "    <tr>\n",
       "      <th>T-test</th>\n",
       "      <td>30.298384</td>\n",
       "      <td>499</td>\n",
       "      <td>greater</td>\n",
       "      <td>1.800317e-115</td>\n",
       "      <td>[6.46, inf]</td>\n",
       "      <td>0.454202</td>\n",
       "      <td>4.491e+111</td>\n",
       "      <td>1.0</td>\n",
       "    </tr>\n",
       "  </tbody>\n",
       "</table>\n",
       "</div>"
      ],
      "text/plain": [
       "                T  dof alternative          p-val        CI95%   cohen-d  \\\n",
       "T-test  30.298384  499     greater  1.800317e-115  [6.46, inf]  0.454202   \n",
       "\n",
       "              BF10  power  \n",
       "T-test  4.491e+111    1.0  "
      ]
     },
     "execution_count": 279,
     "metadata": {},
     "output_type": "execute_result"
    }
   ],
   "source": [
    "# Conduct a paired t-test on dem_percent_12 and dem_percent_16\n",
    "paired_test_results = pingouin.ttest(x=sample_dem_data['dem_percent_12'], \n",
    "               y=sample_dem_data['dem_percent_16'], paired=True, alternative=\"greater\") \n",
    "\n",
    "\n",
    "\n",
    "\n",
    "# Print paired t-test results\n",
    "paired_test_results"
   ]
  },
  {
   "cell_type": "markdown",
   "id": "a9c10892",
   "metadata": {},
   "source": [
    "##### Wilcoxon-signed rank test"
   ]
  },
  {
   "cell_type": "code",
   "execution_count": 281,
   "id": "3a571461",
   "metadata": {},
   "outputs": [
    {
     "data": {
      "text/html": [
       "<div>\n",
       "<style scoped>\n",
       "    .dataframe tbody tr th:only-of-type {\n",
       "        vertical-align: middle;\n",
       "    }\n",
       "\n",
       "    .dataframe tbody tr th {\n",
       "        vertical-align: top;\n",
       "    }\n",
       "\n",
       "    .dataframe thead th {\n",
       "        text-align: right;\n",
       "    }\n",
       "</style>\n",
       "<table border=\"1\" class=\"dataframe\">\n",
       "  <thead>\n",
       "    <tr style=\"text-align: right;\">\n",
       "      <th></th>\n",
       "      <th>W-val</th>\n",
       "      <th>alternative</th>\n",
       "      <th>p-val</th>\n",
       "      <th>RBC</th>\n",
       "      <th>CLES</th>\n",
       "    </tr>\n",
       "  </thead>\n",
       "  <tbody>\n",
       "    <tr>\n",
       "      <th>Wilcoxon</th>\n",
       "      <td>122849.0</td>\n",
       "      <td>greater</td>\n",
       "      <td>8.901980e-78</td>\n",
       "      <td>0.961661</td>\n",
       "      <td>0.644816</td>\n",
       "    </tr>\n",
       "  </tbody>\n",
       "</table>\n",
       "</div>"
      ],
      "text/plain": [
       "             W-val alternative         p-val       RBC      CLES\n",
       "Wilcoxon  122849.0     greater  8.901980e-78  0.961661  0.644816"
      ]
     },
     "execution_count": 281,
     "metadata": {},
     "output_type": "execute_result"
    }
   ],
   "source": [
    "# Conduct a Wilcoxon test on dem_percent_12 and dem_percent_16\n",
    "wilcoxon_test_results = pingouin.wilcoxon(x=sample_dem_data['dem_percent_12'], y=sample_dem_data['dem_percent_16'],\n",
    "                 alternative='greater')\n",
    "\n",
    "\n",
    "\n",
    "# Print Wilcoxon test results\n",
    "wilcoxon_test_results"
   ]
  },
  {
   "cell_type": "markdown",
   "id": "fa02a8cf",
   "metadata": {},
   "source": [
    "> **Given the large sample size (500), we obtained similar results here between the parametric t-test and non-parametric Wilcoxon test with a very small p-value.**"
   ]
  },
  {
   "cell_type": "markdown",
   "id": "e81f9430",
   "metadata": {},
   "source": [
    "### Wilcoxon-Mann-Whitney test\n",
    "**Similar to Wilcoxon-signed rank test but works on unpaired data.**"
   ]
  },
  {
   "cell_type": "code",
   "execution_count": 283,
   "id": "1bb1220c",
   "metadata": {},
   "outputs": [
    {
     "data": {
      "text/html": [
       "<div>\n",
       "<style scoped>\n",
       "    .dataframe tbody tr th:only-of-type {\n",
       "        vertical-align: middle;\n",
       "    }\n",
       "\n",
       "    .dataframe tbody tr th {\n",
       "        vertical-align: top;\n",
       "    }\n",
       "\n",
       "    .dataframe thead th {\n",
       "        text-align: right;\n",
       "    }\n",
       "</style>\n",
       "<table border=\"1\" class=\"dataframe\">\n",
       "  <thead>\n",
       "    <tr style=\"text-align: right;\">\n",
       "      <th></th>\n",
       "      <th>converted_comp</th>\n",
       "      <th>age_first_code_cut</th>\n",
       "    </tr>\n",
       "  </thead>\n",
       "  <tbody>\n",
       "    <tr>\n",
       "      <th>0</th>\n",
       "      <td>77556.0</td>\n",
       "      <td>adult</td>\n",
       "    </tr>\n",
       "    <tr>\n",
       "      <th>1</th>\n",
       "      <td>74970.0</td>\n",
       "      <td>child</td>\n",
       "    </tr>\n",
       "    <tr>\n",
       "      <th>2</th>\n",
       "      <td>594539.0</td>\n",
       "      <td>child</td>\n",
       "    </tr>\n",
       "    <tr>\n",
       "      <th>3</th>\n",
       "      <td>2000000.0</td>\n",
       "      <td>adult</td>\n",
       "    </tr>\n",
       "    <tr>\n",
       "      <th>4</th>\n",
       "      <td>37816.0</td>\n",
       "      <td>adult</td>\n",
       "    </tr>\n",
       "  </tbody>\n",
       "</table>\n",
       "</div>"
      ],
      "text/plain": [
       "   converted_comp age_first_code_cut\n",
       "0         77556.0              adult\n",
       "1         74970.0              child\n",
       "2        594539.0              child\n",
       "3       2000000.0              adult\n",
       "4         37816.0              adult"
      ]
     },
     "execution_count": 283,
     "metadata": {},
     "output_type": "execute_result"
    }
   ],
   "source": [
    "age_vs_comp = stack_overflow[['converted_comp', 'age_first_code_cut']]\n",
    "age_vs_comp.head()"
   ]
  },
  {
   "cell_type": "code",
   "execution_count": 285,
   "id": "a1b9c034",
   "metadata": {
    "scrolled": true
   },
   "outputs": [
    {
     "data": {
      "text/html": [
       "<div>\n",
       "<style scoped>\n",
       "    .dataframe tbody tr th:only-of-type {\n",
       "        vertical-align: middle;\n",
       "    }\n",
       "\n",
       "    .dataframe tbody tr th {\n",
       "        vertical-align: top;\n",
       "    }\n",
       "\n",
       "    .dataframe thead th {\n",
       "        text-align: right;\n",
       "    }\n",
       "</style>\n",
       "<table border=\"1\" class=\"dataframe\">\n",
       "  <thead>\n",
       "    <tr style=\"text-align: right;\">\n",
       "      <th>age_first_code_cut</th>\n",
       "      <th>adult</th>\n",
       "      <th>child</th>\n",
       "    </tr>\n",
       "  </thead>\n",
       "  <tbody>\n",
       "    <tr>\n",
       "      <th>0</th>\n",
       "      <td>77556.0</td>\n",
       "      <td>NaN</td>\n",
       "    </tr>\n",
       "    <tr>\n",
       "      <th>1</th>\n",
       "      <td>NaN</td>\n",
       "      <td>74970.0</td>\n",
       "    </tr>\n",
       "    <tr>\n",
       "      <th>2</th>\n",
       "      <td>NaN</td>\n",
       "      <td>594539.0</td>\n",
       "    </tr>\n",
       "    <tr>\n",
       "      <th>3</th>\n",
       "      <td>2000000.0</td>\n",
       "      <td>NaN</td>\n",
       "    </tr>\n",
       "    <tr>\n",
       "      <th>4</th>\n",
       "      <td>37816.0</td>\n",
       "      <td>NaN</td>\n",
       "    </tr>\n",
       "  </tbody>\n",
       "</table>\n",
       "</div>"
      ],
      "text/plain": [
       "age_first_code_cut      adult     child\n",
       "0                     77556.0       NaN\n",
       "1                         NaN   74970.0\n",
       "2                         NaN  594539.0\n",
       "3                   2000000.0       NaN\n",
       "4                     37816.0       NaN"
      ]
     },
     "execution_count": 285,
     "metadata": {},
     "output_type": "execute_result"
    }
   ],
   "source": [
    "age_cs_comp_wide = age_vs_comp.pivot(columns='age_first_code_cut', values='converted_comp')\n",
    "age_cs_comp_wide.head()"
   ]
  },
  {
   "cell_type": "code",
   "execution_count": 288,
   "id": "55ccb58b",
   "metadata": {},
   "outputs": [
    {
     "data": {
      "text/html": [
       "<div>\n",
       "<style scoped>\n",
       "    .dataframe tbody tr th:only-of-type {\n",
       "        vertical-align: middle;\n",
       "    }\n",
       "\n",
       "    .dataframe tbody tr th {\n",
       "        vertical-align: top;\n",
       "    }\n",
       "\n",
       "    .dataframe thead th {\n",
       "        text-align: right;\n",
       "    }\n",
       "</style>\n",
       "<table border=\"1\" class=\"dataframe\">\n",
       "  <thead>\n",
       "    <tr style=\"text-align: right;\">\n",
       "      <th></th>\n",
       "      <th>U-val</th>\n",
       "      <th>alternative</th>\n",
       "      <th>p-val</th>\n",
       "      <th>RBC</th>\n",
       "      <th>CLES</th>\n",
       "    </tr>\n",
       "  </thead>\n",
       "  <tbody>\n",
       "    <tr>\n",
       "      <th>MWU</th>\n",
       "      <td>744365.5</td>\n",
       "      <td>greater</td>\n",
       "      <td>1.902723e-19</td>\n",
       "      <td>-0.222516</td>\n",
       "      <td>0.611258</td>\n",
       "    </tr>\n",
       "  </tbody>\n",
       "</table>\n",
       "</div>"
      ],
      "text/plain": [
       "        U-val alternative         p-val       RBC      CLES\n",
       "MWU  744365.5     greater  1.902723e-19 -0.222516  0.611258"
      ]
     },
     "execution_count": 288,
     "metadata": {},
     "output_type": "execute_result"
    }
   ],
   "source": [
    "alpha = 0.01\n",
    "\n",
    "pingouin.mwu(x=age_cs_comp_wide['child'], y=age_cs_comp_wide['adult'], alternative='greater')"
   ]
  },
  {
   "cell_type": "markdown",
   "id": "641ca976",
   "metadata": {},
   "source": [
    "### Kruskal-Wallis test\n",
    "\n",
    "**Tests as ANOVA is to t-test**"
   ]
  },
  {
   "cell_type": "code",
   "execution_count": 289,
   "id": "c1112199",
   "metadata": {},
   "outputs": [
    {
     "data": {
      "text/html": [
       "<div>\n",
       "<style scoped>\n",
       "    .dataframe tbody tr th:only-of-type {\n",
       "        vertical-align: middle;\n",
       "    }\n",
       "\n",
       "    .dataframe tbody tr th {\n",
       "        vertical-align: top;\n",
       "    }\n",
       "\n",
       "    .dataframe thead th {\n",
       "        text-align: right;\n",
       "    }\n",
       "</style>\n",
       "<table border=\"1\" class=\"dataframe\">\n",
       "  <thead>\n",
       "    <tr style=\"text-align: right;\">\n",
       "      <th></th>\n",
       "      <th>Source</th>\n",
       "      <th>ddof1</th>\n",
       "      <th>H</th>\n",
       "      <th>p-unc</th>\n",
       "    </tr>\n",
       "  </thead>\n",
       "  <tbody>\n",
       "    <tr>\n",
       "      <th>Kruskal</th>\n",
       "      <td>job_sat</td>\n",
       "      <td>4</td>\n",
       "      <td>72.814939</td>\n",
       "      <td>5.772915e-15</td>\n",
       "    </tr>\n",
       "  </tbody>\n",
       "</table>\n",
       "</div>"
      ],
      "text/plain": [
       "          Source  ddof1          H         p-unc\n",
       "Kruskal  job_sat      4  72.814939  5.772915e-15"
      ]
     },
     "execution_count": 289,
     "metadata": {},
     "output_type": "execute_result"
    }
   ],
   "source": [
    "pingouin.kruskal(data=stack_overflow, dv='converted_comp', between='job_sat')"
   ]
  },
  {
   "cell_type": "markdown",
   "id": "0372850c",
   "metadata": {},
   "source": [
    "### Wilcoxon-Mann-Whitney\n"
   ]
  },
  {
   "cell_type": "code",
   "execution_count": 291,
   "id": "0c5ea9d5",
   "metadata": {
    "scrolled": true
   },
   "outputs": [
    {
     "data": {
      "text/html": [
       "<div>\n",
       "<style scoped>\n",
       "    .dataframe tbody tr th:only-of-type {\n",
       "        vertical-align: middle;\n",
       "    }\n",
       "\n",
       "    .dataframe tbody tr th {\n",
       "        vertical-align: top;\n",
       "    }\n",
       "\n",
       "    .dataframe thead th {\n",
       "        text-align: right;\n",
       "    }\n",
       "</style>\n",
       "<table border=\"1\" class=\"dataframe\">\n",
       "  <thead>\n",
       "    <tr style=\"text-align: right;\">\n",
       "      <th></th>\n",
       "      <th>U-val</th>\n",
       "      <th>alternative</th>\n",
       "      <th>p-val</th>\n",
       "      <th>RBC</th>\n",
       "      <th>CLES</th>\n",
       "    </tr>\n",
       "  </thead>\n",
       "  <tbody>\n",
       "    <tr>\n",
       "      <th>MWU</th>\n",
       "      <td>19134.0</td>\n",
       "      <td>two-sided</td>\n",
       "      <td>0.000014</td>\n",
       "      <td>0.331902</td>\n",
       "      <td>0.334049</td>\n",
       "    </tr>\n",
       "  </tbody>\n",
       "</table>\n",
       "</div>"
      ],
      "text/plain": [
       "       U-val alternative     p-val       RBC      CLES\n",
       "MWU  19134.0   two-sided  0.000014  0.331902  0.334049"
      ]
     },
     "execution_count": 291,
     "metadata": {},
     "output_type": "execute_result"
    }
   ],
   "source": [
    "# Choose the weight_kilograms and late columns\n",
    "weight_vs_late = late_shipments[['weight_kilograms', 'late']]\n",
    "\n",
    "# Convert weight_vs_late into wide format\n",
    "weight_vs_late_wide = weight_vs_late.pivot(columns='late', values='weight_kilograms')\n",
    "\n",
    "\n",
    "# Run a two-sided Wilcoxon-Mann-Whitney test on weight_kilograms vs. late\n",
    "wmw_test = pingouin.mwu(x=weight_vs_late_wide['No'], y=weight_vs_late_wide['Yes'], alternative='two-sided')\n",
    "\n",
    "\n",
    "# Print the test resultsc\n",
    "wmw_test"
   ]
  },
  {
   "cell_type": "markdown",
   "id": "23979959",
   "metadata": {},
   "source": [
    "> The small p-value here leads us to suspect that a difference does exist in the weight of the shipment and whether or not it was late. The Wilcoxon-Mann-Whitney test is useful when you cannot satisfy the assumptions for a parametric test comparing two means, like the t-test."
   ]
  },
  {
   "cell_type": "markdown",
   "id": "8791f547",
   "metadata": {},
   "source": [
    "### Kruskal-Wallis\n"
   ]
  },
  {
   "cell_type": "code",
   "execution_count": 292,
   "id": "0e8f9b7d",
   "metadata": {
    "scrolled": true
   },
   "outputs": [
    {
     "data": {
      "text/html": [
       "<div>\n",
       "<style scoped>\n",
       "    .dataframe tbody tr th:only-of-type {\n",
       "        vertical-align: middle;\n",
       "    }\n",
       "\n",
       "    .dataframe tbody tr th {\n",
       "        vertical-align: top;\n",
       "    }\n",
       "\n",
       "    .dataframe thead th {\n",
       "        text-align: right;\n",
       "    }\n",
       "</style>\n",
       "<table border=\"1\" class=\"dataframe\">\n",
       "  <thead>\n",
       "    <tr style=\"text-align: right;\">\n",
       "      <th></th>\n",
       "      <th>Source</th>\n",
       "      <th>ddof1</th>\n",
       "      <th>H</th>\n",
       "      <th>p-unc</th>\n",
       "    </tr>\n",
       "  </thead>\n",
       "  <tbody>\n",
       "    <tr>\n",
       "      <th>Kruskal</th>\n",
       "      <td>shipment_mode</td>\n",
       "      <td>2</td>\n",
       "      <td>125.096618</td>\n",
       "      <td>6.848799e-28</td>\n",
       "    </tr>\n",
       "  </tbody>\n",
       "</table>\n",
       "</div>"
      ],
      "text/plain": [
       "                Source  ddof1           H         p-unc\n",
       "Kruskal  shipment_mode      2  125.096618  6.848799e-28"
      ]
     },
     "execution_count": 292,
     "metadata": {},
     "output_type": "execute_result"
    }
   ],
   "source": [
    "# Run a Kruskal-Wallis test on weight_kilograms vs. shipment_mode\n",
    "kw_test = pingouin.kruskal(data=late_shipments, dv='weight_kilograms', between='shipment_mode')\n",
    "\n",
    "# Print the results\n",
    "kw_test"
   ]
  },
  {
   "cell_type": "markdown",
   "id": "1984d5f0",
   "metadata": {},
   "source": [
    "> The Kruskal-Wallis test yielded a very small p-value, so there is evidence that at least one of the three groups of shipment mode has a different weight distribution than the others. Th Kruskal-Wallis test is comparable to an ANOVA, which tests for a difference in means across multiple groups."
   ]
  }
 ],
 "metadata": {
  "kernelspec": {
   "display_name": "Python 3 (ipykernel)",
   "language": "python",
   "name": "python3"
  },
  "language_info": {
   "codemirror_mode": {
    "name": "ipython",
    "version": 3
   },
   "file_extension": ".py",
   "mimetype": "text/x-python",
   "name": "python",
   "nbconvert_exporter": "python",
   "pygments_lexer": "ipython3",
   "version": "3.9.7"
  }
 },
 "nbformat": 4,
 "nbformat_minor": 5
}
